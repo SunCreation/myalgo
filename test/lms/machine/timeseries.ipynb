{
 "cells": [
  {
   "cell_type": "code",
   "execution_count": 1,
   "metadata": {},
   "outputs": [
    {
     "name": "stdout",
     "output_type": "stream",
     "text": [
      "1.4.2\n",
      "1.0.2\n",
      "0.13.2\n"
     ]
    }
   ],
   "source": [
    "import numpy as np\n",
    "import pandas as pd\n",
    "import matplotlib.pyplot as plt\n",
    "import sklearn\n",
    "import os\n",
    "import statsmodels\n",
    "from statsmodels.tsa.seasonal import seasonal_decompose\n",
    "print(pd.__version__)\n",
    "print(sklearn.__version__)\n",
    "print(statsmodels.__version__)"
   ]
  },
  {
   "cell_type": "code",
   "execution_count": 3,
   "metadata": {},
   "outputs": [
    {
     "data": {
      "text/html": [
       "<div>\n",
       "<style scoped>\n",
       "    .dataframe tbody tr th:only-of-type {\n",
       "        vertical-align: middle;\n",
       "    }\n",
       "\n",
       "    .dataframe tbody tr th {\n",
       "        vertical-align: top;\n",
       "    }\n",
       "\n",
       "    .dataframe thead th {\n",
       "        text-align: right;\n",
       "    }\n",
       "</style>\n",
       "<table border=\"1\" class=\"dataframe\">\n",
       "  <thead>\n",
       "    <tr style=\"text-align: right;\">\n",
       "      <th></th>\n",
       "      <th>Date</th>\n",
       "      <th>Open</th>\n",
       "      <th>High</th>\n",
       "      <th>Low</th>\n",
       "      <th>Close</th>\n",
       "      <th>Adj Close</th>\n",
       "      <th>Volume</th>\n",
       "    </tr>\n",
       "  </thead>\n",
       "  <tbody>\n",
       "    <tr>\n",
       "      <th>0</th>\n",
       "      <td>2021-04-28</td>\n",
       "      <td>83200.0</td>\n",
       "      <td>83200.0</td>\n",
       "      <td>82100.0</td>\n",
       "      <td>82100.0</td>\n",
       "      <td>80985.664063</td>\n",
       "      <td>15596759</td>\n",
       "    </tr>\n",
       "    <tr>\n",
       "      <th>1</th>\n",
       "      <td>2021-04-29</td>\n",
       "      <td>82400.0</td>\n",
       "      <td>82500.0</td>\n",
       "      <td>81500.0</td>\n",
       "      <td>81700.0</td>\n",
       "      <td>80591.093750</td>\n",
       "      <td>20000973</td>\n",
       "    </tr>\n",
       "    <tr>\n",
       "      <th>2</th>\n",
       "      <td>2021-04-30</td>\n",
       "      <td>81900.0</td>\n",
       "      <td>82100.0</td>\n",
       "      <td>81500.0</td>\n",
       "      <td>81500.0</td>\n",
       "      <td>80393.812500</td>\n",
       "      <td>18673197</td>\n",
       "    </tr>\n",
       "    <tr>\n",
       "      <th>3</th>\n",
       "      <td>2021-05-03</td>\n",
       "      <td>81000.0</td>\n",
       "      <td>82400.0</td>\n",
       "      <td>81000.0</td>\n",
       "      <td>81700.0</td>\n",
       "      <td>80591.093750</td>\n",
       "      <td>15710336</td>\n",
       "    </tr>\n",
       "    <tr>\n",
       "      <th>4</th>\n",
       "      <td>2021-05-04</td>\n",
       "      <td>81900.0</td>\n",
       "      <td>82600.0</td>\n",
       "      <td>81800.0</td>\n",
       "      <td>82600.0</td>\n",
       "      <td>81478.882813</td>\n",
       "      <td>12532550</td>\n",
       "    </tr>\n",
       "    <tr>\n",
       "      <th>...</th>\n",
       "      <td>...</td>\n",
       "      <td>...</td>\n",
       "      <td>...</td>\n",
       "      <td>...</td>\n",
       "      <td>...</td>\n",
       "      <td>...</td>\n",
       "      <td>...</td>\n",
       "    </tr>\n",
       "    <tr>\n",
       "      <th>242</th>\n",
       "      <td>2022-04-22</td>\n",
       "      <td>67200.0</td>\n",
       "      <td>67300.0</td>\n",
       "      <td>66700.0</td>\n",
       "      <td>67000.0</td>\n",
       "      <td>67000.000000</td>\n",
       "      <td>11791478</td>\n",
       "    </tr>\n",
       "    <tr>\n",
       "      <th>243</th>\n",
       "      <td>2022-04-25</td>\n",
       "      <td>66500.0</td>\n",
       "      <td>66700.0</td>\n",
       "      <td>66300.0</td>\n",
       "      <td>66300.0</td>\n",
       "      <td>66300.000000</td>\n",
       "      <td>11016474</td>\n",
       "    </tr>\n",
       "    <tr>\n",
       "      <th>244</th>\n",
       "      <td>2022-04-26</td>\n",
       "      <td>66400.0</td>\n",
       "      <td>66700.0</td>\n",
       "      <td>66100.0</td>\n",
       "      <td>66100.0</td>\n",
       "      <td>66100.000000</td>\n",
       "      <td>12946923</td>\n",
       "    </tr>\n",
       "    <tr>\n",
       "      <th>245</th>\n",
       "      <td>2022-04-27</td>\n",
       "      <td>65400.0</td>\n",
       "      <td>65500.0</td>\n",
       "      <td>64900.0</td>\n",
       "      <td>65000.0</td>\n",
       "      <td>65000.000000</td>\n",
       "      <td>18122084</td>\n",
       "    </tr>\n",
       "    <tr>\n",
       "      <th>246</th>\n",
       "      <td>2022-04-28</td>\n",
       "      <td>65400.0</td>\n",
       "      <td>65500.0</td>\n",
       "      <td>64500.0</td>\n",
       "      <td>64700.0</td>\n",
       "      <td>64700.000000</td>\n",
       "      <td>8392583</td>\n",
       "    </tr>\n",
       "  </tbody>\n",
       "</table>\n",
       "<p>247 rows × 7 columns</p>\n",
       "</div>"
      ],
      "text/plain": [
       "           Date     Open     High      Low    Close     Adj Close    Volume\n",
       "0    2021-04-28  83200.0  83200.0  82100.0  82100.0  80985.664063  15596759\n",
       "1    2021-04-29  82400.0  82500.0  81500.0  81700.0  80591.093750  20000973\n",
       "2    2021-04-30  81900.0  82100.0  81500.0  81500.0  80393.812500  18673197\n",
       "3    2021-05-03  81000.0  82400.0  81000.0  81700.0  80591.093750  15710336\n",
       "4    2021-05-04  81900.0  82600.0  81800.0  82600.0  81478.882813  12532550\n",
       "..          ...      ...      ...      ...      ...           ...       ...\n",
       "242  2022-04-22  67200.0  67300.0  66700.0  67000.0  67000.000000  11791478\n",
       "243  2022-04-25  66500.0  66700.0  66300.0  66300.0  66300.000000  11016474\n",
       "244  2022-04-26  66400.0  66700.0  66100.0  66100.0  66100.000000  12946923\n",
       "245  2022-04-27  65400.0  65500.0  64900.0  65000.0  65000.000000  18122084\n",
       "246  2022-04-28  65400.0  65500.0  64500.0  64700.0  64700.000000   8392583\n",
       "\n",
       "[247 rows x 7 columns]"
      ]
     },
     "execution_count": 3,
     "metadata": {},
     "output_type": "execute_result"
    }
   ],
   "source": [
    "filename = os.listdir('data')[0]\n",
    "ts = pd.read_csv('data/'+filename, parse_dates=True)\n",
    "ts"
   ]
  },
  {
   "cell_type": "code",
   "execution_count": 7,
   "metadata": {},
   "outputs": [
    {
     "data": {
      "text/plain": [
       "Index(['Date', 'Open', 'High', 'Low', 'Close', 'Adj Close', 'Volume'], dtype='object')"
      ]
     },
     "execution_count": 7,
     "metadata": {},
     "output_type": "execute_result"
    }
   ],
   "source": [
    "ts.columns"
   ]
  },
  {
   "cell_type": "code",
   "execution_count": 13,
   "metadata": {},
   "outputs": [
    {
     "ename": "TypeError",
     "evalue": "can only concatenate str (not \"int\") to str",
     "output_type": "error",
     "traceback": [
      "\u001b[0;31m---------------------------------------------------------------------------\u001b[0m",
      "\u001b[0;31mTypeError\u001b[0m                                 Traceback (most recent call last)",
      "\u001b[1;32m/home/hchang/Working/algorithm/myalgo/test/lms/machine/timeseries.ipynb Cell 4'\u001b[0m in \u001b[0;36m<cell line: 1>\u001b[0;34m()\u001b[0m\n\u001b[0;32m----> <a href='vscode-notebook-cell:/home/hchang/Working/algorithm/myalgo/test/lms/machine/timeseries.ipynb#ch0000003?line=0'>1</a>\u001b[0m ts[\u001b[39m'\u001b[39m\u001b[39mDate\u001b[39m\u001b[39m'\u001b[39m][\u001b[39m0\u001b[39m] \u001b[39m+\u001b[39m\u001b[39m=\u001b[39m \u001b[39m1\u001b[39m\n",
      "\u001b[0;31mTypeError\u001b[0m: can only concatenate str (not \"int\") to str"
     ]
    }
   ],
   "source": [
    "ts['Date'][0] += 1"
   ]
  }
 ],
 "metadata": {
  "interpreter": {
   "hash": "092767183cb03da6ed3f313548119bc9426a350fa7be41c2565ca0e1bc927587"
  },
  "kernelspec": {
   "display_name": "Python 3.8.10 ('deep': venv)",
   "language": "python",
   "name": "python3"
  },
  "language_info": {
   "codemirror_mode": {
    "name": "ipython",
    "version": 3
   },
   "file_extension": ".py",
   "mimetype": "text/x-python",
   "name": "python",
   "nbconvert_exporter": "python",
   "pygments_lexer": "ipython3",
   "version": "3.8.10"
  },
  "orig_nbformat": 4
 },
 "nbformat": 4,
 "nbformat_minor": 2
}
