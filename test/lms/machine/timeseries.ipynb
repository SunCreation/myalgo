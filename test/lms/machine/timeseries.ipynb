{
 "cells": [
  {
   "cell_type": "code",
   "execution_count": 86,
   "metadata": {},
   "outputs": [
    {
     "name": "stdout",
     "output_type": "stream",
     "text": [
      "1.4.2\n",
      "1.0.2\n",
      "0.13.2\n"
     ]
    }
   ],
   "source": [
    "import numpy as np\n",
    "import pandas as pd\n",
    "import matplotlib.pyplot as plt\n",
    "import sklearn\n",
    "import os\n",
    "import statsmodels\n",
    "from statsmodels.tsa.seasonal import seasonal_decompose\n",
    "from datetime import datetime\n",
    "import matplotlib.font_manager as fm\n",
    "fm.fontManager.ttflist = fm.FontManager().ttflist\n",
    "print(pd.__version__)\n",
    "print(sklearn.__version__)\n",
    "print(statsmodels.__version__)"
   ]
  },
  {
   "cell_type": "code",
   "execution_count": 91,
   "metadata": {},
   "outputs": [
    {
     "data": {
      "text/plain": [
       "['Nanum Brush Script',\n",
       " 'NanumBarunGothic',\n",
       " 'NanumMyeongjo Eco',\n",
       " 'NanumGothic Eco',\n",
       " 'NanumGothicCoding',\n",
       " 'NanumGothic',\n",
       " 'NanumSquare',\n",
       " 'NanumMyeongjo Eco',\n",
       " 'NanumMyeongjo',\n",
       " 'NanumSquareRound',\n",
       " 'NanumSquareRound',\n",
       " 'NanumGothicCoding',\n",
       " 'NanumGothic',\n",
       " 'NanumBarunGothic',\n",
       " 'NanumSquareRound',\n",
       " 'NanumBarunGothic',\n",
       " 'NanumMyeongjo',\n",
       " 'NanumMyeongjo Eco',\n",
       " 'Nanum Pen Script',\n",
       " 'NanumMyeongjo',\n",
       " 'NanumSquareRound',\n",
       " 'NanumSquare',\n",
       " 'NanumBarunpen',\n",
       " 'NanumSquare',\n",
       " 'NanumGothic Eco',\n",
       " 'NanumGothic',\n",
       " 'NanumBarunpen',\n",
       " 'NanumGothic',\n",
       " 'NanumBarunGothic',\n",
       " 'NanumGothic Eco',\n",
       " 'NanumSquare']"
      ]
     },
     "execution_count": 91,
     "metadata": {},
     "output_type": "execute_result"
    }
   ],
   "source": [
    "[i.name for i in fm.fontManager.ttflist if 'Nanum' in i.fname]"
   ]
  },
  {
   "cell_type": "code",
   "execution_count": 87,
   "metadata": {},
   "outputs": [
    {
     "data": {
      "text/html": [
       "<div>\n",
       "<style scoped>\n",
       "    .dataframe tbody tr th:only-of-type {\n",
       "        vertical-align: middle;\n",
       "    }\n",
       "\n",
       "    .dataframe tbody tr th {\n",
       "        vertical-align: top;\n",
       "    }\n",
       "\n",
       "    .dataframe thead th {\n",
       "        text-align: right;\n",
       "    }\n",
       "</style>\n",
       "<table border=\"1\" class=\"dataframe\">\n",
       "  <thead>\n",
       "    <tr style=\"text-align: right;\">\n",
       "      <th></th>\n",
       "      <th>Open</th>\n",
       "      <th>High</th>\n",
       "      <th>Low</th>\n",
       "      <th>Close</th>\n",
       "      <th>Adj Close</th>\n",
       "      <th>Volume</th>\n",
       "    </tr>\n",
       "    <tr>\n",
       "      <th>Date</th>\n",
       "      <th></th>\n",
       "      <th></th>\n",
       "      <th></th>\n",
       "      <th></th>\n",
       "      <th></th>\n",
       "      <th></th>\n",
       "    </tr>\n",
       "  </thead>\n",
       "  <tbody>\n",
       "    <tr>\n",
       "      <th>2021-04-28</th>\n",
       "      <td>83200.0</td>\n",
       "      <td>83200.0</td>\n",
       "      <td>82100.0</td>\n",
       "      <td>82100.0</td>\n",
       "      <td>80985.664063</td>\n",
       "      <td>15596759</td>\n",
       "    </tr>\n",
       "    <tr>\n",
       "      <th>2021-04-29</th>\n",
       "      <td>82400.0</td>\n",
       "      <td>82500.0</td>\n",
       "      <td>81500.0</td>\n",
       "      <td>81700.0</td>\n",
       "      <td>80591.093750</td>\n",
       "      <td>20000973</td>\n",
       "    </tr>\n",
       "    <tr>\n",
       "      <th>2021-04-30</th>\n",
       "      <td>81900.0</td>\n",
       "      <td>82100.0</td>\n",
       "      <td>81500.0</td>\n",
       "      <td>81500.0</td>\n",
       "      <td>80393.812500</td>\n",
       "      <td>18673197</td>\n",
       "    </tr>\n",
       "    <tr>\n",
       "      <th>2021-05-03</th>\n",
       "      <td>81000.0</td>\n",
       "      <td>82400.0</td>\n",
       "      <td>81000.0</td>\n",
       "      <td>81700.0</td>\n",
       "      <td>80591.093750</td>\n",
       "      <td>15710336</td>\n",
       "    </tr>\n",
       "    <tr>\n",
       "      <th>2021-05-04</th>\n",
       "      <td>81900.0</td>\n",
       "      <td>82600.0</td>\n",
       "      <td>81800.0</td>\n",
       "      <td>82600.0</td>\n",
       "      <td>81478.882813</td>\n",
       "      <td>12532550</td>\n",
       "    </tr>\n",
       "    <tr>\n",
       "      <th>...</th>\n",
       "      <td>...</td>\n",
       "      <td>...</td>\n",
       "      <td>...</td>\n",
       "      <td>...</td>\n",
       "      <td>...</td>\n",
       "      <td>...</td>\n",
       "    </tr>\n",
       "    <tr>\n",
       "      <th>2022-04-22</th>\n",
       "      <td>67200.0</td>\n",
       "      <td>67300.0</td>\n",
       "      <td>66700.0</td>\n",
       "      <td>67000.0</td>\n",
       "      <td>67000.000000</td>\n",
       "      <td>11791478</td>\n",
       "    </tr>\n",
       "    <tr>\n",
       "      <th>2022-04-25</th>\n",
       "      <td>66500.0</td>\n",
       "      <td>66700.0</td>\n",
       "      <td>66300.0</td>\n",
       "      <td>66300.0</td>\n",
       "      <td>66300.000000</td>\n",
       "      <td>11016474</td>\n",
       "    </tr>\n",
       "    <tr>\n",
       "      <th>2022-04-26</th>\n",
       "      <td>66400.0</td>\n",
       "      <td>66700.0</td>\n",
       "      <td>66100.0</td>\n",
       "      <td>66100.0</td>\n",
       "      <td>66100.000000</td>\n",
       "      <td>12946923</td>\n",
       "    </tr>\n",
       "    <tr>\n",
       "      <th>2022-04-27</th>\n",
       "      <td>65400.0</td>\n",
       "      <td>65500.0</td>\n",
       "      <td>64900.0</td>\n",
       "      <td>65000.0</td>\n",
       "      <td>65000.000000</td>\n",
       "      <td>18122084</td>\n",
       "    </tr>\n",
       "    <tr>\n",
       "      <th>2022-04-28</th>\n",
       "      <td>65400.0</td>\n",
       "      <td>65500.0</td>\n",
       "      <td>64500.0</td>\n",
       "      <td>64700.0</td>\n",
       "      <td>64700.000000</td>\n",
       "      <td>8392583</td>\n",
       "    </tr>\n",
       "  </tbody>\n",
       "</table>\n",
       "<p>247 rows × 6 columns</p>\n",
       "</div>"
      ],
      "text/plain": [
       "               Open     High      Low    Close     Adj Close    Volume\n",
       "Date                                                                  \n",
       "2021-04-28  83200.0  83200.0  82100.0  82100.0  80985.664063  15596759\n",
       "2021-04-29  82400.0  82500.0  81500.0  81700.0  80591.093750  20000973\n",
       "2021-04-30  81900.0  82100.0  81500.0  81500.0  80393.812500  18673197\n",
       "2021-05-03  81000.0  82400.0  81000.0  81700.0  80591.093750  15710336\n",
       "2021-05-04  81900.0  82600.0  81800.0  82600.0  81478.882813  12532550\n",
       "...             ...      ...      ...      ...           ...       ...\n",
       "2022-04-22  67200.0  67300.0  66700.0  67000.0  67000.000000  11791478\n",
       "2022-04-25  66500.0  66700.0  66300.0  66300.0  66300.000000  11016474\n",
       "2022-04-26  66400.0  66700.0  66100.0  66100.0  66100.000000  12946923\n",
       "2022-04-27  65400.0  65500.0  64900.0  65000.0  65000.000000  18122084\n",
       "2022-04-28  65400.0  65500.0  64500.0  64700.0  64700.000000   8392583\n",
       "\n",
       "[247 rows x 6 columns]"
      ]
     },
     "execution_count": 87,
     "metadata": {},
     "output_type": "execute_result"
    }
   ],
   "source": [
    "filename = os.listdir('data')[0]\n",
    "ts = pd.read_csv('data/'+filename,index_col=0, parse_dates=True)\n",
    "ts"
   ]
  },
  {
   "cell_type": "code",
   "execution_count": 88,
   "metadata": {},
   "outputs": [
    {
     "data": {
      "text/plain": [
       "DatetimeIndex(['2021-04-28', '2021-04-29', '2021-04-30', '2021-05-03',\n",
       "               '2021-05-04', '2021-05-06', '2021-05-07', '2021-05-10',\n",
       "               '2021-05-11', '2021-05-12',\n",
       "               ...\n",
       "               '2022-04-15', '2022-04-18', '2022-04-19', '2022-04-20',\n",
       "               '2022-04-21', '2022-04-22', '2022-04-25', '2022-04-26',\n",
       "               '2022-04-27', '2022-04-28'],\n",
       "              dtype='datetime64[ns]', name='Date', length=247, freq=None)"
      ]
     },
     "execution_count": 88,
     "metadata": {},
     "output_type": "execute_result"
    }
   ],
   "source": [
    "ts.index"
   ]
  },
  {
   "cell_type": "code",
   "execution_count": 89,
   "metadata": {},
   "outputs": [],
   "source": [
    "price = ts['Close']"
   ]
  },
  {
   "cell_type": "code",
   "execution_count": 90,
   "metadata": {},
   "outputs": [
    {
     "name": "stderr",
     "output_type": "stream",
     "text": [
      "/home/hchang/Working/env/analysis/lib/python3.8/site-packages/IPython/core/pylabtools.py:151: UserWarning: Glyph 49340 (\\N{HANGUL SYLLABLE SAM}) missing from current font.\n",
      "  fig.canvas.print_figure(bytes_io, **kw)\n",
      "/home/hchang/Working/env/analysis/lib/python3.8/site-packages/IPython/core/pylabtools.py:151: UserWarning: Glyph 49457 (\\N{HANGUL SYLLABLE SEONG}) missing from current font.\n",
      "  fig.canvas.print_figure(bytes_io, **kw)\n",
      "/home/hchang/Working/env/analysis/lib/python3.8/site-packages/IPython/core/pylabtools.py:151: UserWarning: Glyph 51452 (\\N{HANGUL SYLLABLE JU}) missing from current font.\n",
      "  fig.canvas.print_figure(bytes_io, **kw)\n",
      "/home/hchang/Working/env/analysis/lib/python3.8/site-packages/IPython/core/pylabtools.py:151: UserWarning: Glyph 49885 (\\N{HANGUL SYLLABLE SIG}) missing from current font.\n",
      "  fig.canvas.print_figure(bytes_io, **kw)\n"
     ]
    },
    {
     "data": {
      "image/png": "[encoded data removed]",
      "text/plain": [
       "<Figure size 432x288 with 1 Axes>"
      ]
     },
     "metadata": {
      "needs_background": "light"
     },
     "output_type": "display_data"
    }
   ],
   "source": [
    "fig = plt.figure()\n",
    "ax = fig.add_subplot(1,1,1)\n",
    "price.plot(ax=ax, style='black',)\n",
    "plt.ylim([60000,85000])\n",
    "# plt.xlim([])\n",
    "plt.grid()\n",
    "minmax = [(price.argmin(),'lowest point'),(price.argmax(),'highest point')]\n",
    "for d, label in minmax:\n",
    "    ax.annotate(label, xy=(price.index[d],price[d]+500), xytext=(price.index[d],price[d]+5000), arrowprops=dict(facecolor='red'))\n",
    "ax.set_title('삼성주식')\n",
    "plt.show()"
   ]
  },
  {
   "cell_type": "code",
   "execution_count": 84,
   "metadata": {},
   "outputs": [
    {
     "name": "stdout",
     "output_type": "stream",
     "text": [
      "7 246 83200.0 64700.0\n"
     ]
    }
   ],
   "source": [
    "print(price.argmax(),price.argmin(),price[price.argmax()], price[price.argmin()])"
   ]
  },
  {
   "cell_type": "code",
   "execution_count": 62,
   "metadata": {},
   "outputs": [
    {
     "data": {
      "text/plain": [
       "246"
      ]
     },
     "execution_count": 62,
     "metadata": {},
     "output_type": "execute_result"
    }
   ],
   "source": []
  },
  {
   "cell_type": "code",
   "execution_count": 59,
   "metadata": {},
   "outputs": [
    {
     "data": {
      "text/plain": [
       "1651244400.0"
      ]
     },
     "execution_count": 59,
     "metadata": {},
     "output_type": "execute_result"
    }
   ],
   "source": [
    "from datetime import datetime\n",
    "datetime(2022,4,30).timestamp()"
   ]
  },
  {
   "cell_type": "code",
   "execution_count": 48,
   "metadata": {},
   "outputs": [
    {
     "name": "stdout",
     "output_type": "stream",
     "text": [
      "Help on method asof in module pandas.core.generic:\n",
      "\n",
      "asof(where, subset=None) method of pandas.core.series.Series instance\n",
      "    Return the last row(s) without any NaNs before `where`.\n",
      "    \n",
      "    The last row (for each element in `where`, if list) without any\n",
      "    NaN is taken.\n",
      "    In case of a :class:`~pandas.DataFrame`, the last row without NaN\n",
      "    considering only the subset of columns (if not `None`)\n",
      "    \n",
      "    If there is no good value, NaN is returned for a Series or\n",
      "    a Series of NaN values for a DataFrame\n",
      "    \n",
      "    Parameters\n",
      "    ----------\n",
      "    where : date or array-like of dates\n",
      "        Date(s) before which the last row(s) are returned.\n",
      "    subset : str or array-like of str, default `None`\n",
      "        For DataFrame, if not `None`, only use these columns to\n",
      "        check for NaNs.\n",
      "    \n",
      "    Returns\n",
      "    -------\n",
      "    scalar, Series, or DataFrame\n",
      "    \n",
      "        The return can be:\n",
      "    \n",
      "        * scalar : when `self` is a Series and `where` is a scalar\n",
      "        * Series: when `self` is a Series and `where` is an array-like,\n",
      "          or when `self` is a DataFrame and `where` is a scalar\n",
      "        * DataFrame : when `self` is a DataFrame and `where` is an\n",
      "          array-like\n",
      "    \n",
      "        Return scalar, Series, or DataFrame.\n",
      "    \n",
      "    See Also\n",
      "    --------\n",
      "    merge_asof : Perform an asof merge. Similar to left join.\n",
      "    \n",
      "    Notes\n",
      "    -----\n",
      "    Dates are assumed to be sorted. Raises if this is not the case.\n",
      "    \n",
      "    Examples\n",
      "    --------\n",
      "    A Series and a scalar `where`.\n",
      "    \n",
      "    >>> s = pd.Series([1, 2, np.nan, 4], index=[10, 20, 30, 40])\n",
      "    >>> s\n",
      "    10    1.0\n",
      "    20    2.0\n",
      "    30    NaN\n",
      "    40    4.0\n",
      "    dtype: float64\n",
      "    \n",
      "    >>> s.asof(20)\n",
      "    2.0\n",
      "    \n",
      "    For a sequence `where`, a Series is returned. The first value is\n",
      "    NaN, because the first element of `where` is before the first\n",
      "    index value.\n",
      "    \n",
      "    >>> s.asof([5, 20])\n",
      "    5     NaN\n",
      "    20    2.0\n",
      "    dtype: float64\n",
      "    \n",
      "    Missing values are not considered. The following is ``2.0``, not\n",
      "    NaN, even though NaN is at the index location for ``30``.\n",
      "    \n",
      "    >>> s.asof(30)\n",
      "    2.0\n",
      "    \n",
      "    Take all columns into consideration\n",
      "    \n",
      "    >>> df = pd.DataFrame({'a': [10, 20, 30, 40, 50],\n",
      "    ...                    'b': [None, None, None, None, 500]},\n",
      "    ...                   index=pd.DatetimeIndex(['2018-02-27 09:01:00',\n",
      "    ...                                           '2018-02-27 09:02:00',\n",
      "    ...                                           '2018-02-27 09:03:00',\n",
      "    ...                                           '2018-02-27 09:04:00',\n",
      "    ...                                           '2018-02-27 09:05:00']))\n",
      "    >>> df.asof(pd.DatetimeIndex(['2018-02-27 09:03:30',\n",
      "    ...                           '2018-02-27 09:04:30']))\n",
      "                          a   b\n",
      "    2018-02-27 09:03:30 NaN NaN\n",
      "    2018-02-27 09:04:30 NaN NaN\n",
      "    \n",
      "    Take a single column into consideration\n",
      "    \n",
      "    >>> df.asof(pd.DatetimeIndex(['2018-02-27 09:03:30',\n",
      "    ...                           '2018-02-27 09:04:30']),\n",
      "    ...         subset=['a'])\n",
      "                             a   b\n",
      "    2018-02-27 09:03:30   30.0 NaN\n",
      "    2018-02-27 09:04:30   40.0 NaN\n",
      "\n"
     ]
    }
   ],
   "source": [
    "help(price.asof)"
   ]
  }
 ],
 "metadata": {
  "interpreter": {
   "hash": "092767183cb03da6ed3f313548119bc9426a350fa7be41c2565ca0e1bc927587"
  },
  "kernelspec": {
   "display_name": "Python 3.8.10 ('deep': venv)",
   "language": "python",
   "name": "python3"
  },
  "language_info": {
   "codemirror_mode": {
    "name": "ipython",
    "version": 3
   },
   "file_extension": ".py",
   "mimetype": "text/x-python",
   "name": "python",
   "nbconvert_exporter": "python",
   "pygments_lexer": "ipython3",
   "version": "3.8.10"
  },
  "orig_nbformat": 4
 },
 "nbformat": 4,
 "nbformat_minor": 2
}
