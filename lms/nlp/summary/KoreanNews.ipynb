{
 "cells": [
  {
   "cell_type": "code",
   "execution_count": 1,
   "metadata": {},
   "outputs": [],
   "source": [
    "from chromedriver_autoinstaller import install\n",
    "from selenium import webdriver\n",
    "install()\n",
    "driver = webdriver.Chrome()"
   ]
  },
  {
   "cell_type": "code",
   "execution_count": 3,
   "metadata": {},
   "outputs": [],
   "source": [
    "go = driver.get\n",
    "from bs4 import BeautifulSoup\n",
    "from time import sleep"
   ]
  },
  {
   "cell_type": "code",
   "execution_count": 17,
   "metadata": {},
   "outputs": [],
   "source": [
    "newsurl = 'https://n.news.naver.com/article/'\n"
   ]
  },
  {
   "cell_type": "code",
   "execution_count": 15,
   "metadata": {},
   "outputs": [
    {
     "data": {
      "text/plain": [
       "'hihi001'"
      ]
     },
     "execution_count": 15,
     "metadata": {},
     "output_type": "execute_result"
    }
   ],
   "source": [
    "'hihi' + '%0.3d' %1"
   ]
  },
  {
   "cell_type": "code",
   "execution_count": 22,
   "metadata": {},
   "outputs": [],
   "source": [
    "for i in range(199,400):\n",
    "    go(newsurl + '%0.3d' % i + '/' + '0000000001')\n",
    "    sleep(0.1)"
   ]
  },
  {
   "cell_type": "code",
   "execution_count": 36,
   "metadata": {},
   "outputs": [
    {
     "name": "stdout",
     "output_type": "stream",
     "text": [
      "1\n"
     ]
    },
    {
     "name": "stderr",
     "output_type": "stream",
     "text": [
      "/tmp/ipykernel_5759/2894960277.py:1: DeprecationWarning: find_elements_by_css_selector is deprecated. Please use find_elements(by=By.CSS_SELECTOR, value=css_selector) instead\n",
      "  print(len(hi:=driver.find_elements_by_css_selector('h4.title')))\n"
     ]
    },
    {
     "data": {
      "text/plain": [
       "'[생활체육 랭킹]우리가 체육활동을 하지 않는 이유는?'"
      ]
     },
     "execution_count": 36,
     "metadata": {},
     "output_type": "execute_result"
    }
   ],
   "source": [
    "print(len(hi:=driver.find_elements_by_css_selector('h4.title')))\n",
    "hi[0].text"
   ]
  },
  {
   "cell_type": "code",
   "execution_count": 35,
   "metadata": {},
   "outputs": [
    {
     "name": "stdout",
     "output_type": "stream",
     "text": [
      "1\n",
      "“아구구... 운동 해야되는데.... 5분만 있다 나갈까? \n",
      "아냐 아냐 오늘은 그냥 포기!”\n",
      "\n",
      "\n",
      "\n",
      "이런 생각 다들 한 번쯤은 해보셨을 텐데요! 그래서 오늘은 우리는 왜 운동을 미루는지 낱낱이 파헤쳐 보고, 체육활동에 대한 의지를 불태워보는 시간을 가져볼까 합니다.\n",
      "\n",
      "문화체육관광부의 국민 생활체육 참여 실태조사(2017)에 따르면 운동을 하지 않는 이유가 정말 각양각색으로 다양하더라고요! 어떤 이유가 있는지 한 번 볼까요?\n",
      "\n",
      "\n",
      "\n",
      "1. 63.2% 체육활동 할 시간 부족\n",
      "바쁜 삶을 살아가고 있는 현대인들! 학교, 회사에 치여 하루 일과를 마무리하면 이미 늦은 시간이라 체육활동을 할 시간이 없다는 생각이 듭니다!\n",
      "\n",
      "솔루션\n",
      "일주일에 3번 30분씩이라도 계단 오르기, 스트레칭 같은 생활 속 운동을 한다! (교과서)\n",
      "\n",
      "\n",
      "2. 37.7% 체육활동에 대한 관심 부족\n",
      "“굳이 운동을 해야 하나? 다른 재미있는 것들이 훨씬 더 많은데!”라고 생각하시는 분들도 많겠죠. 하지만 적절한 체육활동은 신체 건강을 위해 필수적이라는 사실!\n",
      "\n",
      "솔루션\n",
      "대한체육회 블로그에서 다양하고 재미있는 정보로 관심도를 높인다! ~(˘?˘~) (~˘?˘)~\n",
      "\n",
      "\n",
      "3. 23.6% 체육시설 접근성 낮음\n",
      "집, 학교, 회사 근처에 체육시설이 없어 운동하러 가는 데만 한 시간이 걸린다면....? 그 자체가 스포츠가 되어버릴 수도 있어요ㅠ0ㅠ 하지만 우리 주위에는 생각보다 체육을 할 수 있는 장소가 많습니다!\n",
      "\n",
      "솔루션\n",
      "눈을 크게 뜨고 멀리 가지 않아도 운동할 수 있는 곳을 찾는다! 봤으면서 못 본척하기 없기!!)\n",
      "\n",
      "\n",
      "4. 21.4% 체육에 소질이 없어서\n",
      "“아니 나는 진짜 분명히 공을 똑바로 보고 쳤다니까?라고 주장하지만 공이 내 의지와는 상관없는 곳으로 흘러가 스포츠가 진행이 안 되는 분!\n",
      "\n",
      "솔루션\n",
      "이 넓은 세상에 잘하는 운동 하나는 있겠지라는 마음으로 다른 운동을 찾아다닌다!\n",
      "\n",
      "\n",
      "5. 19.3% 건강상의 문제\n",
      "건강이 안 좋아서 격렬한 운동을 하기 힘드신 분들, 분명히 많이 계실 거에요. 그렇다고 체육활동을 완전히 중단해버리면 건강 문제가 계속될 수 있습니다.\n",
      "\n",
      "솔루션\n",
      "의사와 상담하여 내 몸 상태에 적합한 운동을 골라, 무리가 가지 않는 선에서 실행한다!(중요)\n",
      "\n",
      "\n",
      "\n",
      "체육활동을 하지 않는 이유로 많이들 생각하시는 상위 5가지 이유를 살펴보았습니다. 어떠신가요? \"역시 사람 사는 거 다~ 똑같다!\" 라는 생각이 드셨나요? 그러다가도 대한체육회가 제시하는 솔루션을 보고 \"그래 조금씩이라도 시도해보자!\"라는 생각이 드셨나요? \n",
      "\n",
      "그렇다면 오늘 포스팅은 정말 성공적이군요!(뻔뻔) 미루고 싶을 때도 있겠지만 우리 함께 생활체육에 도전해봅시다! 대한체육회는 언제나 여러분들의 도전을 응원합니다.\n"
     ]
    },
    {
     "name": "stderr",
     "output_type": "stream",
     "text": [
      "/tmp/ipykernel_5759/1630800315.py:1: DeprecationWarning: find_elements_by_css_selector is deprecated. Please use find_elements(by=By.CSS_SELECTOR, value=css_selector) instead\n",
      "  print(len(hi:=driver.find_elements_by_css_selector('.naver_post')))\n"
     ]
    }
   ],
   "source": [
    "print(len(hi:=driver.find_elements_by_css_selector('.naver_post')))\n",
    "print(hi[0].text)"
   ]
  },
  {
   "cell_type": "code",
   "execution_count": null,
   "metadata": {},
   "outputs": [],
   "source": []
  },
  {
   "cell_type": "code",
   "execution_count": null,
   "metadata": {},
   "outputs": [],
   "source": []
  }
 ],
 "metadata": {
  "interpreter": {
   "hash": "da1bc25f0a14767b87a2da66f259e240bdb82c6ab2e6fbc74b290106645bc35d"
  },
  "kernelspec": {
   "display_name": "Python 3.8.10 ('analysis': venv)",
   "language": "python",
   "name": "python3"
  },
  "language_info": {
   "codemirror_mode": {
    "name": "ipython",
    "version": 3
   },
   "file_extension": ".py",
   "mimetype": "text/x-python",
   "name": "python",
   "nbconvert_exporter": "python",
   "pygments_lexer": "ipython3",
   "version": "3.8.10"
  },
  "orig_nbformat": 4
 },
 "nbformat": 4,
 "nbformat_minor": 2
}
