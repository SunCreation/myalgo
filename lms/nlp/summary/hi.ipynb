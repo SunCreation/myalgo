{
 "cells": [
  {
   "cell_type": "code",
   "execution_count": 1,
   "metadata": {},
   "outputs": [
    {
     "name": "stderr",
     "output_type": "stream",
     "text": [
      "[nltk_data] Downloading package stopwords to /aiffel/nltk_data...\n",
      "[nltk_data]   Package stopwords is already up-to-date!\n"
     ]
    },
    {
     "name": "stdout",
     "output_type": "stream",
     "text": [
      "=3\n"
     ]
    }
   ],
   "source": [
    "import nltk\n",
    "nltk.download('stopwords')\n",
    "\n",
    "import numpy as np\n",
    "import pandas as pd\n",
    "import os\n",
    "import re\n",
    "import matplotlib.pyplot as plt\n",
    "from nltk.corpus import stopwords\n",
    "from bs4 import BeautifulSoup \n",
    "from tensorflow.keras.preprocessing.text import Tokenizer \n",
    "from tensorflow.keras.preprocessing.sequence import pad_sequences\n",
    "import urllib.request\n",
    "import warnings\n",
    "warnings.filterwarnings(\"ignore\", category=UserWarning, module='bs4')\n",
    "\n",
    "print('=3')"
   ]
  },
  {
   "cell_type": "code",
   "execution_count": 2,
   "metadata": {},
   "outputs": [
    {
     "name": "stdout",
     "output_type": "stream",
     "text": [
      "전체 샘플수 : 38053\n"
     ]
    }
   ],
   "source": [
    "data = pd.read_csv(\"allnews.csv\")\n",
    "print('전체 샘플수 :', (len(data)))"
   ]
  },
  {
   "cell_type": "code",
   "execution_count": 3,
   "metadata": {},
   "outputs": [
    {
     "data": {
      "text/html": [
       "<div>\n",
       "<style scoped>\n",
       "    .dataframe tbody tr th:only-of-type {\n",
       "        vertical-align: middle;\n",
       "    }\n",
       "\n",
       "    .dataframe tbody tr th {\n",
       "        vertical-align: top;\n",
       "    }\n",
       "\n",
       "    .dataframe thead th {\n",
       "        text-align: right;\n",
       "    }\n",
       "</style>\n",
       "<table border=\"1\" class=\"dataframe\">\n",
       "  <thead>\n",
       "    <tr style=\"text-align: right;\">\n",
       "      <th></th>\n",
       "      <th>신문사</th>\n",
       "      <th>분류</th>\n",
       "      <th>제목</th>\n",
       "      <th>본문</th>\n",
       "      <th>날짜 및 시간</th>\n",
       "    </tr>\n",
       "  </thead>\n",
       "  <tbody>\n",
       "    <tr>\n",
       "      <th>0</th>\n",
       "      <td>프레시안</td>\n",
       "      <td>경제</td>\n",
       "      <td>뉴라운드 협상 이제부터다 - WTO 국민연대 장원석 집행위원장의 협상 참관기</td>\n",
       "      <td>지난 11월 9일부터 14일까지 카타르 도하에서 열린 세계무역기구(WTO) 각료...</td>\n",
       "      <td>['2001-11-21 09:53:00']</td>\n",
       "    </tr>\n",
       "    <tr>\n",
       "      <th>1</th>\n",
       "      <td>프레시안</td>\n",
       "      <td>세계</td>\n",
       "      <td>미, 이슬람권 대상 방송국 설립 추진 - 본격 선전전 나서</td>\n",
       "      <td>미 정부가 아랍권 여론 장악을 위해 5억달러를 들여 위성방송국 설립을 추진중인 ...</td>\n",
       "      <td>['2001-11-21 09:53:00']</td>\n",
       "    </tr>\n",
       "    <tr>\n",
       "      <th>2</th>\n",
       "      <td>프레시안</td>\n",
       "      <td>정치</td>\n",
       "      <td>개혁신당 운동 젊은 의원들이 밀어붙여라 - 이부영 한나라당 부총재 인터뷰</td>\n",
       "      <td>한나라당 이부영 부총재는 19일 프레시안과 인터뷰를 갖고 개혁신당 운동에 대해 ...</td>\n",
       "      <td>['2001-11-21 09:53:00']</td>\n",
       "    </tr>\n",
       "    <tr>\n",
       "      <th>3</th>\n",
       "      <td>프레시안</td>\n",
       "      <td>세계</td>\n",
       "      <td>잊혀진 나라 '아프간' &lt;6ㆍ끝&gt; - 누가 이 전쟁을 멈출 것인가</td>\n",
       "      <td>아프간의 기아 참상을 영화로 찍기 위해 방글라데시 유엔 대표인 카말 후세인 박사...</td>\n",
       "      <td>['2001-11-20 10:01:00']</td>\n",
       "    </tr>\n",
       "    <tr>\n",
       "      <th>4</th>\n",
       "      <td>프레시안</td>\n",
       "      <td>세계</td>\n",
       "      <td>미국, 고문 합법화. 비밀재판 추진 - \"미국이외는 야만이라는 미국의 야만적 사고\"</td>\n",
       "      <td>“테러범들에 대한 고문을 합법화해야 한다.”\\n  “테러범들은 비밀리에 항공모함...</td>\n",
       "      <td>['2001-11-20 10:01:00']</td>\n",
       "    </tr>\n",
       "  </tbody>\n",
       "</table>\n",
       "</div>"
      ],
      "text/plain": [
       "    신문사  분류                                              제목  \\\n",
       "0  프레시안  경제      뉴라운드 협상 이제부터다 - WTO 국민연대 장원석 집행위원장의 협상 참관기   \n",
       "1  프레시안  세계                미, 이슬람권 대상 방송국 설립 추진 - 본격 선전전 나서   \n",
       "2  프레시안  정치        개혁신당 운동 젊은 의원들이 밀어붙여라 - 이부영 한나라당 부총재 인터뷰   \n",
       "3  프레시안  세계            잊혀진 나라 '아프간' <6ㆍ끝> - 누가 이 전쟁을 멈출 것인가   \n",
       "4  프레시안  세계  미국, 고문 합법화. 비밀재판 추진 - \"미국이외는 야만이라는 미국의 야만적 사고\"   \n",
       "\n",
       "                                                  본문                  날짜 및 시간  \n",
       "0    지난 11월 9일부터 14일까지 카타르 도하에서 열린 세계무역기구(WTO) 각료...  ['2001-11-21 09:53:00']  \n",
       "1    미 정부가 아랍권 여론 장악을 위해 5억달러를 들여 위성방송국 설립을 추진중인 ...  ['2001-11-21 09:53:00']  \n",
       "2    한나라당 이부영 부총재는 19일 프레시안과 인터뷰를 갖고 개혁신당 운동에 대해 ...  ['2001-11-21 09:53:00']  \n",
       "3    아프간의 기아 참상을 영화로 찍기 위해 방글라데시 유엔 대표인 카말 후세인 박사...  ['2001-11-20 10:01:00']  \n",
       "4    “테러범들에 대한 고문을 합법화해야 한다.”\\n  “테러범들은 비밀리에 항공모함...  ['2001-11-20 10:01:00']  "
      ]
     },
     "execution_count": 3,
     "metadata": {},
     "output_type": "execute_result"
    }
   ],
   "source": [
    "data.head()"
   ]
  },
  {
   "cell_type": "code",
   "execution_count": 4,
   "metadata": {},
   "outputs": [
    {
     "data": {
      "text/html": [
       "<div>\n",
       "<style scoped>\n",
       "    .dataframe tbody tr th:only-of-type {\n",
       "        vertical-align: middle;\n",
       "    }\n",
       "\n",
       "    .dataframe tbody tr th {\n",
       "        vertical-align: top;\n",
       "    }\n",
       "\n",
       "    .dataframe thead th {\n",
       "        text-align: right;\n",
       "    }\n",
       "</style>\n",
       "<table border=\"1\" class=\"dataframe\">\n",
       "  <thead>\n",
       "    <tr style=\"text-align: right;\">\n",
       "      <th></th>\n",
       "      <th>본문</th>\n",
       "      <th>제목</th>\n",
       "    </tr>\n",
       "  </thead>\n",
       "  <tbody>\n",
       "    <tr>\n",
       "      <th>1479</th>\n",
       "      <td>【서울=뉴시스】\\n\\n법원이 증거능력이 부족하다며 아동성폭력 사건 중 처음으로 피해...</td>\n",
       "      <td>(서울)법정에 출석하지 않은 성추행 아동 진술은 증거능력 없어</td>\n",
       "    </tr>\n",
       "    <tr>\n",
       "      <th>7964</th>\n",
       "      <td>▲25일 오후 2시 13분에 송고된 연합 G1-0555 ,H1-0555,L1-016...</td>\n",
       "      <td>&lt;고침&gt;--남북관계</td>\n",
       "    </tr>\n",
       "    <tr>\n",
       "      <th>24184</th>\n",
       "      <td>굿데이가 그동안 사진부를 아웃소싱으로 운영해오다 사진의 질적 저하, 경쟁력 약화 등...</td>\n",
       "      <td>굿데이 사진부 아웃소싱 포기</td>\n",
       "    </tr>\n",
       "    <tr>\n",
       "      <th>4468</th>\n",
       "      <td>(카이로=연합뉴스) 이기창특파원 = 쿠웨이트는 국제원유가격 상승에 힘입어 올상반기중...</td>\n",
       "      <td>유가 상승으로 쿠웨이트 재정 흑자 급증</td>\n",
       "    </tr>\n",
       "    <tr>\n",
       "      <th>35796</th>\n",
       "      <td>외국 기술진의 미국 취업비자인 H-1B 비자 신규발급 건수가 전반적인 경제둔화와 하...</td>\n",
       "      <td>[e월드]미국-외국 기술자 취업비자 발급 절반 감소</td>\n",
       "    </tr>\n",
       "    <tr>\n",
       "      <th>25918</th>\n",
       "      <td>기관투자가들은 전날에 이어 삼성물산의 인터넷사업 양도를 반대, 8일 열리는 주주총회...</td>\n",
       "      <td>[거래소] 삼성물산 인터넷양도 반대 기관잇따라</td>\n",
       "    </tr>\n",
       "    <tr>\n",
       "      <th>16000</th>\n",
       "      <td>파업참여 불투명 은행들, 불참으로 가닥\\n\\n(서울=연합뉴스) 주종국.황정우기자 =...</td>\n",
       "      <td>하나.한미.신한.제일은행 파업 불참(종합)</td>\n",
       "    </tr>\n",
       "    <tr>\n",
       "      <th>958</th>\n",
       "      <td>노무현 민주당 대통령 후보가 10일 김영삼(YS) 전 대통령과의 연대를 의미하는...</td>\n",
       "      <td>노무현 대선전략 절반 수정 - ‘신민주대연합’ 용어 폐기, DJ 아들 문제 비판</td>\n",
       "    </tr>\n",
       "    <tr>\n",
       "      <th>20551</th>\n",
       "      <td>(서울=연합뉴스) 올해 일본 500대 기업중 네번째로 영업실적이 나쁜 소프트뱅크는 ...</td>\n",
       "      <td>소프트뱅크, 전자1050상거래등 주식매각계획 취소</td>\n",
       "    </tr>\n",
       "    <tr>\n",
       "      <th>27742</th>\n",
       "      <td>소형선박 업체인 INP중공업(대표 조태연)이 덴마크 회사와 7,400만달러 규모의 ...</td>\n",
       "      <td>[INP중공업] 선박 7,400만달러 덴마크 수출</td>\n",
       "    </tr>\n",
       "    <tr>\n",
       "      <th>3102</th>\n",
       "      <td>중앙일보가 국내 언론사 처음으로 ‘사내대학’이라는 교육 프로그램을 추진하고 있는가 ...</td>\n",
       "      <td>언론사 곳곳서 ‘학습’ 바람</td>\n",
       "    </tr>\n",
       "    <tr>\n",
       "      <th>29558</th>\n",
       "      <td>[edaily 이진우기자] S-Oil(10950)(대표 金鮮東)은 설날 명절을 맞아...</td>\n",
       "      <td>S-Oil, 설날 귀성고객 사은행사</td>\n",
       "    </tr>\n",
       "    <tr>\n",
       "      <th>13213</th>\n",
       "      <td>(서울=연합뉴스) 고승일기자 = 한나라당 이연숙 의원이 22일 16대 국회 국방위를...</td>\n",
       "      <td>&lt;이연숙의원, 여성국방위원 데뷔&gt;</td>\n",
       "    </tr>\n",
       "    <tr>\n",
       "      <th>36442</th>\n",
       "      <td>네트워크 어플라이언스 코리아(지사장 이호철, NetApp)가 새로운 데이터 보호 솔...</td>\n",
       "      <td>네트워크 어플라이언스, 데이터 보호 신제품 출시</td>\n",
       "    </tr>\n",
       "    <tr>\n",
       "      <th>35667</th>\n",
       "      <td>중국은 세계수요 신장산업에서 시장점유율과 수출경쟁력이 커져가고 있는 반면 일본은 성...</td>\n",
       "      <td>무역협회 '3국 품목별 수출성과 비교' 보고서</td>\n",
       "    </tr>\n",
       "  </tbody>\n",
       "</table>\n",
       "</div>"
      ],
      "text/plain": [
       "                                                      본문  \\\n",
       "1479   【서울=뉴시스】\\n\\n법원이 증거능력이 부족하다며 아동성폭력 사건 중 처음으로 피해...   \n",
       "7964   ▲25일 오후 2시 13분에 송고된 연합 G1-0555 ,H1-0555,L1-016...   \n",
       "24184  굿데이가 그동안 사진부를 아웃소싱으로 운영해오다 사진의 질적 저하, 경쟁력 약화 등...   \n",
       "4468   (카이로=연합뉴스) 이기창특파원 = 쿠웨이트는 국제원유가격 상승에 힘입어 올상반기중...   \n",
       "35796  외국 기술진의 미국 취업비자인 H-1B 비자 신규발급 건수가 전반적인 경제둔화와 하...   \n",
       "25918  기관투자가들은 전날에 이어 삼성물산의 인터넷사업 양도를 반대, 8일 열리는 주주총회...   \n",
       "16000  파업참여 불투명 은행들, 불참으로 가닥\\n\\n(서울=연합뉴스) 주종국.황정우기자 =...   \n",
       "958      노무현 민주당 대통령 후보가 10일 김영삼(YS) 전 대통령과의 연대를 의미하는...   \n",
       "20551  (서울=연합뉴스) 올해 일본 500대 기업중 네번째로 영업실적이 나쁜 소프트뱅크는 ...   \n",
       "27742  소형선박 업체인 INP중공업(대표 조태연)이 덴마크 회사와 7,400만달러 규모의 ...   \n",
       "3102   중앙일보가 국내 언론사 처음으로 ‘사내대학’이라는 교육 프로그램을 추진하고 있는가 ...   \n",
       "29558  [edaily 이진우기자] S-Oil(10950)(대표 金鮮東)은 설날 명절을 맞아...   \n",
       "13213  (서울=연합뉴스) 고승일기자 = 한나라당 이연숙 의원이 22일 16대 국회 국방위를...   \n",
       "36442  네트워크 어플라이언스 코리아(지사장 이호철, NetApp)가 새로운 데이터 보호 솔...   \n",
       "35667  중국은 세계수요 신장산업에서 시장점유율과 수출경쟁력이 커져가고 있는 반면 일본은 성...   \n",
       "\n",
       "                                                 제목  \n",
       "1479             (서울)법정에 출석하지 않은 성추행 아동 진술은 증거능력 없어  \n",
       "7964                                     <고침>--남북관계  \n",
       "24184                               굿데이 사진부 아웃소싱 포기  \n",
       "4468                          유가 상승으로 쿠웨이트 재정 흑자 급증  \n",
       "35796                  [e월드]미국-외국 기술자 취업비자 발급 절반 감소  \n",
       "25918                     [거래소] 삼성물산 인터넷양도 반대 기관잇따라  \n",
       "16000                       하나.한미.신한.제일은행 파업 불참(종합)  \n",
       "958    노무현 대선전략 절반 수정 - ‘신민주대연합’ 용어 폐기, DJ 아들 문제 비판  \n",
       "20551                   소프트뱅크, 전자1050상거래등 주식매각계획 취소  \n",
       "27742                   [INP중공업] 선박 7,400만달러 덴마크 수출  \n",
       "3102                                언론사 곳곳서 ‘학습’ 바람  \n",
       "29558                           S-Oil, 설날 귀성고객 사은행사  \n",
       "13213                            <이연숙의원, 여성국방위원 데뷔>  \n",
       "36442                    네트워크 어플라이언스, 데이터 보호 신제품 출시  \n",
       "35667                     무역협회 '3국 품목별 수출성과 비교' 보고서  "
      ]
     },
     "execution_count": 4,
     "metadata": {},
     "output_type": "execute_result"
    }
   ],
   "source": [
    "data = data[['본문','제목']]\n",
    "data.head()\n",
    "\n",
    "#랜덤한 15개 샘플 출력\n",
    "data.sample(15)"
   ]
  },
  {
   "cell_type": "code",
   "execution_count": 5,
   "metadata": {},
   "outputs": [
    {
     "name": "stdout",
     "output_type": "stream",
     "text": [
      "본문 열에서 중복을 배제한 유일한 샘플의 수 : 35940\n",
      "제목 열에서 중복을 배제한 유일한 샘플의 수 : 36039\n"
     ]
    }
   ],
   "source": [
    "print('본문 열에서 중복을 배제한 유일한 샘플의 수 :', data['본문'].nunique())\n",
    "print('제목 열에서 중복을 배제한 유일한 샘플의 수 :', data['제목'].nunique())"
   ]
  },
  {
   "cell_type": "code",
   "execution_count": 6,
   "metadata": {},
   "outputs": [
    {
     "name": "stdout",
     "output_type": "stream",
     "text": [
      "전체 샘플수 : 35941\n"
     ]
    }
   ],
   "source": [
    "# inplace=True 를 설정하면 DataFrame 타입 값을 return 하지 않고 data 내부를 직접적으로 바꿉니다\n",
    "data.drop_duplicates(subset = ['본문'], inplace=True)\n",
    "print('전체 샘플수 :', (len(data)))"
   ]
  },
  {
   "cell_type": "code",
   "execution_count": 7,
   "metadata": {},
   "outputs": [
    {
     "name": "stdout",
     "output_type": "stream",
     "text": [
      "본문    1\n",
      "제목    1\n",
      "dtype: int64\n"
     ]
    }
   ],
   "source": [
    "print(data.isnull().sum())"
   ]
  },
  {
   "cell_type": "code",
   "execution_count": 8,
   "metadata": {},
   "outputs": [
    {
     "name": "stdout",
     "output_type": "stream",
     "text": [
      "전체 샘플수 : 35939\n"
     ]
    }
   ],
   "source": [
    "data.dropna(axis=0, inplace=True)\n",
    "print('전체 샘플수 :', (len(data)))"
   ]
  },
  {
   "cell_type": "code",
   "execution_count": 9,
   "metadata": {},
   "outputs": [
    {
     "name": "stdout",
     "output_type": "stream",
     "text": [
      "정규화 사전의 수:  120\n"
     ]
    }
   ],
   "source": [
    "contractions = {\"ain't\": \"is not\", \"aren't\": \"are not\",\"can't\": \"cannot\", \"'cause\": \"because\", \"could've\": \"could have\", \"couldn't\": \"could not\",\n",
    "                           \"didn't\": \"did not\",  \"doesn't\": \"does not\", \"don't\": \"do not\", \"hadn't\": \"had not\", \"hasn't\": \"has not\", \"haven't\": \"have not\",\n",
    "                           \"he'd\": \"he would\",\"he'll\": \"he will\", \"he's\": \"he is\", \"how'd\": \"how did\", \"how'd'y\": \"how do you\", \"how'll\": \"how will\", \"how's\": \"how is\",\n",
    "                           \"I'd\": \"I would\", \"I'd've\": \"I would have\", \"I'll\": \"I will\", \"I'll've\": \"I will have\",\"I'm\": \"I am\", \"I've\": \"I have\", \"i'd\": \"i would\",\n",
    "                           \"i'd've\": \"i would have\", \"i'll\": \"i will\",  \"i'll've\": \"i will have\",\"i'm\": \"i am\", \"i've\": \"i have\", \"isn't\": \"is not\", \"it'd\": \"it would\",\n",
    "                           \"it'd've\": \"it would have\", \"it'll\": \"it will\", \"it'll've\": \"it will have\",\"it's\": \"it is\", \"let's\": \"let us\", \"ma'am\": \"madam\",\n",
    "                           \"mayn't\": \"may not\", \"might've\": \"might have\",\"mightn't\": \"might not\",\"mightn't've\": \"might not have\", \"must've\": \"must have\",\n",
    "                           \"mustn't\": \"must not\", \"mustn't've\": \"must not have\", \"needn't\": \"need not\", \"needn't've\": \"need not have\",\"o'clock\": \"of the clock\",\n",
    "                           \"oughtn't\": \"ought not\", \"oughtn't've\": \"ought not have\", \"shan't\": \"shall not\", \"sha'n't\": \"shall not\", \"shan't've\": \"shall not have\",\n",
    "                           \"she'd\": \"she would\", \"she'd've\": \"she would have\", \"she'll\": \"she will\", \"she'll've\": \"she will have\", \"she's\": \"she is\",\n",
    "                           \"should've\": \"should have\", \"shouldn't\": \"should not\", \"shouldn't've\": \"should not have\", \"so've\": \"so have\",\"so's\": \"so as\",\n",
    "                           \"this's\": \"this is\",\"that'd\": \"that would\", \"that'd've\": \"that would have\", \"that's\": \"that is\", \"there'd\": \"there would\",\n",
    "                           \"there'd've\": \"there would have\", \"there's\": \"there is\", \"here's\": \"here is\",\"they'd\": \"they would\", \"they'd've\": \"they would have\",\n",
    "                           \"they'll\": \"they will\", \"they'll've\": \"they will have\", \"they're\": \"they are\", \"they've\": \"they have\", \"to've\": \"to have\",\n",
    "                           \"wasn't\": \"was not\", \"we'd\": \"we would\", \"we'd've\": \"we would have\", \"we'll\": \"we will\", \"we'll've\": \"we will have\", \"we're\": \"we are\",\n",
    "                           \"we've\": \"we have\", \"weren't\": \"were not\", \"what'll\": \"what will\", \"what'll've\": \"what will have\", \"what're\": \"what are\",\n",
    "                           \"what's\": \"what is\", \"what've\": \"what have\", \"when's\": \"when is\", \"when've\": \"when have\", \"where'd\": \"where did\", \"where's\": \"where is\",\n",
    "                           \"where've\": \"where have\", \"who'll\": \"who will\", \"who'll've\": \"who will have\", \"who's\": \"who is\", \"who've\": \"who have\",\n",
    "                           \"why's\": \"why is\", \"why've\": \"why have\", \"will've\": \"will have\", \"won't\": \"will not\", \"won't've\": \"will not have\",\n",
    "                           \"would've\": \"would have\", \"wouldn't\": \"would not\", \"wouldn't've\": \"would not have\", \"y'all\": \"you all\",\n",
    "                           \"y'all'd\": \"you all would\",\"y'all'd've\": \"you all would have\",\"y'all're\": \"you all are\",\"y'all've\": \"you all have\",\n",
    "                           \"you'd\": \"you would\", \"you'd've\": \"you would have\", \"you'll\": \"you will\", \"you'll've\": \"you will have\",\n",
    "                           \"you're\": \"you are\", \"you've\": \"you have\"}\n",
    "\n",
    "print(\"정규화 사전의 수: \", len(contractions))"
   ]
  },
  {
   "cell_type": "code",
   "execution_count": 10,
   "metadata": {},
   "outputs": [],
   "source": [
    "import os\n",
    "# os.listdir('/home/hchang/nltk_data/corpora/stopwords')"
   ]
  },
  {
   "cell_type": "code",
   "execution_count": 11,
   "metadata": {},
   "outputs": [],
   "source": [
    "# print('불용어 개수 :', len(stopwords.words('ko') ))\n",
    "# print(stopwords.words('english'))"
   ]
  },
  {
   "cell_type": "code",
   "execution_count": 12,
   "metadata": {},
   "outputs": [
    {
     "name": "stdout",
     "output_type": "stream",
     "text": [
      "=3\n"
     ]
    }
   ],
   "source": [
    "# 데이터 전처리 함수\n",
    "def preprocess_sentence(sentence, remove_stopwords=True):\n",
    "    sentence = sentence.lower() # 텍스트 소문자화\n",
    "    # sentence = BeautifulSoup(sentence, \"lxml\").text # <br />, <a href = ...> 등의 html 태그 제거\n",
    "    # sentence = re.sub(r'\\([^)]*\\)', '', sentence) # 괄호로 닫힌 문자열 (...) 제거 Ex) my husband (and myself!) for => my husband for\n",
    "    sentence = re.sub('\"','', sentence) # 쌍따옴표 \" 제거\n",
    "    # sentence = ' '.join([contractions[t] if t in contractions else t for t in sentence.split(\" \")]) # 약어 정규화\n",
    "    # sentence = re.sub(r\"'s\\b\",\"\", sentence) # 소유격 제거. Ex) roland's -> roland\n",
    "    sentence = re.sub(\"[^a-zA-Z가-힣ㄱ-ㅎ0-9]\", \" \", sentence) # 영어 외 문자(숫자, 특수문자 등) 공백으로 변환\n",
    "    # sentence = re.sub('[m]{2,}', 'mm', sentence) # m이 3개 이상이면 2개로 변경. Ex) ummmmmmm yeah -> umm yeah\n",
    "    sentence = re.sub(\"\\s+\", ' ', sentence)\n",
    "    # 불용어 제거 (Text)\n",
    "    # if remove_stopwords:\n",
    "    #     tokens = ' '.join(word for word in sentence.split() if not word in stopwords.words('english') if len(word) > 1)\n",
    "    # 불용어 미제거 (Summary)\n",
    "    # else:\n",
    "    #     tokens = ' '.join(word for word in sentence.split() if len(word) > 1)\n",
    "    return sentence\n",
    "print('=3')"
   ]
  },
  {
   "cell_type": "code",
   "execution_count": 13,
   "metadata": {},
   "outputs": [
    {
     "name": "stdout",
     "output_type": "stream",
     "text": [
      "text:  오늘도 끝내주게 바쁜 하루였다 중략 어디서부터 고쳐볼까 \n",
      "summary: 오늘도 바빴다 \n"
     ]
    }
   ],
   "source": [
    "temp_text = '오늘도 끝내주게 바쁜 하루였다. ... [중략] 어디서부터 고쳐볼까?'\n",
    "temp_summary = '오늘도 바빴다.'\n",
    "\n",
    "print(\"text: \", preprocess_sentence(temp_text))\n",
    "print(\"summary:\", preprocess_sentence(temp_summary, False))  # 불용어를 제거하지 않습니다."
   ]
  },
  {
   "cell_type": "code",
   "execution_count": 14,
   "metadata": {},
   "outputs": [],
   "source": [
    "from tqdm import tqdm"
   ]
  },
  {
   "cell_type": "code",
   "execution_count": 15,
   "metadata": {},
   "outputs": [],
   "source": [
    "# clean_text = []\n",
    "# # 전체 Text 데이터에 대한 전처리 : 10분 이상 시간이 걸릴 수 있습니다. \n",
    "# for s in tqdm(data['본문']):\n",
    "#     clean_text.append(preprocess_sentence(s))\n",
    "\n",
    "# # 전처리 후 출력\n",
    "# print(\"Text 전처리 후 결과: \", clean_text[:2])"
   ]
  },
  {
   "cell_type": "code",
   "execution_count": 16,
   "metadata": {},
   "outputs": [],
   "source": [
    "# clean_summary = []\n",
    "# # 전체 Summary 데이터에 대한 전처리 : 5분 이상 시간이 걸릴 수 있습니다. \n",
    "# for s in tqdm(data['제목']):\n",
    "#     clean_summary.append(preprocess_sentence(s, False))\n",
    "\n",
    "# print(\"Summary 전처리 후 결과: \", clean_summary[:5])"
   ]
  },
  {
   "cell_type": "code",
   "execution_count": 17,
   "metadata": {},
   "outputs": [],
   "source": [
    "from konlpy.tag import Mecab\n",
    "from tqdm import tqdm\n",
    "hi = Mecab()\n",
    "data[['Text', 'Summary']] = data[['본문','제목']]"
   ]
  },
  {
   "cell_type": "code",
   "execution_count": 18,
   "metadata": {},
   "outputs": [
    {
     "name": "stderr",
     "output_type": "stream",
     "text": [
      "100%|██████████| 35939/35939 [01:57<00:00, 305.01it/s]"
     ]
    },
    {
     "name": "stdout",
     "output_type": "stream",
     "text": [
      "=3\n"
     ]
    },
    {
     "name": "stderr",
     "output_type": "stream",
     "text": [
      "\n"
     ]
    }
   ],
   "source": [
    "for i in tqdm(data.index):\n",
    "    data['Text'][i] = hi.morphs(preprocess_sentence(data['본문'][i]))\n",
    "    data['Summary'][i] = hi.morphs(preprocess_sentence(data['제목'][i]))\n",
    "\n",
    "# 빈 값을 Null 값으로 변환\n",
    "data.replace('', np.nan, inplace=True)\n",
    "print('=3')"
   ]
  },
  {
   "cell_type": "code",
   "execution_count": 19,
   "metadata": {},
   "outputs": [
    {
     "data": {
      "text/plain": [
       "본문         0\n",
       "제목         0\n",
       "Text       0\n",
       "Summary    0\n",
       "dtype: int64"
      ]
     },
     "execution_count": 19,
     "metadata": {},
     "output_type": "execute_result"
    }
   ],
   "source": [
    "data.isnull().sum()"
   ]
  },
  {
   "cell_type": "code",
   "execution_count": 20,
   "metadata": {},
   "outputs": [
    {
     "name": "stdout",
     "output_type": "stream",
     "text": [
      "전체 샘플수 : 35939\n"
     ]
    }
   ],
   "source": [
    "data.dropna(axis=0, inplace=True)\n",
    "print('전체 샘플수 :', (len(data)))"
   ]
  },
  {
   "cell_type": "code",
   "execution_count": 21,
   "metadata": {},
   "outputs": [
    {
     "name": "stdout",
     "output_type": "stream",
     "text": [
      "텍스트의 최소 길이 : 1\n",
      "텍스트의 최대 길이 : 10510\n",
      "텍스트의 평균 길이 : 396.82812543476444\n",
      "요약의 최소 길이 : 0\n",
      "요약의 최대 길이 : 30\n",
      "요약의 평균 길이 : 8.327332424385764\n"
     ]
    },
    {
     "data": {
      "image/png": "[encoded data removed]",
      "text/plain": [
       "<Figure size 432x288 with 2 Axes>"
      ]
     },
     "metadata": {
      "needs_background": "light"
     },
     "output_type": "display_data"
    },
    {
     "data": {
      "image/png": "[encoded data removed]",
      "text/plain": [
       "<Figure size 432x288 with 1 Axes>"
      ]
     },
     "metadata": {
      "needs_background": "light"
     },
     "output_type": "display_data"
    },
    {
     "data": {
      "image/png": "[encoded data removed]",
      "text/plain": [
       "<Figure size 432x288 with 1 Axes>"
      ]
     },
     "metadata": {
      "needs_background": "light"
     },
     "output_type": "display_data"
    }
   ],
   "source": [
    "# 길이 분포 출력\n",
    "import matplotlib.pyplot as plt\n",
    "\n",
    "text_len = [len(s) for s in data['Text']]\n",
    "summary_len = [len(s) for s in data['Summary']]\n",
    "\n",
    "print('텍스트의 최소 길이 : {}'.format(np.min(text_len)))\n",
    "print('텍스트의 최대 길이 : {}'.format(np.max(text_len)))\n",
    "print('텍스트의 평균 길이 : {}'.format(np.mean(text_len)))\n",
    "print('요약의 최소 길이 : {}'.format(np.min(summary_len)))\n",
    "print('요약의 최대 길이 : {}'.format(np.max(summary_len)))\n",
    "print('요약의 평균 길이 : {}'.format(np.mean(summary_len)))\n",
    "\n",
    "plt.subplot(1,2,1)\n",
    "plt.boxplot(text_len)\n",
    "plt.title('Text')\n",
    "plt.subplot(1,2,2)\n",
    "plt.boxplot(summary_len)\n",
    "plt.title('Summary')\n",
    "plt.tight_layout()\n",
    "plt.show()\n",
    "\n",
    "plt.title('Text')\n",
    "plt.hist(text_len, bins = 40)\n",
    "plt.xlabel('length of samples')\n",
    "plt.ylabel('number of samples')\n",
    "plt.show()\n",
    "\n",
    "plt.title('Summary')\n",
    "plt.hist(summary_len, bins = 40)\n",
    "plt.xlabel('length of samples')\n",
    "plt.ylabel('number of samples')\n",
    "plt.show()"
   ]
  },
  {
   "cell_type": "code",
   "execution_count": 28,
   "metadata": {},
   "outputs": [
    {
     "name": "stdout",
     "output_type": "stream",
     "text": [
      "=3\n"
     ]
    }
   ],
   "source": [
    "text_max_len = 2000\n",
    "summary_max_len = 25\n",
    "print('=3')"
   ]
  },
  {
   "cell_type": "code",
   "execution_count": 29,
   "metadata": {},
   "outputs": [
    {
     "name": "stdout",
     "output_type": "stream",
     "text": [
      "=3\n"
     ]
    }
   ],
   "source": [
    "def below_threshold_len(max_len, nested_list):\n",
    "  cnt = 0\n",
    "  for s in nested_list:\n",
    "    if(len(s) <= max_len):\n",
    "        cnt = cnt + 1\n",
    "  print('전체 샘플 중 길이가 %s 이하인 샘플의 비율: %s'%(max_len, (cnt / len(nested_list))))\n",
    "print('=3')"
   ]
  },
  {
   "cell_type": "code",
   "execution_count": 30,
   "metadata": {},
   "outputs": [
    {
     "name": "stdout",
     "output_type": "stream",
     "text": [
      "전체 샘플 중 길이가 2000 이하인 샘플의 비율: 0.9932385430868973\n",
      "전체 샘플 중 길이가 25 이하인 샘플의 비율: 0.999916525223295\n"
     ]
    }
   ],
   "source": [
    "below_threshold_len(text_max_len, data['Text'])\n",
    "below_threshold_len(summary_max_len,  data['Summary'])"
   ]
  },
  {
   "cell_type": "code",
   "execution_count": 31,
   "metadata": {},
   "outputs": [
    {
     "name": "stdout",
     "output_type": "stream",
     "text": [
      "전체 샘플수 : 35694\n"
     ]
    }
   ],
   "source": [
    "data = data[data['Text'].apply(lambda x: len(x) <= text_max_len)]\n",
    "data = data[data['Summary'].apply(lambda x: len(x) <= summary_max_len)]\n",
    "print('전체 샘플수 :', (len(data)))"
   ]
  },
  {
   "cell_type": "code",
   "execution_count": 32,
   "metadata": {},
   "outputs": [
    {
     "name": "stdout",
     "output_type": "stream",
     "text": [
      "텍스트의 최소 길이 : 1\n",
      "텍스트의 최대 길이 : 1996\n",
      "텍스트의 평균 길이 : 378.73499747856783\n",
      "요약의 최소 길이 : 0\n",
      "요약의 최대 길이 : 25\n",
      "요약의 평균 길이 : 8.288283745167256\n"
     ]
    },
    {
     "data": {
      "image/png": "[encoded data removed]",
      "text/plain": [
       "<Figure size 432x288 with 2 Axes>"
      ]
     },
     "metadata": {
      "needs_background": "light"
     },
     "output_type": "display_data"
    },
    {
     "data": {
      "image/png": "[encoded data removed]",
      "text/plain": [
       "<Figure size 432x288 with 1 Axes>"
      ]
     },
     "metadata": {
      "needs_background": "light"
     },
     "output_type": "display_data"
    },
    {
     "data": {
      "image/png": "[encoded data removed]",
      "text/plain": [
       "<Figure size 432x288 with 1 Axes>"
      ]
     },
     "metadata": {
      "needs_background": "light"
     },
     "output_type": "display_data"
    }
   ],
   "source": [
    "text_len = [len(s) for s in data['Text']]\n",
    "summary_len = [len(s) for s in data['Summary']]\n",
    "\n",
    "print('텍스트의 최소 길이 : {}'.format(np.min(text_len)))\n",
    "print('텍스트의 최대 길이 : {}'.format(np.max(text_len)))\n",
    "print('텍스트의 평균 길이 : {}'.format(np.mean(text_len)))\n",
    "print('요약의 최소 길이 : {}'.format(np.min(summary_len)))\n",
    "print('요약의 최대 길이 : {}'.format(np.max(summary_len)))\n",
    "print('요약의 평균 길이 : {}'.format(np.mean(summary_len)))\n",
    "\n",
    "plt.subplot(1,2,1)\n",
    "plt.boxplot(text_len)\n",
    "plt.title('Text')\n",
    "plt.subplot(1,2,2)\n",
    "plt.boxplot(summary_len)\n",
    "plt.title('Summary')\n",
    "plt.tight_layout()\n",
    "plt.show()\n",
    "\n",
    "plt.title('Text')\n",
    "plt.hist(text_len, bins = 40)\n",
    "plt.xlabel('length of samples')\n",
    "plt.ylabel('number of samples')\n",
    "plt.show()\n",
    "\n",
    "plt.title('Summary')\n",
    "plt.hist(summary_len, bins = 40)\n",
    "plt.xlabel('length of samples')\n",
    "plt.ylabel('number of samples')\n",
    "plt.show()"
   ]
  },
  {
   "cell_type": "code",
   "execution_count": 33,
   "metadata": {},
   "outputs": [
    {
     "data": {
      "text/html": [
       "<div>\n",
       "<style scoped>\n",
       "    .dataframe tbody tr th:only-of-type {\n",
       "        vertical-align: middle;\n",
       "    }\n",
       "\n",
       "    .dataframe tbody tr th {\n",
       "        vertical-align: top;\n",
       "    }\n",
       "\n",
       "    .dataframe thead th {\n",
       "        text-align: right;\n",
       "    }\n",
       "</style>\n",
       "<table border=\"1\" class=\"dataframe\">\n",
       "  <thead>\n",
       "    <tr style=\"text-align: right;\">\n",
       "      <th></th>\n",
       "      <th>본문</th>\n",
       "      <th>제목</th>\n",
       "      <th>Text</th>\n",
       "      <th>Summary</th>\n",
       "    </tr>\n",
       "  </thead>\n",
       "  <tbody>\n",
       "    <tr>\n",
       "      <th>1619</th>\n",
       "      <td>이 기사는 내용이 없습니다.</td>\n",
       "      <td>[그림 동의보감] &lt;17&gt; 폐·심장 기능 높이는 방법</td>\n",
       "      <td>[이, 기사, 는, 내용, 이, 없, 습니다]</td>\n",
       "      <td>[그림, 동의보감, 17, 폐, 심장, 기능, 높이, 는, 방법]</td>\n",
       "    </tr>\n",
       "    <tr>\n",
       "      <th>2500</th>\n",
       "      <td>(2002년 1월 24일∼30일 기준)</td>\n",
       "      <td>[섹션 분석] 신문사별 섹션 현황</td>\n",
       "      <td>[2002, 년, 1, 월, 24, 일, 30, 일, 기준]</td>\n",
       "      <td>[섹션, 분석, 신문사, 별, 섹션, 현황]</td>\n",
       "    </tr>\n",
       "    <tr>\n",
       "      <th>25071</th>\n",
       "      <td>.\\n\\n&lt; 저작권자 ⓒ머니투데이(경제신문) &gt;</td>\n",
       "      <td>0</td>\n",
       "      <td>[저작, 권, 자, 머니, 투데이, 경제, 신문]</td>\n",
       "      <td>[0]</td>\n",
       "    </tr>\n",
       "    <tr>\n",
       "      <th>25119</th>\n",
       "      <td>KOVAnet.com에서 제공하는 일일시황입니다. \\n\\n==============...</td>\n",
       "      <td>[미등록주식/시황/특징주] 장외시장 시세-5월 29일</td>\n",
       "      <td>[kovanet, com, 에서, 제공, 하, 는, 일, 일, 시황, 입니다]</td>\n",
       "      <td>[미, 등록, 주식, 시황, 특징, 주, 장외, 시장, 시세, 5, 월, 29, 일]</td>\n",
       "    </tr>\n",
       "    <tr>\n",
       "      <th>26055</th>\n",
       "      <td>14일 대전시 동구 신흥동 자택, 발인 16일 오전. (042)283-5560</td>\n",
       "      <td>[부음] 黃啓式씨(세계일보 체육부기자) 조모상</td>\n",
       "      <td>[14, 일, 대전시, 동구, 신흥동, 자택, 발인, 16, 일, 오전, 042, ...</td>\n",
       "      <td>[부음, 씨, 세계일보, 체육부, 기자, 조, 모상]</td>\n",
       "    </tr>\n",
       "    <tr>\n",
       "      <th>26206</th>\n",
       "      <td>15일 인천 부평병원, 발인 17일 오전 10시. (02)593-1790</td>\n",
       "      <td>[부음] 康賢斗씨(서울대 언론정보학과 교수) 모친상</td>\n",
       "      <td>[15, 일, 인천, 부평, 병원, 발인, 17, 일, 오전, 10, 시, 02, ...</td>\n",
       "      <td>[부음, 씨, 서울대, 언론, 정보, 학과, 교수, 모친상]</td>\n",
       "    </tr>\n",
       "    <tr>\n",
       "      <th>26558</th>\n",
       "      <td>▲상무이사 李正吉</td>\n",
       "      <td>[인사] 한국정보통신진흥협회</td>\n",
       "      <td>[상무, 이사]</td>\n",
       "      <td>[인사, 한국, 정보, 통신, 진흥, 협회]</td>\n",
       "    </tr>\n",
       "    <tr>\n",
       "      <th>26559</th>\n",
       "      <td>▶상무 金聖起 ▶사외이사 崔尙裁 ▶상무이사 대우 李東完</td>\n",
       "      <td>[인사] 한국부동산신탁</td>\n",
       "      <td>[상무, 사외, 이사, 상무, 이사, 대우]</td>\n",
       "      <td>[인사, 한국, 부동산, 신탁]</td>\n",
       "    </tr>\n",
       "    <tr>\n",
       "      <th>26596</th>\n",
       "      <td>* 16일 신촌세브란스병원, 발인 18일 오전 8시. (02)364-9699</td>\n",
       "      <td>[부음] 卞善郁씨(한라위니아 아이스하키팀 코치) 부친상</td>\n",
       "      <td>[16, 일, 신촌, 세브, 란스, 병원, 발인, 18, 일, 오전, 8, 시, 0...</td>\n",
       "      <td>[부음, 씨, 한라, 위니, 아, 아이스하키, 팀, 코치, 부친상]</td>\n",
       "    </tr>\n",
       "    <tr>\n",
       "      <th>26607</th>\n",
       "      <td>▲비서실장 閔泰植 ▲경영혁신팀장 李鍾達▲퇴계로지점장 직무대행 金忠在</td>\n",
       "      <td>[인사] 서울은행</td>\n",
       "      <td>[비서, 실장, 경영, 혁신, 팀장, 퇴계로, 지점장, 직무, 대행]</td>\n",
       "      <td>[인사, 서울은행]</td>\n",
       "    </tr>\n",
       "    <tr>\n",
       "      <th>26608</th>\n",
       "      <td>▲편집국 정보과학부 부장직대 金壽完</td>\n",
       "      <td>[인사] 국민일보</td>\n",
       "      <td>[편집국, 정보, 과학부, 부장, 직대]</td>\n",
       "      <td>[인사, 국민, 일보]</td>\n",
       "    </tr>\n",
       "    <tr>\n",
       "      <th>26792</th>\n",
       "      <td>▲편집국장 丘月煥</td>\n",
       "      <td>[인사] 세계일보</td>\n",
       "      <td>[편집국장]</td>\n",
       "      <td>[인사, 세계일보]</td>\n",
       "    </tr>\n",
       "    <tr>\n",
       "      <th>26793</th>\n",
       "      <td>@관리본부장 李世勛 @사업본부장 權萬植</td>\n",
       "      <td>[인사] 경기중소기업종합지원센터</td>\n",
       "      <td>[관리, 본부, 장, 사업, 본부, 장]</td>\n",
       "      <td>[인사, 경기, 중소기업, 종합, 지원, 센터]</td>\n",
       "    </tr>\n",
       "    <tr>\n",
       "      <th>26794</th>\n",
       "      <td>17일 강남성모병원, 발인 19일 오전 7시. (02)590-2561</td>\n",
       "      <td>[부음] 朴容佑씨(한화국토개발 감사) 장모상</td>\n",
       "      <td>[17, 일, 강남, 성모병원, 발인, 19, 일, 오전, 7, 시, 02, 590...</td>\n",
       "      <td>[부음, 씨, 한, 화국, 토, 개발, 감사, 장모, 상]</td>\n",
       "    </tr>\n",
       "    <tr>\n",
       "      <th>26916</th>\n",
       "      <td>▲이사대우 鄭遇中 ▲부장 姜鐘晥 ▲차장 金敬桓 全炳赫 金八根 鄭珍旭 朴柄勳 朴奎泰 ...</td>\n",
       "      <td>[인사] 세종증권</td>\n",
       "      <td>[이사, 대우, 부장, 차장]</td>\n",
       "      <td>[인사, 세종, 증권]</td>\n",
       "    </tr>\n",
       "    <tr>\n",
       "      <th>26991</th>\n",
       "      <td>▦보통주추가상장=현대백화점(주식매수선택권행사) KNC(해외BW)</td>\n",
       "      <td>[거래소 메모/29일] 보통주추가상장=현대백화점</td>\n",
       "      <td>[보통주, 추가, 상장, 현대, 백화점, 주식, 매수, 선택, 권, 행사, knc,...</td>\n",
       "      <td>[거래소, 메모, 29, 일, 보통주, 추가, 상장, 현대, 백화점]</td>\n",
       "    </tr>\n",
       "    <tr>\n",
       "      <th>27404</th>\n",
       "      <td>전국이 흐리고 강원도, 충북, 경상도, 전남 및 제주 지방에서 한때 비가</td>\n",
       "      <td>[날씨] 흐린 하늘</td>\n",
       "      <td>[전국, 이, 흐리, 고, 강원도, 충북, 경상도, 전남, 및, 제주, 지방, 에서...</td>\n",
       "      <td>[날씨, 흐린, 하늘]</td>\n",
       "    </tr>\n",
       "    <tr>\n",
       "      <th>27774</th>\n",
       "      <td>▦유상청약=진흥기업(일반공모, 주간사 현대)▦보통주추가상장=한진해운(해외CB)</td>\n",
       "      <td>[거래소 메모/2일] 유상청약=진흥기업 등</td>\n",
       "      <td>[유상, 청약, 진흥기업, 일반, 공모, 주간, 사, 현대, 보통주, 추가, 상장,...</td>\n",
       "      <td>[거래소, 메모, 2, 일, 유상, 청약, 진흥기업, 등]</td>\n",
       "    </tr>\n",
       "    <tr>\n",
       "      <th>27811</th>\n",
       "      <td>▦매매거래정지=캔디글로벌미디어(주식병합을 위한 구주권제출)</td>\n",
       "      <td>[거래소 메모/4일] 캔디글로벌미디어</td>\n",
       "      <td>[매매, 거래, 정지, 캔디, 글로벌, 미디어, 주식, 병합, 을, 위한, 구주, ...</td>\n",
       "      <td>[거래소, 메모, 4, 일, 캔디, 글로벌, 미디어]</td>\n",
       "    </tr>\n",
       "    <tr>\n",
       "      <th>28085</th>\n",
       "      <td>▲공모주청약=*대한뉴팜\\n\\n(*=코스닥등록기업)</td>\n",
       "      <td>[증시메모] 추가상장 外</td>\n",
       "      <td>[공모주, 청약, 대한, 뉴, 팜, 코스닥, 등록, 기업]</td>\n",
       "      <td>[증시, 메모, 추가, 상장]</td>\n",
       "    </tr>\n",
       "    <tr>\n",
       "      <th>29064</th>\n",
       "      <td>&lt;&gt; TG벤처 = 유상증자 단수주 18주를 김태곤에 배정.\\n\\n[한경닷컴]</td>\n",
       "      <td>[코스닥공시] TG벤처</td>\n",
       "      <td>[tg, 벤처, 유상, 증자, 단수, 주, 18, 주, 를, 김태곤, 에, 배정, ...</td>\n",
       "      <td>[코스닥, 공시, tg, 벤처]</td>\n",
       "    </tr>\n",
       "    <tr>\n",
       "      <th>29515</th>\n",
       "      <td>[edaily 지영한기자]\\n\\n지영한 기자 (yhji@edaily.co.kr)</td>\n",
       "      <td>정통부, \"27일 10시현재 인터넷 문제 없다\"(1보)</td>\n",
       "      <td>[edaily, 지영, 한, 기자, 지영, 한, 기자, yhji, edaily, c...</td>\n",
       "      <td>[정통부, 27, 일, 10, 시, 현재, 인터넷, 문제, 없, 다, 1, 보]</td>\n",
       "    </tr>\n",
       "    <tr>\n",
       "      <th>29565</th>\n",
       "      <td>[edaily 강종구기자]\\n\\n강종구 기자 (darksky@edaily.co.kr)</td>\n",
       "      <td>슬래머 바이러스, 홍콩이 진원지일 가능성-AP(1보)</td>\n",
       "      <td>[edaily, 강종구, 기자, 강종구, 기자, darksky, edaily, co...</td>\n",
       "      <td>[슬, 래, 머, 바이러스, 홍콩, 이, 진원지, 일, 가능, 성, ap, 1, 보]</td>\n",
       "    </tr>\n",
       "    <tr>\n",
       "      <th>29731</th>\n",
       "      <td>[edaily 양미영기자]\\n\\n양미영 기자 (flounder@edaily.co.kr)</td>\n",
       "      <td>국채선물 상승..108.44p 12틱↑(1보)</td>\n",
       "      <td>[edaily, 양미영, 기자, 양미영, 기자, flounder, edaily, c...</td>\n",
       "      <td>[국채, 선물, 상승, 108, 44, p, 12, 틱, 1, 보]</td>\n",
       "    </tr>\n",
       "    <tr>\n",
       "      <th>31556</th>\n",
       "      <td>▲이용훈 현대자동차 홍보실장(전무)·김조근 현대자동차 홍보1 팀장(이사대우)</td>\n",
       "      <td>&lt;본사내방&gt;이용훈 현대자동차 홍보실장(전무) 外</td>\n",
       "      <td>[이용훈, 현대, 자동차, 홍보, 실장, 전무, 김조근, 현대, 자동차, 홍보, 1...</td>\n",
       "      <td>[본사, 내방, 이용훈, 현대, 자동차, 홍보, 실장, 전무]</td>\n",
       "    </tr>\n",
       "    <tr>\n",
       "      <th>31750</th>\n",
       "      <td>내용이 없습니다.</td>\n",
       "      <td>되살아나는 베트남전 악몽&lt;원문&gt;</td>\n",
       "      <td>[내용, 이, 없, 습니다]</td>\n",
       "      <td>[되살아나, 는, 베트남, 전, 악몽, 원문]</td>\n",
       "    </tr>\n",
       "    <tr>\n",
       "      <th>33616</th>\n",
       "      <td>%%990002%%</td>\n",
       "      <td>[대선]이후보·노후보 복구 참여</td>\n",
       "      <td>[990002]</td>\n",
       "      <td>[대선, 이, 후보, 노, 후보, 복구, 참여]</td>\n",
       "    </tr>\n",
       "    <tr>\n",
       "      <th>34000</th>\n",
       "      <td>%%990002%%\\n\\n\\n%%990003%%\\n\\n\\n%%990004%%\\n\\n...</td>\n",
       "      <td>[태풍]빗속 밥짓는 이재민</td>\n",
       "      <td>[990002, 990003, 990004, 990005]</td>\n",
       "      <td>[태풍, 빗속, 밥, 짓, 는, 이재민]</td>\n",
       "    </tr>\n",
       "    <tr>\n",
       "      <th>34315</th>\n",
       "      <td>&lt;서기관승진&gt; ▲국제통계과 박경애 ▲인구조사과 김종온·현영기</td>\n",
       "      <td>&lt;인사&gt; 통계청</td>\n",
       "      <td>[서기관, 승진, 국제, 통계, 과, 박경애, 인구, 조사, 과, 김종온, 현영기]</td>\n",
       "      <td>[인사, 통계청]</td>\n",
       "    </tr>\n",
       "    <tr>\n",
       "      <th>34565</th>\n",
       "      <td>▲편집국 정보과학부장 윤봉섭</td>\n",
       "      <td>&lt;인사&gt; 파이낸셜뉴스신문</td>\n",
       "      <td>[편집국, 정보, 과학, 부장, 윤봉섭]</td>\n",
       "      <td>[인사, 파이낸셜, 뉴스, 신문]</td>\n",
       "    </tr>\n",
       "    <tr>\n",
       "      <th>34582</th>\n",
       "      <td>◇전보 &lt;과장급&gt; ▲재정정책 홍동호 ▲산업재정 권해상 ▲사회재정 소기홍</td>\n",
       "      <td>&lt;인사&gt; 기획예산처</td>\n",
       "      <td>[전보, 과장, 급, 재정, 정책, 홍동호, 산업, 재정, 권해, 상, 사회, 재정...</td>\n",
       "      <td>[인사, 기획, 예산, 처]</td>\n",
       "    </tr>\n",
       "    <tr>\n",
       "      <th>35145</th>\n",
       "      <td>〈국장급 전보〉 △과학기술협력국 구본제 △기상청 기획국 황순종</td>\n",
       "      <td>&lt;인사&gt; 과학기술부</td>\n",
       "      <td>[국장, 급, 전보, 과학, 기술, 협력, 국, 구본제, 기상청, 기획국, 황순종]</td>\n",
       "      <td>[인사, 과학, 기술, 부]</td>\n",
       "    </tr>\n",
       "    <tr>\n",
       "      <th>35156</th>\n",
       "      <td>▲보도국 통일외교부장 이연재 ▲사회2부장 정태성</td>\n",
       "      <td>&lt;인사&gt; MBC</td>\n",
       "      <td>[보도국, 통일, 외교, 부장, 이연재, 사회, 2, 부장, 정태성]</td>\n",
       "      <td>[인사, mbc]</td>\n",
       "    </tr>\n",
       "    <tr>\n",
       "      <th>35622</th>\n",
       "      <td>8월 14일 ET 지수</td>\n",
       "      <td>ET지수</td>\n",
       "      <td>[8, 월, 14, 일, et, 지수]</td>\n",
       "      <td>[et, 지수]</td>\n",
       "    </tr>\n",
       "    <tr>\n",
       "      <th>36093</th>\n",
       "      <td>8월 19일 ET지수 ★관련 그래프/도표 보기</td>\n",
       "      <td>ET지수</td>\n",
       "      <td>[8, 월, 19, 일, et, 지수, 관련, 그래프, 도표, 보, 기]</td>\n",
       "      <td>[et, 지수]</td>\n",
       "    </tr>\n",
       "    <tr>\n",
       "      <th>37026</th>\n",
       "      <td>[이사대우 승진] ▲심봉섭 ▲김준희 ▲김강용 ▲전덕재</td>\n",
       "      <td>[인사] 드림라인</td>\n",
       "      <td>[이사, 대우, 승진, 심봉섭, 김준희, 김강용, 전덕재]</td>\n",
       "      <td>[인사, 드림, 라인]</td>\n",
       "    </tr>\n",
       "    <tr>\n",
       "      <th>37055</th>\n",
       "      <td>[3급] ▲하도급국장 백승기/4.4일자</td>\n",
       "      <td>[인사] 공정거래위원회</td>\n",
       "      <td>[3, 급, 하도급, 국장, 백승기, 4, 4, 일자]</td>\n",
       "      <td>[인사, 공정, 거래, 위원회]</td>\n",
       "    </tr>\n",
       "    <tr>\n",
       "      <th>37366</th>\n",
       "      <td>▲(주)두산 테크팩BG\\n\\n▲상무 李仁熙\\n\\n▲우리증권\\n\\n▲과천중앙영업소장 金壽玉</td>\n",
       "      <td>［경제계 인사］(주)두산 테크팩BG外</td>\n",
       "      <td>[주, 두산, 테크, 팩, bg, 상무, 우리, 증권, 과천, 중앙, 영업, 소장]</td>\n",
       "      <td>[경제, 계, 인사, 주, 두산, 테크, 팩, bg]</td>\n",
       "    </tr>\n",
       "  </tbody>\n",
       "</table>\n",
       "</div>"
      ],
      "text/plain": [
       "                                                      본문  \\\n",
       "1619                                     이 기사는 내용이 없습니다.   \n",
       "2500                               (2002년 1월 24일∼30일 기준)   \n",
       "25071                         .\\n\\n< 저작권자 ⓒ머니투데이(경제신문) >   \n",
       "25119  KOVAnet.com에서 제공하는 일일시황입니다. \\n\\n==============...   \n",
       "26055        14일 대전시 동구 신흥동 자택, 발인 16일 오전. (042)283-5560   \n",
       "26206           15일 인천 부평병원, 발인 17일 오전 10시. (02)593-1790   \n",
       "26558                                          ▲상무이사 李正吉   \n",
       "26559                     ▶상무 金聖起 ▶사외이사 崔尙裁 ▶상무이사 대우 李東完   \n",
       "26596         * 16일 신촌세브란스병원, 발인 18일 오전 8시. (02)364-9699   \n",
       "26607              ▲비서실장 閔泰植 ▲경영혁신팀장 李鍾達▲퇴계로지점장 직무대행 金忠在   \n",
       "26608                                ▲편집국 정보과학부 부장직대 金壽完   \n",
       "26792                                          ▲편집국장 丘月煥   \n",
       "26793                              @관리본부장 李世勛 @사업본부장 權萬植   \n",
       "26794             17일 강남성모병원, 발인 19일 오전 7시. (02)590-2561   \n",
       "26916  ▲이사대우 鄭遇中 ▲부장 姜鐘晥 ▲차장 金敬桓 全炳赫 金八根 鄭珍旭 朴柄勳 朴奎泰 ...   \n",
       "26991                ▦보통주추가상장=현대백화점(주식매수선택권행사) KNC(해외BW)   \n",
       "27404           전국이 흐리고 강원도, 충북, 경상도, 전남 및 제주 지방에서 한때 비가   \n",
       "27774        ▦유상청약=진흥기업(일반공모, 주간사 현대)▦보통주추가상장=한진해운(해외CB)   \n",
       "27811                   ▦매매거래정지=캔디글로벌미디어(주식병합을 위한 구주권제출)   \n",
       "28085                        ▲공모주청약=*대한뉴팜\\n\\n(*=코스닥등록기업)   \n",
       "29064         <> TG벤처 = 유상증자 단수주 18주를 김태곤에 배정.\\n\\n[한경닷컴]   \n",
       "29515       [edaily 지영한기자]\\n\\n지영한 기자 (yhji@edaily.co.kr)   \n",
       "29565    [edaily 강종구기자]\\n\\n강종구 기자 (darksky@edaily.co.kr)   \n",
       "29731   [edaily 양미영기자]\\n\\n양미영 기자 (flounder@edaily.co.kr)   \n",
       "31556         ▲이용훈 현대자동차 홍보실장(전무)·김조근 현대자동차 홍보1 팀장(이사대우)   \n",
       "31750                                          내용이 없습니다.   \n",
       "33616                                         %%990002%%   \n",
       "34000  %%990002%%\\n\\n\\n%%990003%%\\n\\n\\n%%990004%%\\n\\n...   \n",
       "34315                  <서기관승진> ▲국제통계과 박경애 ▲인구조사과 김종온·현영기   \n",
       "34565                                    ▲편집국 정보과학부장 윤봉섭   \n",
       "34582            ◇전보 <과장급> ▲재정정책 홍동호 ▲산업재정 권해상 ▲사회재정 소기홍   \n",
       "35145                 〈국장급 전보〉 △과학기술협력국 구본제 △기상청 기획국 황순종   \n",
       "35156                         ▲보도국 통일외교부장 이연재 ▲사회2부장 정태성   \n",
       "35622                                       8월 14일 ET 지수   \n",
       "36093                          8월 19일 ET지수 ★관련 그래프/도표 보기   \n",
       "37026                      [이사대우 승진] ▲심봉섭 ▲김준희 ▲김강용 ▲전덕재   \n",
       "37055                              [3급] ▲하도급국장 백승기/4.4일자   \n",
       "37366  ▲(주)두산 테크팩BG\\n\\n▲상무 李仁熙\\n\\n▲우리증권\\n\\n▲과천중앙영업소장 金壽玉   \n",
       "\n",
       "                                   제목  \\\n",
       "1619    [그림 동의보감] <17> 폐·심장 기능 높이는 방법   \n",
       "2500               [섹션 분석] 신문사별 섹션 현황   \n",
       "25071                               0   \n",
       "25119   [미등록주식/시황/특징주] 장외시장 시세-5월 29일   \n",
       "26055       [부음] 黃啓式씨(세계일보 체육부기자) 조모상   \n",
       "26206    [부음] 康賢斗씨(서울대 언론정보학과 교수) 모친상   \n",
       "26558                 [인사] 한국정보통신진흥협회   \n",
       "26559                    [인사] 한국부동산신탁   \n",
       "26596  [부음] 卞善郁씨(한라위니아 아이스하키팀 코치) 부친상   \n",
       "26607                       [인사] 서울은행   \n",
       "26608                       [인사] 국민일보   \n",
       "26792                       [인사] 세계일보   \n",
       "26793               [인사] 경기중소기업종합지원센터   \n",
       "26794        [부음] 朴容佑씨(한화국토개발 감사) 장모상   \n",
       "26916                       [인사] 세종증권   \n",
       "26991      [거래소 메모/29일] 보통주추가상장=현대백화점   \n",
       "27404                      [날씨] 흐린 하늘   \n",
       "27774         [거래소 메모/2일] 유상청약=진흥기업 등   \n",
       "27811            [거래소 메모/4일] 캔디글로벌미디어   \n",
       "28085                   [증시메모] 추가상장 外   \n",
       "29064                    [코스닥공시] TG벤처   \n",
       "29515  정통부, \"27일 10시현재 인터넷 문제 없다\"(1보)   \n",
       "29565   슬래머 바이러스, 홍콩이 진원지일 가능성-AP(1보)   \n",
       "29731       국채선물 상승..108.44p 12틱↑(1보)   \n",
       "31556      <본사내방>이용훈 현대자동차 홍보실장(전무) 外   \n",
       "31750               되살아나는 베트남전 악몽<원문>   \n",
       "33616               [대선]이후보·노후보 복구 참여   \n",
       "34000                  [태풍]빗속 밥짓는 이재민   \n",
       "34315                        <인사> 통계청   \n",
       "34565                   <인사> 파이낸셜뉴스신문   \n",
       "34582                      <인사> 기획예산처   \n",
       "35145                      <인사> 과학기술부   \n",
       "35156                        <인사> MBC   \n",
       "35622                            ET지수   \n",
       "36093                            ET지수   \n",
       "37026                       [인사] 드림라인   \n",
       "37055                    [인사] 공정거래위원회   \n",
       "37366            ［경제계 인사］(주)두산 테크팩BG外   \n",
       "\n",
       "                                                    Text  \\\n",
       "1619                           [이, 기사, 는, 내용, 이, 없, 습니다]   \n",
       "2500                   [2002, 년, 1, 월, 24, 일, 30, 일, 기준]   \n",
       "25071                        [저작, 권, 자, 머니, 투데이, 경제, 신문]   \n",
       "25119        [kovanet, com, 에서, 제공, 하, 는, 일, 일, 시황, 입니다]   \n",
       "26055  [14, 일, 대전시, 동구, 신흥동, 자택, 발인, 16, 일, 오전, 042, ...   \n",
       "26206  [15, 일, 인천, 부평, 병원, 발인, 17, 일, 오전, 10, 시, 02, ...   \n",
       "26558                                           [상무, 이사]   \n",
       "26559                           [상무, 사외, 이사, 상무, 이사, 대우]   \n",
       "26596  [16, 일, 신촌, 세브, 란스, 병원, 발인, 18, 일, 오전, 8, 시, 0...   \n",
       "26607             [비서, 실장, 경영, 혁신, 팀장, 퇴계로, 지점장, 직무, 대행]   \n",
       "26608                             [편집국, 정보, 과학부, 부장, 직대]   \n",
       "26792                                             [편집국장]   \n",
       "26793                             [관리, 본부, 장, 사업, 본부, 장]   \n",
       "26794  [17, 일, 강남, 성모병원, 발인, 19, 일, 오전, 7, 시, 02, 590...   \n",
       "26916                                   [이사, 대우, 부장, 차장]   \n",
       "26991  [보통주, 추가, 상장, 현대, 백화점, 주식, 매수, 선택, 권, 행사, knc,...   \n",
       "27404  [전국, 이, 흐리, 고, 강원도, 충북, 경상도, 전남, 및, 제주, 지방, 에서...   \n",
       "27774  [유상, 청약, 진흥기업, 일반, 공모, 주간, 사, 현대, 보통주, 추가, 상장,...   \n",
       "27811  [매매, 거래, 정지, 캔디, 글로벌, 미디어, 주식, 병합, 을, 위한, 구주, ...   \n",
       "28085                   [공모주, 청약, 대한, 뉴, 팜, 코스닥, 등록, 기업]   \n",
       "29064  [tg, 벤처, 유상, 증자, 단수, 주, 18, 주, 를, 김태곤, 에, 배정, ...   \n",
       "29515  [edaily, 지영, 한, 기자, 지영, 한, 기자, yhji, edaily, c...   \n",
       "29565  [edaily, 강종구, 기자, 강종구, 기자, darksky, edaily, co...   \n",
       "29731  [edaily, 양미영, 기자, 양미영, 기자, flounder, edaily, c...   \n",
       "31556  [이용훈, 현대, 자동차, 홍보, 실장, 전무, 김조근, 현대, 자동차, 홍보, 1...   \n",
       "31750                                    [내용, 이, 없, 습니다]   \n",
       "33616                                           [990002]   \n",
       "34000                   [990002, 990003, 990004, 990005]   \n",
       "34315     [서기관, 승진, 국제, 통계, 과, 박경애, 인구, 조사, 과, 김종온, 현영기]   \n",
       "34565                             [편집국, 정보, 과학, 부장, 윤봉섭]   \n",
       "34582  [전보, 과장, 급, 재정, 정책, 홍동호, 산업, 재정, 권해, 상, 사회, 재정...   \n",
       "35145     [국장, 급, 전보, 과학, 기술, 협력, 국, 구본제, 기상청, 기획국, 황순종]   \n",
       "35156             [보도국, 통일, 외교, 부장, 이연재, 사회, 2, 부장, 정태성]   \n",
       "35622                              [8, 월, 14, 일, et, 지수]   \n",
       "36093           [8, 월, 19, 일, et, 지수, 관련, 그래프, 도표, 보, 기]   \n",
       "37026                   [이사, 대우, 승진, 심봉섭, 김준희, 김강용, 전덕재]   \n",
       "37055                     [3, 급, 하도급, 국장, 백승기, 4, 4, 일자]   \n",
       "37366     [주, 두산, 테크, 팩, bg, 상무, 우리, 증권, 과천, 중앙, 영업, 소장]   \n",
       "\n",
       "                                               Summary  \n",
       "1619              [그림, 동의보감, 17, 폐, 심장, 기능, 높이, 는, 방법]  \n",
       "2500                          [섹션, 분석, 신문사, 별, 섹션, 현황]  \n",
       "25071                                              [0]  \n",
       "25119  [미, 등록, 주식, 시황, 특징, 주, 장외, 시장, 시세, 5, 월, 29, 일]  \n",
       "26055                    [부음, 씨, 세계일보, 체육부, 기자, 조, 모상]  \n",
       "26206                [부음, 씨, 서울대, 언론, 정보, 학과, 교수, 모친상]  \n",
       "26558                         [인사, 한국, 정보, 통신, 진흥, 협회]  \n",
       "26559                                [인사, 한국, 부동산, 신탁]  \n",
       "26596            [부음, 씨, 한라, 위니, 아, 아이스하키, 팀, 코치, 부친상]  \n",
       "26607                                       [인사, 서울은행]  \n",
       "26608                                     [인사, 국민, 일보]  \n",
       "26792                                       [인사, 세계일보]  \n",
       "26793                       [인사, 경기, 중소기업, 종합, 지원, 센터]  \n",
       "26794                 [부음, 씨, 한, 화국, 토, 개발, 감사, 장모, 상]  \n",
       "26916                                     [인사, 세종, 증권]  \n",
       "26991           [거래소, 메모, 29, 일, 보통주, 추가, 상장, 현대, 백화점]  \n",
       "27404                                     [날씨, 흐린, 하늘]  \n",
       "27774                 [거래소, 메모, 2, 일, 유상, 청약, 진흥기업, 등]  \n",
       "27811                    [거래소, 메모, 4, 일, 캔디, 글로벌, 미디어]  \n",
       "28085                                 [증시, 메모, 추가, 상장]  \n",
       "29064                                [코스닥, 공시, tg, 벤처]  \n",
       "29515     [정통부, 27, 일, 10, 시, 현재, 인터넷, 문제, 없, 다, 1, 보]  \n",
       "29565  [슬, 래, 머, 바이러스, 홍콩, 이, 진원지, 일, 가능, 성, ap, 1, 보]  \n",
       "29731            [국채, 선물, 상승, 108, 44, p, 12, 틱, 1, 보]  \n",
       "31556               [본사, 내방, 이용훈, 현대, 자동차, 홍보, 실장, 전무]  \n",
       "31750                        [되살아나, 는, 베트남, 전, 악몽, 원문]  \n",
       "33616                       [대선, 이, 후보, 노, 후보, 복구, 참여]  \n",
       "34000                           [태풍, 빗속, 밥, 짓, 는, 이재민]  \n",
       "34315                                        [인사, 통계청]  \n",
       "34565                               [인사, 파이낸셜, 뉴스, 신문]  \n",
       "34582                                  [인사, 기획, 예산, 처]  \n",
       "35145                                  [인사, 과학, 기술, 부]  \n",
       "35156                                        [인사, mbc]  \n",
       "35622                                         [et, 지수]  \n",
       "36093                                         [et, 지수]  \n",
       "37026                                     [인사, 드림, 라인]  \n",
       "37055                                [인사, 공정, 거래, 위원회]  \n",
       "37366                    [경제, 계, 인사, 주, 두산, 테크, 팩, bg]  "
      ]
     },
     "execution_count": 33,
     "metadata": {},
     "output_type": "execute_result"
    }
   ],
   "source": [
    "data[data['Text'].apply(lambda x: len(x) <= 15)]"
   ]
  },
  {
   "cell_type": "code",
   "execution_count": 36,
   "metadata": {},
   "outputs": [
    {
     "data": {
      "text/html": [
       "<div>\n",
       "<style scoped>\n",
       "    .dataframe tbody tr th:only-of-type {\n",
       "        vertical-align: middle;\n",
       "    }\n",
       "\n",
       "    .dataframe tbody tr th {\n",
       "        vertical-align: top;\n",
       "    }\n",
       "\n",
       "    .dataframe thead th {\n",
       "        text-align: right;\n",
       "    }\n",
       "</style>\n",
       "<table border=\"1\" class=\"dataframe\">\n",
       "  <thead>\n",
       "    <tr style=\"text-align: right;\">\n",
       "      <th></th>\n",
       "      <th>본문</th>\n",
       "      <th>제목</th>\n",
       "      <th>Text</th>\n",
       "      <th>Summary</th>\n",
       "    </tr>\n",
       "  </thead>\n",
       "  <tbody>\n",
       "  </tbody>\n",
       "</table>\n",
       "</div>"
      ],
      "text/plain": [
       "Empty DataFrame\n",
       "Columns: [본문, 제목, Text, Summary]\n",
       "Index: []"
      ]
     },
     "execution_count": 36,
     "metadata": {},
     "output_type": "execute_result"
    }
   ],
   "source": [
    "data[data['Text'].apply(lambda x:type(x) is str)]"
   ]
  },
  {
   "cell_type": "code",
   "execution_count": 37,
   "metadata": {},
   "outputs": [
    {
     "name": "stdout",
     "output_type": "stream",
     "text": [
      "전체 샘플수 : 35659\n"
     ]
    }
   ],
   "source": [
    "data = data[data['Text'].apply(lambda x: len(x) >= 15)]\n",
    "print('전체 샘플수 :', (len(data)))"
   ]
  },
  {
   "cell_type": "code",
   "execution_count": 38,
   "metadata": {},
   "outputs": [
    {
     "data": {
      "text/html": [
       "<div>\n",
       "<style scoped>\n",
       "    .dataframe tbody tr th:only-of-type {\n",
       "        vertical-align: middle;\n",
       "    }\n",
       "\n",
       "    .dataframe tbody tr th {\n",
       "        vertical-align: top;\n",
       "    }\n",
       "\n",
       "    .dataframe thead th {\n",
       "        text-align: right;\n",
       "    }\n",
       "</style>\n",
       "<table border=\"1\" class=\"dataframe\">\n",
       "  <thead>\n",
       "    <tr style=\"text-align: right;\">\n",
       "      <th></th>\n",
       "      <th>본문</th>\n",
       "      <th>제목</th>\n",
       "      <th>Text</th>\n",
       "      <th>Summary</th>\n",
       "      <th>decoder_input</th>\n",
       "      <th>decoder_target</th>\n",
       "    </tr>\n",
       "  </thead>\n",
       "  <tbody>\n",
       "    <tr>\n",
       "      <th>0</th>\n",
       "      <td>지난 11월 9일부터 14일까지 카타르 도하에서 열린 세계무역기구(WTO) 각료...</td>\n",
       "      <td>뉴라운드 협상 이제부터다 - WTO 국민연대 장원석 집행위원장의 협상 참관기</td>\n",
       "      <td>[지난, 11, 월, 9, 일, 부터, 14, 일, 까지, 카타르, 도하, 에서, ...</td>\n",
       "      <td>[뉴, 라운드, 협상, 이제, 부터, 다, wto, 국민연대, 장원석, 집행, 위원...</td>\n",
       "      <td>[&lt;sos&gt;, 뉴, 라운드, 협상, 이제, 부터, 다, wto, 국민연대, 장원석,...</td>\n",
       "      <td>[뉴, 라운드, 협상, 이제, 부터, 다, wto, 국민연대, 장원석, 집행, 위원...</td>\n",
       "    </tr>\n",
       "    <tr>\n",
       "      <th>1</th>\n",
       "      <td>미 정부가 아랍권 여론 장악을 위해 5억달러를 들여 위성방송국 설립을 추진중인 ...</td>\n",
       "      <td>미, 이슬람권 대상 방송국 설립 추진 - 본격 선전전 나서</td>\n",
       "      <td>[미, 정부, 가, 아랍, 권, 여론, 장악, 을, 위해, 5, 억, 달러, 를, ...</td>\n",
       "      <td>[미, 이슬람, 권, 대상, 방송국, 설립, 추진, 본격, 선전전, 나, 서]</td>\n",
       "      <td>[&lt;sos&gt;, 미, 이슬람, 권, 대상, 방송국, 설립, 추진, 본격, 선전전, 나...</td>\n",
       "      <td>[미, 이슬람, 권, 대상, 방송국, 설립, 추진, 본격, 선전전, 나, 서, &lt;e...</td>\n",
       "    </tr>\n",
       "    <tr>\n",
       "      <th>5</th>\n",
       "      <td>기업들의 경쟁적 중국행 러시로 일본, 대만, 싱가포르, 홍콩 등 중국 주변국의 ‘산...</td>\n",
       "      <td>중국發 '산업공동화' 도래 - 한국기업 \"국내투자 NO, 중국투자 YES\"</td>\n",
       "      <td>[기업, 들, 의, 경쟁, 적, 중, 국행, 러시, 로, 일본, 대만, 싱가포르, ...</td>\n",
       "      <td>[중국, 산업, 공동, 화, 도래, 한국, 기업, 국내, 투자, no, 중국, 투자...</td>\n",
       "      <td>[&lt;sos&gt;, 중국, 산업, 공동, 화, 도래, 한국, 기업, 국내, 투자, no,...</td>\n",
       "      <td>[중국, 산업, 공동, 화, 도래, 한국, 기업, 국내, 투자, no, 중국, 투자...</td>\n",
       "    </tr>\n",
       "    <tr>\n",
       "      <th>6</th>\n",
       "      <td>영국의 경제전문지 파이낸셜타임스가 18일(현지시간) 우리나라의 차세대전투기(FX...</td>\n",
       "      <td>한국 국방부, 미 보잉사 위해 로비? - 파이낸셜타임스 보도</td>\n",
       "      <td>[영국, 의, 경제, 전문지, 파이낸셜, 타임스, 가, 18, 일, 현지, 시간, ...</td>\n",
       "      <td>[한국, 국방부, 미, 보잉, 사, 위해, 로비, 파이낸셜, 타임스, 보도]</td>\n",
       "      <td>[&lt;sos&gt;, 한국, 국방부, 미, 보잉, 사, 위해, 로비, 파이낸셜, 타임스, 보도]</td>\n",
       "      <td>[한국, 국방부, 미, 보잉, 사, 위해, 로비, 파이낸셜, 타임스, 보도, &lt;eos&gt;]</td>\n",
       "    </tr>\n",
       "    <tr>\n",
       "      <th>7</th>\n",
       "      <td>다음은 미 시애틀에서 발행되는 시애틀 포스트-인텔리젠서의 18일자 사설 ‘석유와...</td>\n",
       "      <td>미국의 석유의존이 9.11 불렀다 - 평화ㆍ생태보전 원한다면 석유의존 줄여라</td>\n",
       "      <td>[다음, 은, 미, 시애틀, 에서, 발행, 되, 는, 시애틀, 포스트, 인텔리, 젠...</td>\n",
       "      <td>[미국, 의, 석유, 의존, 이, 9, 11, 불렀, 다, 평화, 생태, 보전, 원...</td>\n",
       "      <td>[&lt;sos&gt;, 미국, 의, 석유, 의존, 이, 9, 11, 불렀, 다, 평화, 생태...</td>\n",
       "      <td>[미국, 의, 석유, 의존, 이, 9, 11, 불렀, 다, 평화, 생태, 보전, 원...</td>\n",
       "    </tr>\n",
       "  </tbody>\n",
       "</table>\n",
       "</div>"
      ],
      "text/plain": [
       "                                                  본문  \\\n",
       "0    지난 11월 9일부터 14일까지 카타르 도하에서 열린 세계무역기구(WTO) 각료...   \n",
       "1    미 정부가 아랍권 여론 장악을 위해 5억달러를 들여 위성방송국 설립을 추진중인 ...   \n",
       "5  기업들의 경쟁적 중국행 러시로 일본, 대만, 싱가포르, 홍콩 등 중국 주변국의 ‘산...   \n",
       "6    영국의 경제전문지 파이낸셜타임스가 18일(현지시간) 우리나라의 차세대전투기(FX...   \n",
       "7    다음은 미 시애틀에서 발행되는 시애틀 포스트-인텔리젠서의 18일자 사설 ‘석유와...   \n",
       "\n",
       "                                           제목  \\\n",
       "0  뉴라운드 협상 이제부터다 - WTO 국민연대 장원석 집행위원장의 협상 참관기   \n",
       "1            미, 이슬람권 대상 방송국 설립 추진 - 본격 선전전 나서   \n",
       "5   중국發 '산업공동화' 도래 - 한국기업 \"국내투자 NO, 중국투자 YES\"   \n",
       "6           한국 국방부, 미 보잉사 위해 로비? - 파이낸셜타임스 보도   \n",
       "7  미국의 석유의존이 9.11 불렀다 - 평화ㆍ생태보전 원한다면 석유의존 줄여라   \n",
       "\n",
       "                                                Text  \\\n",
       "0  [지난, 11, 월, 9, 일, 부터, 14, 일, 까지, 카타르, 도하, 에서, ...   \n",
       "1  [미, 정부, 가, 아랍, 권, 여론, 장악, 을, 위해, 5, 억, 달러, 를, ...   \n",
       "5  [기업, 들, 의, 경쟁, 적, 중, 국행, 러시, 로, 일본, 대만, 싱가포르, ...   \n",
       "6  [영국, 의, 경제, 전문지, 파이낸셜, 타임스, 가, 18, 일, 현지, 시간, ...   \n",
       "7  [다음, 은, 미, 시애틀, 에서, 발행, 되, 는, 시애틀, 포스트, 인텔리, 젠...   \n",
       "\n",
       "                                             Summary  \\\n",
       "0  [뉴, 라운드, 협상, 이제, 부터, 다, wto, 국민연대, 장원석, 집행, 위원...   \n",
       "1        [미, 이슬람, 권, 대상, 방송국, 설립, 추진, 본격, 선전전, 나, 서]   \n",
       "5  [중국, 산업, 공동, 화, 도래, 한국, 기업, 국내, 투자, no, 중국, 투자...   \n",
       "6         [한국, 국방부, 미, 보잉, 사, 위해, 로비, 파이낸셜, 타임스, 보도]   \n",
       "7  [미국, 의, 석유, 의존, 이, 9, 11, 불렀, 다, 평화, 생태, 보전, 원...   \n",
       "\n",
       "                                       decoder_input  \\\n",
       "0  [<sos>, 뉴, 라운드, 협상, 이제, 부터, 다, wto, 국민연대, 장원석,...   \n",
       "1  [<sos>, 미, 이슬람, 권, 대상, 방송국, 설립, 추진, 본격, 선전전, 나...   \n",
       "5  [<sos>, 중국, 산업, 공동, 화, 도래, 한국, 기업, 국내, 투자, no,...   \n",
       "6  [<sos>, 한국, 국방부, 미, 보잉, 사, 위해, 로비, 파이낸셜, 타임스, 보도]   \n",
       "7  [<sos>, 미국, 의, 석유, 의존, 이, 9, 11, 불렀, 다, 평화, 생태...   \n",
       "\n",
       "                                      decoder_target  \n",
       "0  [뉴, 라운드, 협상, 이제, 부터, 다, wto, 국민연대, 장원석, 집행, 위원...  \n",
       "1  [미, 이슬람, 권, 대상, 방송국, 설립, 추진, 본격, 선전전, 나, 서, <e...  \n",
       "5  [중국, 산업, 공동, 화, 도래, 한국, 기업, 국내, 투자, no, 중국, 투자...  \n",
       "6  [한국, 국방부, 미, 보잉, 사, 위해, 로비, 파이낸셜, 타임스, 보도, <eos>]  \n",
       "7  [미국, 의, 석유, 의존, 이, 9, 11, 불렀, 다, 평화, 생태, 보전, 원...  "
      ]
     },
     "execution_count": 38,
     "metadata": {},
     "output_type": "execute_result"
    }
   ],
   "source": [
    "# 요약 데이터에는 시작 토큰과 종료 토큰을 추가한다.\n",
    "data['decoder_input'] = data['Summary'].apply(lambda x : ['<sos>'] + x)\n",
    "data['decoder_target'] = data['Summary'].apply(lambda x : x + ['<eos>'])\n",
    "data.head()"
   ]
  },
  {
   "cell_type": "code",
   "execution_count": 39,
   "metadata": {},
   "outputs": [
    {
     "name": "stdout",
     "output_type": "stream",
     "text": [
      "=3\n"
     ]
    }
   ],
   "source": [
    "encoder_input = np.array(data['Text']) # 인코더의 입력\n",
    "decoder_input = np.array(data['decoder_input']) # 디코더의 입력\n",
    "decoder_target = np.array(data['decoder_target']) # 디코더의 레이블\n",
    "print('=3')"
   ]
  },
  {
   "cell_type": "code",
   "execution_count": 40,
   "metadata": {},
   "outputs": [
    {
     "name": "stdout",
     "output_type": "stream",
     "text": [
      "[ 7626 15632 23643 ... 23358 22691 19303]\n"
     ]
    }
   ],
   "source": [
    "indices = np.arange(encoder_input.shape[0])\n",
    "np.random.shuffle(indices)\n",
    "print(indices)"
   ]
  },
  {
   "cell_type": "code",
   "execution_count": 41,
   "metadata": {},
   "outputs": [
    {
     "data": {
      "text/plain": [
       "array([ 0,  1,  2,  3,  4,  5,  6,  7,  8,  9, 10, 11, 12, 13, 14, 15, 16,\n",
       "       17, 18, 19, 20, 21, 22, 23, 24, 25, 26, 27, 28, 29, 30, 31, 32, 33,\n",
       "       34, 35, 36, 37, 38, 39, 40, 41, 42, 43, 44, 45, 46, 47, 48, 49])"
      ]
     },
     "execution_count": 41,
     "metadata": {},
     "output_type": "execute_result"
    }
   ],
   "source": [
    "what = np.arange(50)\n",
    "what"
   ]
  },
  {
   "cell_type": "code",
   "execution_count": 43,
   "metadata": {},
   "outputs": [
    {
     "data": {
      "text/plain": [
       "array([list(['영국', '의', '경제', '전문지', '파이낸셜', '타임스', '가', '18', '일', '현지', '시간', '우리나라', '의', '차세대', '전투기', 'fx', '선정', '과정', '에', '우리', '나라', '의', '국방부', '가', '미국', '보잉', '사', '의', 'f', '15', '를', '위해', '로비', '를', '하', '고', '있', '는', '것', '으로', '생각', '되', '며', '청와대', '도', '미국', '과', '의', '동맹', '관계', '손상', '을', '우려', '해', '마', '지', '못해', '끌려가', '는', '분위기', '라고', '보도', '해', '큰', '물의', '를', '빚', '고', '있', '다', '이', '보도', '가', '사실', '로', '드러날', '경우', '4', '조', '3', '천억', '원', '규모', '의', '천문학', '적', '예산', '이', '걸린', 'fx', '선정', '작업', '의', '객관', '성', '이', '국제', '적', '으로', '의문시', '될', '뿐', '아니', '라', '한', '나라', '의', '국방부', '가', '외국', '방위', '산업체', '의', '로비스트', '로', '전락', '한', '대목', '역시', '향후', '정치', '문제', '화', '할', '가능', '성', '이', '농후', '하', '기', '때문', '이', '다', '문제', '의', '파이낸셜', '타임스', '는', 'fx', '선정', '작업', '에', '입찰', '을', '하', '고', '있', '는', '유럽', '쪽', '언론', '이', '라는', '점', '에서', '유의', '할', '대목', '이', '있', '으나', '국방부', '와', '청와대', '는', '이', '같', '은', '의혹', '에', '해명', '하', '기', '위해서', '라도', 'fx', '선정', '작업', '에', '엄정', '을', '기해야', '할', '것', '으로', '지적', '되', '고', '있', '다', '한국', '의', '국방', '장관', '이', 'f', '15', '를', '위해', '로비', '를', '하', '고', '있', '는', '것', '으로', '생각', '된다', '파이낸셜', '타임스', '는', '서울', '의', '전투기', '선정', '지연', '으로', '타격', '을', '입', '은', '보잉', '사', '의', '희망', '이', '라는', '제목', '의', '기사', '에서', '한국', '의', '국방부', '는', '미군', '과', '의', '상호', '운용', '성', '에', '우선', '권', '을', '두', '어야', '한다고', '주장', '함', '으로써', 'f', '15', '를', '위해', '로비', '를', '하', '고', '있', '는', '것', '으로', '생각', '된다', '며', '대통령', '이', '거주', '하', '고', '있', '는', '청와대', '도', '워싱턴', '과', '의', '동맹', '관계', '손상', '을', '꺼려', '마', '지', '못해', '끌려가', '는', '것', '으로', '보인다', '고', '주장', '했', '다', '이', '신문', '은', '이', '어', '그러나', '일부', '공군', '장교', '들', '은', '보잉', '사', '에게', '가장', '큰', '위협', '이', '되', '고', '있', '으며', '가격', '면', '에서', '도', '가장', '경쟁력', '이', '있', '는', '프랑스', '닷', '쏘', '의', '라팔', '같', '은', '보다', '현대', '적', '인', '제트기', '를', '원하', '고', '있', '다', '고', '덧붙였', '다', '이', '신문', '은', '이', '에', '앞서', '한국', '정부', '는', '32', '억', '달러', '에', '달하', '는', '차세대', '전투기', '계약', '을', '내년', '3', '월', '까지', '로', '연기', '했다', '며', '이', '는', '보잉', '사', '에게', '는', '불리', '하', '고', '유럽', '항공기', '회사', '들', '에게', '는', '유리', '한', '결정', '으로', '보인다', '고', '보도', '했', '다', '이', '신문', '은', '2', '천억', '달러', '규모', '의', '미국', '차세대', '전투기', 'jsf', '선정', '사업', '에서', '보잉', '사', '가', '록히드', '마틴', '에게', '패', '함', '에', '따라', '보', '잉사', '의', '전투기', '생산', '부문', '이', '하청', '생산', '에', '의존', '해야', '할', '위기', '에', '직면', '하', '고', '있', '다며', '현재', '보잉', '사', '는', '추가', '적', '인', '국제', '수주', '가', '있', '는', '한', 'f', '15', '의', '생산', '라인', '을', '유지', '할', '것', '이', '라고', '주장', '하', '고', '있', '으나', '현재', '10', '여', '대', '의', 'f', '15', '만', '이', '계약', '된', '상태', '라고', '밝혔', '다', '보', '잉사', '가', 'f', '15', '선정', '에', '여전히', '희망', '을', '갖', '고', '있', '다', '파이낸셜', '타임스', '는', 'jsf', '수주', '실패', '후', '이번', '한국', '차세대', '전투기', '수주', '에서', '승리', '해야', '전투기', '시장', '에서', '보잉', '사', '의', '미래', '가', '밝', '아', '질', '것', '이', '라고', '업계', '에서', '는', '말', '하', '고', '있', '다', '며', '수주', '에', '승리', '하', '면', '9', '11', '테러', '후', '에', '야기', '된', '민간', '항공', '사업', '의', '경기', '하락', '으로', '파생', '된', '회사', '의', '재정난', '도', '해소', '할', '수', '있', '을', '것', '이', '기', '때문', '이', '라고', '보', '잉사', '가', 'f', '15', '판매', '에', '필사', '적', '인', '이유', '를', '밝혔', '다', '이', '신문', '은', '보잉', '사', '는', '미국', '과', '한국', '사이', '의', '가까운', '군사', '관계', '때문', '에', '이번', '계약', '에', '대해', '여전히', '희망', '을', '갖', '고', '있', '다', '고', '덧붙였', '다', '파이낸셜', '타임스', '는', '이', '밖', '에', 'fx', '선정', '작업', '을', '둘러싼', '유럽', '군수', '산업체', '들', '간', '의', '미묘', '한', '갈등', '도', '소개', '했', '다', '이', '신문', '은', '타이푼', '을', '내놓', '은', '유럽', '컨소시엄', '회원', '들', '독일', '스페인', '이탈리아', '영국', '은', '그동안', '보잉', '이', '확실히', '선택', '되', '리라고', '여기', '며', '수주', '에', '열의', '가', '없', '었', '음', '을', '자인', '하', '고', '있', '다', '며', '그러나', '서울', '의', '한', '유럽', '외교관', '은', '선택', '이', '좀', '더', '지연', '되', '면', '타이푼', '에', '더', '흥미', '를', '가지', '게', '될', '것', '이', '라고', '말', '하', '고', '있', '다', '고', '전했', '다', '이', '외교관', '은', '만약', '보잉', '사', '가', '불리', '하', '게', '되', '면', '타이푼', '의', '가장', '큰', '악몽', '은', '프랑스', '가', '이', '계약', '을', '따내', '는', '것', '이', '며', '그', '계약', '은', '타이푼', '의', '신용', '을', '손상', '시킬', '것', '이', '라고', '유럽', '군수', '산업체', '들', '간', '의', '미묘', '한', '신경전', '을', '전했', '다고', '파이낸셜', '타임스', '는', '보도', '했', '다', '이', '신문', '은', '그러나', '국방부', '의', '한', '관계자', '는', '아직', '보잉', '사', '로', '결정', '되', '지', '않', '았', '고', '결정', '은', '지연', '된', '상태', '라고', '말', '했', '다고', '전했', '다', '손봉석', '기자']),\n",
       "       list(['미', '정부', '가', '아랍', '권', '여론', '장악', '을', '위해', '5', '억', '달러', '를', '들여', '위성', '방송국', '설립', '을', '추진', '중', '인', '것', '으로', '알려졌', '다', '미국', '인터넷', '신문', '살롱', '닷컴', 'salon', 'com', '은', '19', '일', '현지', '시간', '미국', '정부', '가', '회교', '권', '에', '대한', '공식', '적', '인', '교류', '를', '늘리', '기', '위해', '아랍어', '위성', 'tv', '채널', '을', '포함', '한', '새로운', '세대', '의', '국제', '방송국', '을', '설립', '하', '기', '위해', '5', '억', '달러', '예산', '조성', '에', '착수', '했', '다', '고', '보도', '했', '다', '이', '방송국', '은', '아랍', '지역', '뿐', '아니', '라', '전체', '이슬람', '권', '을', '대상', '으로', '할', '계획', '이', '며', '북아프리카', '에서', '인도네시아', '까지', '라디오', 'tv', '인터넷', '서비스', '를', '통해', '26', '개', '언어', '로', '40', '개', '국가', '에', '정보', '와', '뉴스', '를', '제공', '하', '며', '주요', '대상', '은', '15', '30', '살', '사이', '의', '5', '억', '명', '의', '회교도', '를', '목표', '로', '하', '고', '있', '다', '미국', '은', '이번', '아프간', '전쟁', '에서', '영국', '과', '함께', '미디어', '전문가', '들', '을', '중심', '으로', '신속', '여론', '대응', '팀', '을', '구성', '해', '서방측', '의', '반전', '여론', '과', '이슬람', '권', '의', '전쟁', '에', '대한', '강한', '반감', '을', '조기', '에', '진화', '하', '려고', '노력', '했으나', '역부족', '이', '었', '다', '월', '남전', '당시', '자유', '로운', '취재', '와', '보도', '를', '허용', '했', '다', '거세', '지', '는', '국내', '의', '반', '전여', '론', '에', '고생', '했', '던', '뼈아픈', '기억', '이', '있', '는', '미국', '정부', '는', '이번', '전쟁', '기간', '중', '에', '는', '국내', '언론', '은', '보도', '통제', '에', '가까운', '관리', '를', '할', '수', '있', '었', '다', '그', '좋', '은', '예', '가', '지난달', '20', '일', '의', '칸다하르', '공항', '침투', '였', '다', '비록', '지난', '12', '일자', '뉴욕', '커지', '의', '고발', '기사', '로', '인해', '작전', '은', '대성공', '이', '었', '으며', '미군', '피해', '는', '경상자', '2', '명', '뿐', '이', '라는', '럼', '스', '필드', '국방부', '장관', '의', '발표', '는', '거짓', '임', '이', '밝혀졌으나', '현장', '이', '미군', '의', '피', '로', '흥건', '했다', '는', '영국', '가디', '언지', '등', '의', '보도', '는', '어느', '정도', '막', '아', '낼', '수', '있', '었', '다', '하지만', '이번', '전쟁', '에', '미국', '은', '새로운', '적수', '를', '만나', '게', '되', '었', '다', '아랍', '의', '반도국', '카타르', '에서', '96', '년', '부터', '방송', '을', '시작', '한', '알', '자지라', '가', '이번', '전쟁', '에서', '보도', '를', '주도', '한', '것', '이', '다', '한', '예', '로', '개전', '초기', '미군', '은', '헬리콥터', '한', '대', '가', '추락', '하', '자', '기상이변', '으로', '인한', '것', '이', '라고', '밝혔으나', '알', '자지라', '는', '부서진', '헬기', '잔해', '를', '둘러보', '는', '탈레반', '전사', '들', '의', '모습', '을', '방영', '했', '고', '미국', '은', '이', '보도', '에', '별다른', '대응', '을', '하', '지', '못했', '다', '격추', '여부', '를', '떠나', '틸레', '반', '에게', '밀리', '는', '인상', '을', '준', '것', '이', '다', '그', '후', '에', '도', '오폭', '으로', '인해', '파괴', '된', '민간', '건물', '등', '이', '알', '자지라', '방송', '을', '거쳐서', '온', '세계', '로', '방영', '될', '때', '마다', '각국', '의', '반전시', '위', '와', '이슬람', '권', '의', '반미', '집회', '가', '점차', '강도', '를', '더', '해', '가', '는데', '도', '속수무책', '으로', '있', '어야', '했', '다', '미', '정부', '가', '이슬람', '권', '방송국', '설립', '에', '착수', '한', '또', '다른', '이유', '는', '아랍', '우방', '인', '이집트', '나', '사우디', '정부', '를', '포함', '한', '아랍', '지역', '방송국', '들', '의', '보도', '내용', '에', '대한', '불만', '도', '있', '는', '것', '으로', '보인다', '전통', '적', '인', '미국', '의', '우방', '이', '며', '회교', '문화', '권', '인', '국가', '들', '은', '대', '테러', '연대', '에', '는', '애매', '한', '입장', '을', '취하', '면서', '자국', '의', '관영', '방송', '들', '이', '미국', '의', '공습', '과', '전쟁', '수행', '에', '강', '도', '높', '은', '비난', '을', '하', '도록', '허용', '하', '여', '국민', '들', '의', '불만', '을', '해소', '시키', '고', '정권', '의', '안정', '도', '도모', '하', '는', '줄타기', '를', '했', '기', '때문', '이', '다', '미국', '정부', '는', '이런', '곤란', '을', '피하', '고', '테러', '와', '의', '전쟁', '에서', '승리', '를', '하', '기', '위해', '장기', '적', '인', '투자', '를', '하', '기', '로', '한', '것', '으로', '보인다', '살롱', '닷컴', '은', '백악관', '과', '의회', '지도자', '들', '이', '준비', '중', '인', '이슬람', '방송', '이', '결국', '알', '자지라', '같이', '아랍', '또는', '이슬람', '지역', '에서', '만들', '어', '지', '는', '지역', '방송', '들', '에', '대응', '하', '기', '위한', '것', '으로', '보인다고', '분석', '했', '다', '미국', '정부', '의', '이런', '방송', '은', '냉전', '시대', '에', '이미', '효과', '를', '발휘', '한', '적', '이', '있', '다', '공산', '권', '을', '향한', '미국', '의', '소리', '나', '동구', '를', '향한', '자유', '유럽', '방송', '등', '이', '그', '좋', '은', '예이다', '아랍', '과', '이슬람', '을', '향한', '새로운', '방송', '도', '냉전', '시대', '의', '미국', '의', '소리', '방송', '처럼', '프로그램', '사이', '사이', '에', '미국', '의', '메시지', '를', '전할', '계획', '이', '라고', '살롱', '닷컴', '은', '전했', '다', '손봉석', '기자']),\n",
       "       list(['기업', '들', '의', '경쟁', '적', '중', '국행', '러시', '로', '일본', '대만', '싱가포르', '홍콩', '등', '중국', '주', '변국', '의', '산업', '공동', '화', '가', '자국', '경제', '기반', '붕괴', '를', '우려', '할', '만큼', '가파른', '속도', '로', '진행', '되', '고', '있', '는', '것', '으로', '밝혀졌', '다', '그', '동안', '영세', '중소기업', '중심', '으로', '중국', '진출', '을', '해온', '까닭', '에', '상대', '적', '으로', '산업', '공동', '화', '위기감', '이', '덜', '했', '던', '우리나라', '도', '최근', '들', '어서', '는', '대', '기업', '들', '이', '앞', '다퉈', '중', '국행', '을', '선언', '하', '고', '나섬', '으로써', '산업', '공동', '화', '회오리', '에', '말려들', '가능', '성', '이', '급속히', '높', '아', '진', '것', '으로', '우려', '되', '고', '있', '다', '일본', '의', '중국', '생산', '거점', '숫자', '가', '북미', '생산', '거점', '앞질러', '중국', '의', '급부상', '에', '따른', '산업', '공동', '화', '위기감', '이', '가장', '심한', '나라', '는', '아시아', '제', '1', '경제', '대국인', '일본', '이', '다', '일본', '의', '국제', '협력', '은행', '이', '19', '일', '발표', '한', '2001', '년', '도', '해외', '직접', '투자', '앙', '케이트', '조사', '결과', '에', '따르', '면', '일본', '의', '제조업', '들', '이', '중국', '에', '세운', '해외', '생산', '거점', '숫자', '가', '사상', '최초', '로', '미국', '등', '북미', '지역', '의', '생산', '거점', '숫자', '를', '앞질렀', '다', '일본', '기업', '의', '해외', '거점', '숫자', '는', '90', '년', '대', '상반기', '까지', '는', '압도', '적', '으로', '북미', '지역', '이', '많', '았', '으나', '하반기', '부터', '중국', '으로', '의', '진출', '속도', '가', '빨라져', '지난해', '에', '는', '북미', '지역', '과', '중국', '지역', '의', '거점', '이', '같', '은', '수', '가', '됐', '다', '그러', '다가', '이번', '조사', '에서', '중국', '이', '1', '백', '개', '사', '이상', '늘어나', '7', '백', '72', '개', '사', '가', '된', '반면', '북미', '지역', '은', '6', '백', '92', '개', '사', '에', '그쳐', '사상', '최초', '로', '중국', '지역', '이', '북미', '지역', '을', '앞질렀', '다', '또한', '일본', '기업', '들', '이', '향후', '3', '년', '간', '투자', '하', '고자', '하', '는', '지역', '에서', '도', '중국', '이', '76', '를', '차지', '앞', '으로', '중국', '지역', '으로', '의', '진출', '기업', '숫자', '가', '계속', '늘어날', '것', '임', '을', '시사', '했', '다', '이런', '식', '의', '추세', '가', '계속', '될', '경우', '현재', '전체', '총', '생산고', '가운데', '23', '를', '차지', '하', '고', '있', '는', '해외', '생산고', '가', '오', '는', '2004', '년', '에', '는', '30', '대', '에', '달할', '것', '으로', '내다봤', '다', '이', '같', '은', '일본', '기업', '들', '의', '중국', '진출', '러시', '는', '곧바로', '일본', '경제', '에', '치명', '적', '파장', '을', '미칠', '전망', '이', '다', '일본', '경제', '산업', '상', '의', '자문', '기구', '인', '산업', '구조', '심의회', '가', '19', '일', '공개', '한', '연구', '보고서', '에', '따르', '면', '중국', '의', '가공', '스런', '성장세', '에', '짓눌려', '일본', '의', '산업', '공동화', '가', '앞', '으로', '빠른', '속도', '로', '진행', '될', '것', '이', '라며', '이런', '상황', '을', '방치', '할', '경우', '오', '는', '2006', '2010', '년', '의', '일본', '실질', '경제', '성장', '률', '은', '0', '5', '에', '그치', '고', '실업', '률', '은', '5', '대', '까지', '높', '아', '질', '것', '으로', '내다봤', '다', '이', '와', '함께', '일본', '의', '무역', '흑자', '폭', '도', '급속히', '줄어들', '것', '으로', '전망', '했', '다', '산업', '구조', '심의회', '는', '넉', '달', '전인', '지난', '7', '월', '에', '낸', '보고서', '에서', '는', '2006', '2010', '년', '의', '일본', '경제', '성장', '률', '을', '3', '로', '낙관', '했었', '다', '그러나', '중국', '의', '세계무역기구', 'wto', '가입', '을', '계기', '로', '일본', '대', '기업', '가운데', '절반', '이상', '이', '3', '년', '이내', '에', '생산', '라인', '을', '중국', '으로', '옮길', '계획', '을', '세우', '는', '등', '일본', '기업', '들', '의', '중', '국행', '러시', '가', '본격', '화', '하', '면서', '종전', '의', '전망', '을', '대폭', '수정', '했', '다', '중국', '쇼크', '로', '아시아', '제', '2', '의', '위기', '도래', '할', '것', '대만', '홍콩', '싱가포르', '등', '중국', '의', '급부상', '이전', '에', '아시아', '의', '용', '들', '로', '행세', '해', '온', '아시아', '중진국', '들', '과', '동남아', '국가', '연합', 'asean', '등', '동남아', '신흥', '국가', '들', '의', '산업', '공동', '화', '위기감', '도', '급속히', '높', '아', '지', '고', '있', '다', '이', '들', '국가', '의', '공통점', '은', '올', '들', '어', '성장', '률', '이', '마이너스', '로', '급락', '할', '정도', '로', '70', '년', '대', '오', '일', '쇼크', '이래', '가장', '심각', '한', '경제', '위기', '에', '봉착', '했', '다는', '사실', '이', '다', '이', '들', '의', '주력', '수출', '시장', '이', '던', '미국', '등', '의', '경기', '침체', '에다가', '차이', '나', '쇼크', '라는', '중국', '경제', '의', '급신장', '사이', '에서', '샌드위치', '신세', '가', '된', '것', '이', '다', '대만', '홍콩', '싱가포르', '등', '은', '자국', '주력', '기업', '들', '의', '중', '국행', '으로', '동남아', '국가', '연합', '은', '그동안', '자국', '에', '진출', '해', '있', '던', '다국적', '기업', '들', '의', '중', '국행', '으로', '산업', '공동', '화', '위기', '에', '직면', '하', '고', '있', '다', '도쿄', '시장', '선거', '에', '까지', '출마', '했', '던', '일본', '의', '대표', '적', '경제', '평론가', '인', '오마', '에', '겐이치', '는', '얼마', '전', '경제', '월간지', '게이', '에이즈', '쿠', '에', '기고', '한', '글', '에서', '중국', '의', '위협', '을', '경고', '하', '기', '도', '했', '다', '그', '는', '아시아', '국가', '들', '이', '과거', '15', '년', '이상', '에', '걸쳐', '건설', '했', '던', '산업', '을', '중국', '이', '급속히', '탈취', '해', '가', '고', '있', '다', '면서', '전자', '산업', '을', '포함', '한', '많', '은', '분야', '에서', '중국', '의', '기업', '들', '은', '기술', '혁신', '과', '저', '임', '수출', '산업', '을', '통해', '싱가포르', '홍콩', '대만', '한국', '기업', '을', '위협', '하', '고', '있', '다', '고', '주장', '했', '다', '오마', '에', '는', '지난번', '97', '년', '에', '불', '어', '닥친', '아시아', '경제', '위기', '는', '국제', '금융', '자본가', '들', '에', '의한', '일시', '적', '현상', '이', '었', '다', '면서', '그러나', '최근', '중국', '의', '급성장', '은', '지난번', '경제', '위기', '보다', '훨씬', '지독', '한', '두', '번', '째', '아시아', '경제', '위기', '를', '야기', '하', '고', '있', '다', '고', '경고', '했', '다', '그', '는', '이', '같', '은', '차이', '나', '쇼크', '가', '중국', '이외', '아시아', '국가', '들', '의', '산업', '공동', '화', '대', '규모', '실업', '사태', '무역', '적자', '로', '이어질', '것', '으로', '전망', '했', '다', '한국', '대', '기업', '들', '도', '국내', '투자', '는', 'no', '중국', '투자', '는', 'yes', '이', '같', '은', '오마', '에', '식', '의', '시각', '은', '자칫', '서방', '국가', '들', '의', '황화론', '이', '범', '하', '고', '있', '는', '오류', '에', '빠질', '수', '있', '다는', '점', '에서', '적잖', '은', '문제점', '을', '안', '고', '있', '다', '중국', '을', '단순히', '거대', '저', '임', '생산', '기지', '로', '만', '볼', '뿐', '거대', '소비', '시장', '으로', '보', '는', '시각', '을', '결여', '하', '고', '있', '는', '탓', '이', '다', '그러나', '중국', '이', '라는', '거대', '소비', '시장', '을', '돌파', '한', '실력', '이', '없', '다면', '문제', '는', '심각', '해진다', '그럴', '경우', '중국', '에게', '생산', '거점', '만', '빼앗기', '면서', '오마에', '등', '이', '우려', '하', '는', '대로', '산업', '공동', '화', '라는', '최악', '의', '결과', '를', '초래', '할', '것', '이', '분명', '하', '기', '때문', '이', '다', '이런', '위기', '구조', '에', '노출', '되', '기', '란', '결코', '우리', '나라', '도', '예외', '는', '아니', '다', '중국', '의', '급신장', '에', '따른', '산업', '공동', '화', '위기감', '이', '상대', '적', '으로', '우리나라', '에', '는', '희미', '한', '편', '이', '었', '다', '그', '동안', '중국', '에', '진출', '한', '기업', '들', '이', '대부분', '사양', '업종', '으로', '분류', '되', '던', '영세', '형', '중소기업', '들', '이', '었', '던', '탓', '이', '다', '중국', '진출', '국내', '기업', '들', '의', '1', '개', '사당', '평균', '투자액', '이', '30', '만', '달러', '에', '불과', '하', '다는', '사실', '이', '이', '를', '입증', '한다', '그러나', '최근', '들', '어', '상황', '이', '급변', '하', '고', '있', '다', '삼성', 'sk', 'lg', '현대', '기아', '자동차', '등', '굴지', '의', '대', '기업', '을', '비롯', '해', '중견', '기업', '들', '이', '잇따라', '대', '규모', '중국', '진출', '프로젝트', '를', '쏟', '아', '내', '기', '시작', '한', '탓', '이', '다', '한', '예', '로', '국내', '기업', '중', '가장', '많', '은', '26', '억', '달러', '를', '이미', '중국', '에', '투자', '한', '삼성그룹', '의', '경우', '중국', '수조', '우', '에', '반도체', '조립', '공장', '을', '설립', '하', '는', '등', '중국', '진출', '을', '가속', '화', '전자', '부문', '에서', '오', '는', '2005', '년', '까지', '중국', '내', '5', '대', '기업', '에', '진출', '한다는', '목표', '를', '세워', '놓', '고', '있', '다', 'lg', '화학', '은', '현재', '연간', '22', '만', 't', '규모', '인', '중국', '에서', '의', 'pvc', '생산', '능력', '을', '오', '는', '2005', '년', '까지', '는', '64', '만', 't', '으로', '세배', '가까이', '늘리', '고', '연산', '15', '만', 't', '인', '스티렌', '생산', '능력', '을', '2005', '년', '까지', '30', '만', 't', '으로', '늘려', '중국', '최대', '화공', '기업', '으로', '키울', '생각', '이', '다', '현대', '기아', '자동차', '는', '내년', '말', '까지', '중국', '에', '3', '억', '달러', '를', '투자', '현재', '2', '만', '5', '천', '대', '에', '불과', '한', '자동차', '생산', '능력', '을', '30', '만', '대', '까지', '확장', '시킬', '계획', '이', '다', '포항제철', '은', '중국', '합작', '기업', '에', '1', '억', '달러', '를', '투자', '해', '현재', '38', '만', 't', '인', '생산', '능력', '을', '78', '만', 't', '으로', '늘릴', '계획', '이', '다', '이', '밖', '에', '중국', '내', '라면', '생산', '시설', '을', '계속', '늘려', '온', '농심', '이나', '휴비스', '삼양사', '와', 'sk', '케미컬', '합작사', '고합', '효성', '코오롱', '등', '주요', '화학', '섬유', '업체', '들', '의', '중국', '투자', '강화', '계획', '도', '최근', '중국', '투자', '와', '관련', '해', '눈', '에', '두드러지', '는', '대목', '이', '다', '한마디', '로', '요약', '해', '요즘', '국내', '대', '기업', '들', '의', '생각', '인즉', '국내', '투자', '는', 'no', '중국', '투자', '는', 'yes', '이', '다', '중국', '현지', '공장', '의', '효율', '성', '이', '국내', '보다', '높', '다', '요컨대', '국내', '에서', '는', '경기', '의', '불', '투명', '성', '등', '을', '이유', '로', '별다른', '투자', '계획', '을', '내놓', '지', '않', '고', '있', '는', '대', '기업', '들', '이', '중국', '에서', '는', '대거', '생산', '시설', '을', '늘리', '는', '투자', '계획', '을', '추진', '중', '인', '것', '이', '다', '이', '는', '금명간', '국내', '의', '산업', '공동', '화', '를', '예고', '하', '는', '신호탄', '에', '다름', '아니', '다', '경쟁력', '을', '잃', '고', '있', '는', '기업', '은', '경쟁력', '을', '회복', '할', '수', '있', '는', '곳', '으로', '이전', '하', '는', '게', '자본', '의', '당연', '한', '운동', '법칙', '이', '다', '그', '대신', '국내', '에서', '는', '보다', '고부', '가', '가치', '경쟁력', '이', '있', '는', '산업', '이', '발전', '돼야', '이', '땅', '에', '사', '는', '이', '들', '의', '생존', '과', '번영', '이', '가능', '하', '다', '그러나', '지금', '과연', '우리', '나라', '에서', '는', '이런', '식', '의', '산업', '발전', '산업', '구조', '혁명', '이', '진행', '중', '인가', '삼성그룹', '의', '한', '관계자', '는', '중국', '현지', '생산', '공장', '의', '임금', '이', '쌀', '뿐', '아니', '라', '작업', '효율', '성', '도', '국내', '보다', '10', '이상', '높', '다고', '말', '하', '고', '있', '다', '불행', '하', '게', '도', '이런', '상황', '이', '계속', '된다면', '우리', '는', '아마도', '금명간', '산업', '공동', '화', '의', '늪', '에서', '허우적거릴', '가능', '성', '이', '높', '다', '할', '것', '이', '다', '박태견', '기자'])],\n",
       "      dtype=object)"
      ]
     },
     "execution_count": 43,
     "metadata": {},
     "output_type": "execute_result"
    }
   ],
   "source": [
    "encoder_input[[3,1,2]]"
   ]
  },
  {
   "cell_type": "code",
   "execution_count": 44,
   "metadata": {},
   "outputs": [
    {
     "name": "stdout",
     "output_type": "stream",
     "text": [
      "=3\n"
     ]
    }
   ],
   "source": [
    "encoder_input = encoder_input[indices]\n",
    "decoder_input = decoder_input[indices]\n",
    "decoder_target = decoder_target[indices]\n",
    "print('=3')"
   ]
  },
  {
   "cell_type": "code",
   "execution_count": 45,
   "metadata": {},
   "outputs": [
    {
     "name": "stdout",
     "output_type": "stream",
     "text": [
      "테스트 데이터의 수 : 7131\n"
     ]
    }
   ],
   "source": [
    "n_of_val = int(len(encoder_input)*0.2)\n",
    "print('테스트 데이터의 수 :', n_of_val)"
   ]
  },
  {
   "cell_type": "code",
   "execution_count": 46,
   "metadata": {},
   "outputs": [
    {
     "name": "stdout",
     "output_type": "stream",
     "text": [
      "훈련 데이터의 개수 : 28528\n",
      "훈련 레이블의 개수 : 28528\n",
      "테스트 데이터의 개수 : 7131\n",
      "테스트 레이블의 개수 : 7131\n"
     ]
    }
   ],
   "source": [
    "encoder_input_train = encoder_input[:-n_of_val]\n",
    "decoder_input_train = decoder_input[:-n_of_val]\n",
    "decoder_target_train = decoder_target[:-n_of_val]\n",
    "\n",
    "encoder_input_test = encoder_input[-n_of_val:]\n",
    "decoder_input_test = decoder_input[-n_of_val:]\n",
    "decoder_target_test = decoder_target[-n_of_val:]\n",
    "\n",
    "print('훈련 데이터의 개수 :', len(encoder_input_train))\n",
    "print('훈련 레이블의 개수 :', len(decoder_input_train))\n",
    "print('테스트 데이터의 개수 :', len(encoder_input_test))\n",
    "print('테스트 레이블의 개수 :', len(decoder_input_test))"
   ]
  },
  {
   "cell_type": "code",
   "execution_count": 47,
   "metadata": {},
   "outputs": [],
   "source": [
    "hi = Tokenizer()\n",
    "hi.fit_on_sequences([['안녕', '나는','해창이야'],['이렇게','하는','건가?']])"
   ]
  },
  {
   "cell_type": "code",
   "execution_count": 50,
   "metadata": {},
   "outputs": [
    {
     "data": {
      "text/plain": [
       "array([list(['동양', '애드', '컴', '인도', '정보', '통신', '인력', '국내', '고용', '추진', '<eos>']),\n",
       "       list(['미', '경제', '금리', '인상', '여파', '로', '둔화', '조짐', '<eos>']),\n",
       "       list(['일반', '현대차', '발표', '지연', 'mk', '고민', '중', '5', '보', '<eos>']),\n",
       "       ...,\n",
       "       list(['쌍용', '정보', '정보', '시스템', '품질', '경진', '대회', '개최', '<eos>']),\n",
       "       list(['육군', '성', '관련', '군기', '문란', '처벌', '강화', '<eos>']),\n",
       "       list(['연재소설', '강안', '남자', '206', '대망', '4', '<eos>'])],\n",
       "      dtype=object)"
      ]
     },
     "execution_count": 50,
     "metadata": {},
     "output_type": "execute_result"
    }
   ],
   "source": [
    "decoder_target_train"
   ]
  },
  {
   "cell_type": "code",
   "execution_count": 76,
   "metadata": {},
   "outputs": [
    {
     "name": "stdout",
     "output_type": "stream",
     "text": [
      "=3\n"
     ]
    }
   ],
   "source": [
    "tokenizer = Tokenizer() # 토크나이저 정의\n",
    "tokenizer.fit_on_texts(hi := encoder_input_train+decoder_input_train +decoder_target_train) # 입력된 데이터로부터 단어 집합 생성\n",
    "print('=3')"
   ]
  },
  {
   "cell_type": "code",
   "execution_count": 78,
   "metadata": {},
   "outputs": [
    {
     "name": "stdout",
     "output_type": "stream",
     "text": [
      "단어 집합(vocabulary)의 크기 : 105146\n",
      "등장 빈도가 2번 이하인 희귀 단어의 수: 50381\n",
      "단어 집합에서 희귀 단어를 제외시킬 경우의 단어 집합의 크기 54765\n",
      "단어 집합에서 희귀 단어의 비율: 47.91527970631312\n",
      "전체 등장 빈도에서 희귀 단어 등장 빈도 비율: 0.5679639021947266\n"
     ]
    }
   ],
   "source": [
    "threshold = 3\n",
    "total_cnt = len(tokenizer.word_index) # 단어의 수\n",
    "rare_cnt = 0 # 등장 빈도수가 threshold보다 작은 단어의 개수를 카운트\n",
    "total_freq = 0 # 훈련 데이터의 전체 단어 빈도수 총 합\n",
    "rare_freq = 0 # 등장 빈도수가 threshold보다 작은 단어의 등장 빈도수의 총 합\n",
    "\n",
    "# 단어와 빈도수의 쌍(pair)을 key와 value로 받는다.\n",
    "for key, value in tokenizer.word_counts.items():\n",
    "    total_freq = total_freq + value\n",
    "\n",
    "    # 단어의 등장 빈도수가 threshold보다 작으면\n",
    "    if(value < threshold):\n",
    "        rare_cnt = rare_cnt + 1\n",
    "        rare_freq = rare_freq + value\n",
    "\n",
    "print('단어 집합(vocabulary)의 크기 :', total_cnt)\n",
    "print('등장 빈도가 %s번 이하인 희귀 단어의 수: %s'%(threshold - 1, rare_cnt))\n",
    "print('단어 집합에서 희귀 단어를 제외시킬 경우의 단어 집합의 크기 %s'%(total_cnt - rare_cnt))\n",
    "print(\"단어 집합에서 희귀 단어의 비율:\", (rare_cnt / total_cnt)*100)\n",
    "print(\"전체 등장 빈도에서 희귀 단어 등장 빈도 비율:\", (rare_freq / total_freq)*100)"
   ]
  },
  {
   "cell_type": "code",
   "execution_count": 90,
   "metadata": {},
   "outputs": [],
   "source": [
    "src_vocab = 110000\n",
    "# tokenizer = Tokenizer(num_words=src_vocab) # 단어 집합의 크기를 180,000으로 제한\n",
    "# tokenizer.fit_on_texts(hi) # 단어 집합 재생성\n",
    "# print('=3')"
   ]
  },
  {
   "cell_type": "code",
   "execution_count": 80,
   "metadata": {},
   "outputs": [
    {
     "name": "stdout",
     "output_type": "stream",
     "text": [
      "[[58, 83, 8009, 54, 1091, 5, 3698, 350, 125, 26, 41464, 1293, 160, 5, 108, 7941, 26, 2338, 8663, 2228, 7, 197, 133, 6504, 269, 5, 8459, 3, 1092, 8, 29, 116, 1091, 133, 182, 804, 5, 197, 1358, 3, 198, 8, 10, 11, 36, 285, 20, 95, 4, 2338, 8663, 2228, 7, 1, 6, 145, 293, 329, 49, 629, 30, 91, 49, 746, 40, 50, 91, 49, 5, 1091, 133, 182, 804, 3, 197, 6, 708, 1295, 147, 1, 4, 2338, 8663, 2228, 7, 1, 804, 17, 3, 1, 183, 12, 815, 9, 1510, 7, 98, 87, 400, 94, 6, 497, 27, 150, 1, 4, 2338, 8663, 2228, 7, 107, 746, 40, 68, 344, 6, 207, 87, 5, 133, 182, 350, 220, 3, 643, 133, 6504, 269, 12, 233, 19, 8, 2, 404, 804, 3, 2621, 27, 147, 1, 51, 95, 4, 41464, 1293, 7, 43, 180, 149, 121, 87, 221, 18, 30, 91, 586, 87, 5, 350, 577, 9, 315, 8, 10, 11, 2, 180, 24, 26, 3698, 350, 220, 1, 4, 8010, 120, 65, 64, 76, 69, 78, 47, 48, 79, 75, 86, 82, 71, 72, 66, 43, 31, 31, 62, 84, 77, 25], [725, 83, 81, 50, 42, 88, 5, 311, 4178, 296, 12, 196, 192, 42, 212, 73, 506, 33, 6, 3343, 9, 279, 32, 1359, 438, 411, 1850, 2550, 5, 5656, 435, 559, 23, 115, 9595, 2717, 216, 1, 600, 9, 2119, 10, 11, 367, 3, 862, 2352, 4, 115, 163, 220, 26, 10131, 7887, 2, 81, 50, 42, 5, 311, 4178, 296, 12, 814, 6, 469, 213, 30, 500, 1648, 4545, 500, 19, 196, 192, 42, 212, 280, 530, 7, 364, 3, 279, 15, 36, 95, 4, 311, 4178, 296, 2, 427, 3009, 26, 81, 1174, 40, 3, 329, 13, 868, 106, 666, 39, 73, 506, 211, 5, 115, 1346, 3, 6990, 27, 35, 11, 195, 32, 92, 2, 1897, 19, 81, 55, 42, 6, 2, 814, 21, 138, 7, 364, 3, 446, 415, 39, 42, 6, 2, 814, 6, 469, 213, 30, 500, 12, 1680, 4647, 4, 81, 50, 42, 5, 311, 4178, 296, 12, 1432, 374, 14, 16, 7, 1247, 2544, 519, 5, 2044, 21, 236, 70, 5, 15508, 157, 1, 51, 10131, 7887, 2, 276, 15, 4, 2938, 41, 4262, 14, 311, 9595, 21, 6569, 6, 63, 425, 19, 2550, 2, 81, 30, 40, 130, 73, 733, 126, 435, 9, 15851, 280, 178, 6, 778, 2110, 237, 18, 2, 553, 435, 9, 446, 15, 131, 345, 310, 353, 20, 2498, 237, 18, 107, 414, 435, 9, 559, 27, 140, 67, 3, 398, 52, 9065, 4, 311, 4178, 296, 5, 374, 6, 22, 864, 8, 10, 159, 28, 1014, 5, 115, 1346, 3, 2119, 92, 2, 311, 5104, 296, 28, 311, 22781, 296, 2, 81, 50, 42, 1387, 213, 38, 500, 12, 1680, 56, 16, 13, 1409, 88, 5, 311, 9595, 7, 1255, 433, 34, 10, 11, 2, 16, 13, 2275, 100, 4, 10131, 7887, 2, 39, 580, 296, 9, 230, 32, 641, 173, 115, 5, 2346, 7, 544, 34, 10, 11, 399, 96, 1446, 2, 293, 440, 109, 2073, 34, 10, 11, 2, 16, 13, 2248, 95, 4, 7446, 120, 65, 64, 76, 69, 78, 47, 48, 79, 75, 86, 82, 71, 72, 66, 43, 31, 31, 62, 84, 77, 25], [167, 388, 5, 555, 194, 12, 2032, 34, 10, 11, 4, 1725, 2, 30, 20, 272, 98, 112, 1, 270, 9, 1918, 10, 3093, 706, 9, 349, 14, 1, 143, 5, 555, 297, 3, 1542, 27, 147, 1, 80, 399, 332, 4166, 25, 10, 11, 4, 1725, 14, 1981, 7, 939, 272, 98, 112, 621, 1725, 5, 555, 297, 3, 194, 27, 150, 1, 80, 399, 2932, 235, 297, 1542, 4220, 3768, 208, 880, 23, 286, 1, 16552, 8, 41, 2916, 122, 297, 1254, 12, 1487, 52, 25, 10, 11, 234, 1725, 12, 555, 297, 3, 194, 202, 8, 850, 6, 420, 22, 382, 61, 26, 16, 13, 464, 10, 11, 36, 46, 15, 4, 1, 1981, 7, 3755, 235, 7, 388, 1000, 6, 149, 40, 130, 6706, 14, 404, 5173, 1424, 2456, 858, 429, 24, 815, 23, 533, 14, 1769, 1, 8664, 14, 286, 18, 1725, 9, 1699, 52, 1871, 280, 30165, 5, 1726, 1, 51, 46, 32, 555, 297, 3, 194, 8, 19304, 553, 297, 3, 3317, 27, 16, 749, 3, 6505, 4, 229, 2932, 1606, 235, 7, 139, 272, 123, 112, 149, 14889, 16553, 3662, 13, 4080, 3, 763, 14, 167, 320, 167, 230, 2259, 167, 388, 23, 19305, 10356, 5, 1, 6818, 18, 5581, 161, 36, 95, 4, 1725, 2, 1, 6, 127, 2932, 235, 7, 388, 5, 706, 12, 191, 4, 51, 276, 15, 4, 4220, 3768, 208, 7, 139, 272, 54, 1241, 18, 167, 5, 336, 47, 2040, 21, 117, 167, 18, 464, 2604, 27, 20, 1, 51, 46, 32, 3755, 235, 5, 336, 47, 3317, 6, 127, 1432, 1250, 24, 26, 297, 3, 1542, 15, 4, 92, 2314, 2528, 34615, 12222, 54]]\n"
     ]
    }
   ],
   "source": [
    "# 텍스트 시퀀스를 정수 시퀀스로 변환\n",
    "encoder_input_train_tenser = tokenizer.texts_to_sequences(encoder_input_train) \n",
    "encoder_input_test_tenser = tokenizer.texts_to_sequences(encoder_input_test)\n",
    "decoder_input_train_tenser = tokenizer.texts_to_sequences(decoder_input_train)\n",
    "decoder_input_test_tenser = tokenizer.texts_to_sequences(decoder_input_test)\n",
    "\n",
    "\n",
    "# 잘 진행되었는지 샘플 출력\n",
    "print(encoder_input_train_tenser[:3])"
   ]
  },
  {
   "cell_type": "code",
   "execution_count": 81,
   "metadata": {},
   "outputs": [],
   "source": [
    "decoder_target_train_tenser = tokenizer.texts_to_sequences(decoder_target_train)\n",
    "decoder_target_test_tenser = tokenizer.texts_to_sequences(decoder_target_test)\n"
   ]
  },
  {
   "cell_type": "code",
   "execution_count": 82,
   "metadata": {},
   "outputs": [],
   "source": [
    "# tar_tokenizer = Tokenizer()\n",
    "# tar_tokenizer.fit_on_texts(decoder_input_train)\n",
    "# print('=3')"
   ]
  },
  {
   "cell_type": "code",
   "execution_count": 83,
   "metadata": {},
   "outputs": [],
   "source": [
    "# threshold = 3\n",
    "# total_cnt = len(tar_tokenizer.word_index) # 단어의 수\n",
    "# rare_cnt = 0 # 등장 빈도수가 threshold보다 작은 단어의 개수를 카운트\n",
    "# total_freq = 0 # 훈련 데이터의 전체 단어 빈도수 총 합\n",
    "# rare_freq = 0 # 등장 빈도수가 threshold보다 작은 단어의 등장 빈도수의 총 합\n",
    "\n",
    "# # 단어와 빈도수의 쌍(pair)을 key와 value로 받는다.\n",
    "# for key, value in tar_tokenizer.word_counts.items():\n",
    "#     total_freq = total_freq + value\n",
    "\n",
    "#     # 단어의 등장 빈도수가 threshold보다 작으면\n",
    "#     if(value < threshold):\n",
    "#         rare_cnt = rare_cnt + 1\n",
    "#         rare_freq = rare_freq + value\n",
    "\n",
    "# print('단어 집합(vocabulary)의 크기 :', total_cnt)\n",
    "# print('등장 빈도가 %s번 이하인 희귀 단어의 수: %s'%(threshold - 1, rare_cnt))\n",
    "# print('단어 집합에서 희귀 단어를 제외시킬 경우의 단어 집합의 크기 %s'%(total_cnt - rare_cnt))\n",
    "# print(\"단어 집합에서 희귀 단어의 비율:\", (rare_cnt / total_cnt)*100)\n",
    "# print(\"전체 등장 빈도에서 희귀 단어 등장 빈도 비율:\", (rare_freq / total_freq)*100)"
   ]
  },
  {
   "cell_type": "code",
   "execution_count": 84,
   "metadata": {},
   "outputs": [],
   "source": [
    "# set(tar_tokenizer.index_word.values()) - set(src_tokenizer.index_word.values())"
   ]
  },
  {
   "cell_type": "code",
   "execution_count": 85,
   "metadata": {},
   "outputs": [],
   "source": [
    "# tar_vocab = 10000\n",
    "# tar_tokenizer = Tokenizer(num_words=tar_vocab) \n",
    "# tar_tokenizer.fit_on_texts(decoder_input_train)\n",
    "# tar_tokenizer.fit_on_texts(decoder_target_train)\n",
    "\n",
    "# # 텍스트 시퀀스를 정수 시퀀스로 변환\n",
    "# decoder_input_train = tar_tokenizer.texts_to_sequences(decoder_input_train) \n",
    "# decoder_target_train = tar_tokenizer.texts_to_sequences(decoder_target_train)\n",
    "# decoder_input_test = tar_tokenizer.texts_to_sequences(decoder_input_test)\n",
    "# decoder_target_test = tar_tokenizer.texts_to_sequences(decoder_target_test)\n",
    "\n",
    "# # 잘 변환되었는지 확인\n",
    "# print('input')\n",
    "# print('input ',decoder_input_train[:5])\n",
    "# print('target')\n",
    "# print('decoder ',decoder_target_train[:5])"
   ]
  },
  {
   "cell_type": "code",
   "execution_count": 86,
   "metadata": {},
   "outputs": [
    {
     "name": "stdout",
     "output_type": "stream",
     "text": [
      "삭제할 훈련 데이터의 개수 : 0\n",
      "삭제할 테스트 데이터의 개수 : 1\n",
      "훈련 데이터의 개수 : 28528\n",
      "훈련 레이블의 개수 : 28528\n",
      "테스트 데이터의 개수 : 7130\n",
      "테스트 레이블의 개수 : 7130\n"
     ]
    }
   ],
   "source": [
    "drop_train = [index for index, sentence in enumerate(decoder_input_train) if len(sentence) == 1]\n",
    "drop_test = [index for index, sentence in enumerate(decoder_input_test) if len(sentence) == 1]\n",
    "\n",
    "print('삭제할 훈련 데이터의 개수 :', len(drop_train))\n",
    "print('삭제할 테스트 데이터의 개수 :', len(drop_test))\n",
    "\n",
    "encoder_input_train = [sentence for index, sentence in enumerate(encoder_input_train) if index not in drop_train]\n",
    "decoder_input_train = [sentence for index, sentence in enumerate(decoder_input_train) if index not in drop_train]\n",
    "decoder_target_train = [sentence for index, sentence in enumerate(decoder_target_train) if index not in drop_train]\n",
    "\n",
    "encoder_input_test = [sentence for index, sentence in enumerate(encoder_input_test) if index not in drop_test]\n",
    "decoder_input_test = [sentence for index, sentence in enumerate(decoder_input_test) if index not in drop_test]\n",
    "decoder_target_test = [sentence for index, sentence in enumerate(decoder_target_test) if index not in drop_test]\n",
    "\n",
    "print('훈련 데이터의 개수 :', len(encoder_input_train))\n",
    "print('훈련 레이블의 개수 :', len(decoder_input_train))\n",
    "print('테스트 데이터의 개수 :', len(encoder_input_test))\n",
    "print('테스트 레이블의 개수 :', len(decoder_input_test))"
   ]
  },
  {
   "cell_type": "code",
   "execution_count": 87,
   "metadata": {},
   "outputs": [
    {
     "name": "stdout",
     "output_type": "stream",
     "text": [
      "=3\n"
     ]
    }
   ],
   "source": [
    "encoder_input_train = pad_sequences(encoder_input_train_tenser, maxlen=text_max_len, padding='post')\n",
    "encoder_input_test = pad_sequences(encoder_input_test_tenser, maxlen=text_max_len, padding='post')\n",
    "decoder_input_train = pad_sequences(decoder_input_train_tenser, maxlen=summary_max_len, padding='post')\n",
    "decoder_target_train = pad_sequences(decoder_target_train_tenser, maxlen=summary_max_len, padding='post')\n",
    "decoder_input_test = pad_sequences(decoder_input_test_tenser, maxlen=summary_max_len, padding='post')\n",
    "decoder_target_test = pad_sequences(decoder_target_test_tenser, maxlen=summary_max_len, padding='post')\n",
    "print('=3')"
   ]
  },
  {
   "cell_type": "code",
   "execution_count": 88,
   "metadata": {},
   "outputs": [],
   "source": [
    "import tensorflow as tf\n",
    "# tf.debugging.set_log_device_placement(False)"
   ]
  },
  {
   "cell_type": "code",
   "execution_count": 91,
   "metadata": {},
   "outputs": [],
   "source": [
    "from tensorflow.keras.layers import Input, LSTM, Embedding, Dense, Concatenate, TimeDistributed\n",
    "from tensorflow.keras.models import Model\n",
    "from tensorflow.keras.callbacks import EarlyStopping, ModelCheckpoint\n",
    "\n",
    "\n",
    "# 인코더 설계 시작\n",
    "embedding_dim = 128\n",
    "hidden_size = 256\n",
    "\n",
    "# 인코더\n",
    "encoder_inputs = Input(shape=(text_max_len,))\n",
    "\n",
    "# 인코더의 임베딩 층\n",
    "enc_emb = Embedding(src_vocab, embedding_dim)(encoder_inputs)\n",
    "\n",
    "# 인코더의 LSTM 1\n",
    "# encoder_lstm1 = LSTM(hidden_size, return_sequences=True, return_state=True ,dropout = 0.4, recurrent_dropout = 0.4)\n",
    "encoder_lstm1 = LSTM(hidden_size, return_sequences=True, return_state=True ,dropout = 0.4)\n",
    "encoder_output1, state_h1, state_c1 = encoder_lstm1(enc_emb)\n",
    "\n",
    "# 인코더의 LSTM 2\n",
    "# encoder_lstm2 = LSTM(hidden_size, return_sequences=True, return_state=True, dropout=0.4, recurrent_dropout=0.4)\n",
    "encoder_lstm2 = LSTM(hidden_size, return_sequences=True, return_state=True, dropout=0.4)\n",
    "encoder_output2, state_h2, state_c2 = encoder_lstm2(encoder_output1)\n",
    "\n",
    "# 인코더의 LSTM 3\n",
    "# encoder_lstm3 = LSTM(hidden_size, return_state=True, return_sequences=True, dropout=0.4, recurrent_dropout=0.4)\n",
    "encoder_lstm3 = LSTM(hidden_size, return_state=True, return_sequences=True, dropout=0.4)\n",
    "encoder_outputs, state_h, state_c= encoder_lstm3(encoder_output2)"
   ]
  },
  {
   "cell_type": "code",
   "execution_count": 92,
   "metadata": {},
   "outputs": [],
   "source": [
    "# 디코더 설계\n",
    "decoder_inputs = Input(shape=(None,))\n",
    "\n",
    "# 디코더의 임베딩 층\n",
    "dec_emb_layer = Embedding(src_vocab, embedding_dim)\n",
    "dec_emb = dec_emb_layer(decoder_inputs)\n",
    "\n",
    "# 디코더의 LSTM\n",
    "# decoder_lstm = LSTM(hidden_size, return_sequences=True, return_state=True, dropout=0.4, recurrent_dropout=0.2)\n",
    "decoder_lstm = LSTM(hidden_size, return_sequences=True, return_state=True, dropout=0.4)\n",
    "decoder_outputs, _, _ = decoder_lstm(dec_emb, initial_state=[state_h, state_c])"
   ]
  },
  {
   "cell_type": "code",
   "execution_count": 93,
   "metadata": {},
   "outputs": [
    {
     "name": "stdout",
     "output_type": "stream",
     "text": [
      "Model: \"model\"\n",
      "__________________________________________________________________________________________________\n",
      "Layer (type)                    Output Shape         Param #     Connected to                     \n",
      "==================================================================================================\n",
      "input_2 (InputLayer)            [(None, 2000)]       0                                            \n",
      "__________________________________________________________________________________________________\n",
      "embedding (Embedding)           (None, 2000, 128)    14080000    input_2[0][0]                    \n",
      "__________________________________________________________________________________________________\n",
      "lstm (LSTM)                     [(None, 2000, 256),  394240      embedding[0][0]                  \n",
      "__________________________________________________________________________________________________\n",
      "input_3 (InputLayer)            [(None, None)]       0                                            \n",
      "__________________________________________________________________________________________________\n",
      "lstm_1 (LSTM)                   [(None, 2000, 256),  525312      lstm[0][0]                       \n",
      "__________________________________________________________________________________________________\n",
      "embedding_1 (Embedding)         (None, None, 128)    14080000    input_3[0][0]                    \n",
      "__________________________________________________________________________________________________\n",
      "lstm_2 (LSTM)                   [(None, 2000, 256),  525312      lstm_1[0][0]                     \n",
      "__________________________________________________________________________________________________\n",
      "lstm_3 (LSTM)                   [(None, None, 256),  394240      embedding_1[0][0]                \n",
      "                                                                 lstm_2[0][1]                     \n",
      "                                                                 lstm_2[0][2]                     \n",
      "__________________________________________________________________________________________________\n",
      "dense (Dense)                   (None, None, 110000) 28270000    lstm_3[0][0]                     \n",
      "==================================================================================================\n",
      "Total params: 58,269,104\n",
      "Trainable params: 58,269,104\n",
      "Non-trainable params: 0\n",
      "__________________________________________________________________________________________________\n"
     ]
    }
   ],
   "source": [
    "# 디코더의 출력층\n",
    "decoder_softmax_layer = Dense(src_vocab, activation='softmax')\n",
    "decoder_softmax_outputs = decoder_softmax_layer(decoder_outputs) \n",
    "\n",
    "# 모델 정의\n",
    "model = Model([encoder_inputs, decoder_inputs], decoder_softmax_outputs)\n",
    "model.summary()"
   ]
  },
  {
   "cell_type": "code",
   "execution_count": 94,
   "metadata": {},
   "outputs": [
    {
     "name": "stdout",
     "output_type": "stream",
     "text": [
      "Model: \"model_1\"\n",
      "__________________________________________________________________________________________________\n",
      "Layer (type)                    Output Shape         Param #     Connected to                     \n",
      "==================================================================================================\n",
      "input_2 (InputLayer)            [(None, 2000)]       0                                            \n",
      "__________________________________________________________________________________________________\n",
      "embedding (Embedding)           (None, 2000, 128)    14080000    input_2[0][0]                    \n",
      "__________________________________________________________________________________________________\n",
      "lstm (LSTM)                     [(None, 2000, 256),  394240      embedding[0][0]                  \n",
      "__________________________________________________________________________________________________\n",
      "input_3 (InputLayer)            [(None, None)]       0                                            \n",
      "__________________________________________________________________________________________________\n",
      "lstm_1 (LSTM)                   [(None, 2000, 256),  525312      lstm[0][0]                       \n",
      "__________________________________________________________________________________________________\n",
      "embedding_1 (Embedding)         (None, None, 128)    14080000    input_3[0][0]                    \n",
      "__________________________________________________________________________________________________\n",
      "lstm_2 (LSTM)                   [(None, 2000, 256),  525312      lstm_1[0][0]                     \n",
      "__________________________________________________________________________________________________\n",
      "lstm_3 (LSTM)                   [(None, None, 256),  394240      embedding_1[0][0]                \n",
      "                                                                 lstm_2[0][1]                     \n",
      "                                                                 lstm_2[0][2]                     \n",
      "__________________________________________________________________________________________________\n",
      "attention_layer (AdditiveAttent (None, None, 256)    256         lstm_3[0][0]                     \n",
      "                                                                 lstm_2[0][0]                     \n",
      "__________________________________________________________________________________________________\n",
      "concat_layer (Concatenate)      (None, None, 512)    0           lstm_3[0][0]                     \n",
      "                                                                 attention_layer[0][0]            \n",
      "__________________________________________________________________________________________________\n",
      "dense_1 (Dense)                 (None, None, 110000) 56430000    concat_layer[0][0]               \n",
      "==================================================================================================\n",
      "Total params: 86,429,360\n",
      "Trainable params: 86,429,360\n",
      "Non-trainable params: 0\n",
      "__________________________________________________________________________________________________\n"
     ]
    }
   ],
   "source": [
    "from tensorflow.keras.layers import AdditiveAttention\n",
    "\n",
    "# 어텐션 층(어텐션 함수)\n",
    "attn_layer = AdditiveAttention(name='attention_layer')\n",
    "\n",
    "# 인코더와 디코더의 모든 time step의 hidden state를 어텐션 층에 전달하고 결과를 리턴\n",
    "attn_out = attn_layer([decoder_outputs, encoder_outputs])\n",
    "\n",
    "\n",
    "# 어텐션의 결과와 디코더의 hidden state들을 연결\n",
    "decoder_concat_input = Concatenate(axis=-1, name='concat_layer')([decoder_outputs, attn_out])\n",
    "\n",
    "# 디코더의 출력층\n",
    "decoder_softmax_layer = Dense(src_vocab, activation='softmax')\n",
    "decoder_softmax_outputs = decoder_softmax_layer(decoder_concat_input)\n",
    "\n",
    "# 모델 정의\n",
    "model = Model([encoder_inputs, decoder_inputs], decoder_softmax_outputs)\n",
    "model.summary()"
   ]
  },
  {
   "cell_type": "code",
   "execution_count": 100,
   "metadata": {},
   "outputs": [
    {
     "name": "stdout",
     "output_type": "stream",
     "text": [
      "hi\n"
     ]
    },
    {
     "data": {
      "image/png": "[encoded data removed]",
      "text/plain": [
       "<IPython.core.display.Image object>"
      ]
     },
     "execution_count": 100,
     "metadata": {},
     "output_type": "execute_result"
    }
   ],
   "source": [
    "print('hi')\n",
    "from tensorflow.keras.utils import plot_model\n",
    "plot_model(model)"
   ]
  },
  {
   "cell_type": "code",
   "execution_count": 96,
   "metadata": {},
   "outputs": [
    {
     "name": "stdout",
     "output_type": "stream",
     "text": [
      "Epoch 1/50\n",
      "892/892 [==============================] - 616s 659ms/step - loss: 2.8864 - val_loss: 2.6543\n",
      "Epoch 2/50\n",
      "892/892 [==============================] - 589s 661ms/step - loss: 2.6209 - val_loss: 2.5595\n",
      "Epoch 3/50\n",
      "892/892 [==============================] - 589s 661ms/step - loss: 2.5089 - val_loss: 2.4628\n",
      "Epoch 4/50\n",
      "892/892 [==============================] - 590s 661ms/step - loss: 2.4259 - val_loss: 2.4156\n",
      "Epoch 5/50\n",
      "892/892 [==============================] - 590s 661ms/step - loss: 2.3642 - val_loss: 2.3765\n",
      "Epoch 6/50\n",
      "892/892 [==============================] - 590s 662ms/step - loss: 2.3088 - val_loss: 2.3463\n",
      "Epoch 7/50\n",
      "892/892 [==============================] - 590s 662ms/step - loss: 2.2655 - val_loss: 2.3289\n",
      "Epoch 8/50\n",
      "892/892 [==============================] - 590s 661ms/step - loss: 2.2290 - val_loss: 2.3081\n",
      "Epoch 9/50\n",
      "892/892 [==============================] - 590s 661ms/step - loss: 2.1974 - val_loss: 2.2995\n",
      "Epoch 10/50\n",
      "892/892 [==============================] - 590s 662ms/step - loss: 2.1713 - val_loss: 2.2920\n",
      "Epoch 11/50\n",
      "892/892 [==============================] - 590s 661ms/step - loss: 2.1462 - val_loss: 2.2890\n",
      "Epoch 12/50\n",
      "892/892 [==============================] - 590s 661ms/step - loss: 2.1209 - val_loss: 2.2807\n",
      "Epoch 13/50\n",
      "892/892 [==============================] - 590s 661ms/step - loss: 2.0981 - val_loss: 2.2708\n",
      "Epoch 14/50\n",
      "892/892 [==============================] - 590s 662ms/step - loss: 2.0744 - val_loss: 2.2664\n",
      "Epoch 15/50\n",
      "892/892 [==============================] - 590s 661ms/step - loss: 2.0547 - val_loss: 2.2670\n",
      "Epoch 16/50\n",
      "892/892 [==============================] - 589s 661ms/step - loss: 2.0431 - val_loss: 2.2742\n",
      "Epoch 00016: early stopping\n"
     ]
    }
   ],
   "source": [
    "model.compile(optimizer='rmsprop', loss='sparse_categorical_crossentropy')\n",
    "es = EarlyStopping(monitor='val_loss', patience=2, verbose=1)\n",
    "history = model.fit(x=[encoder_input_train, decoder_input_train], y=decoder_target_train, \\\n",
    "          validation_data=([encoder_input_test, decoder_input_test], decoder_target_test), \\\n",
    "          batch_size=32, callbacks=[es], epochs=50)"
   ]
  },
  {
   "cell_type": "code",
   "execution_count": 98,
   "metadata": {},
   "outputs": [
    {
     "data": {
      "image/png": "[encoded data removed]",
      "text/plain": [
       "<Figure size 432x288 with 1 Axes>"
      ]
     },
     "metadata": {
      "needs_background": "light"
     },
     "output_type": "display_data"
    }
   ],
   "source": [
    "plt.plot(history.history['loss'], label='train')\n",
    "plt.plot(history.history['val_loss'], label='test')\n",
    "plt.legend()\n",
    "plt.show()"
   ]
  },
  {
   "cell_type": "code",
   "execution_count": 99,
   "metadata": {},
   "outputs": [
    {
     "name": "stdout",
     "output_type": "stream",
     "text": [
      "=3\n"
     ]
    }
   ],
   "source": [
    "index_to_word = tokenizer.index_word # 원문 단어 집합에서 정수 -> 단어를 얻음\n",
    "word_to_index = tokenizer.word_index # 요약 단어 집합에서 단어 -> 정수를 얻음\n",
    "# tar_index_to_word = tar_tokenizer.index_word # 요약 단어 집합에서 정수 -> 단어를 얻음\n",
    "\n",
    "print('=3')"
   ]
  },
  {
   "cell_type": "code",
   "execution_count": 101,
   "metadata": {},
   "outputs": [
    {
     "name": "stdout",
     "output_type": "stream",
     "text": [
      "=3\n"
     ]
    }
   ],
   "source": [
    "# 인코더 설계\n",
    "encoder_model = Model(inputs=encoder_inputs, outputs=[encoder_outputs, state_h, state_c])\n",
    "\n",
    "# 이전 시점의 상태들을 저장하는 텐서\n",
    "decoder_state_input_h = Input(shape=(hidden_size,))\n",
    "decoder_state_input_c = Input(shape=(hidden_size,))\n",
    "\n",
    "dec_emb2 = dec_emb_layer(decoder_inputs)\n",
    "\n",
    "# 문장의 다음 단어를 예측하기 위해서 초기 상태(initial_state)를 이전 시점의 상태로 사용. 이는 뒤의 함수 decode_sequence()에 구현\n",
    "# 훈련 과정에서와 달리 LSTM의 리턴하는 은닉 상태와 셀 상태인 state_h와 state_c를 버리지 않음.\n",
    "decoder_outputs2, state_h2, state_c2 = decoder_lstm(dec_emb2, initial_state=[decoder_state_input_h, decoder_state_input_c])\n",
    "\n",
    "print('=3')"
   ]
  },
  {
   "cell_type": "code",
   "execution_count": 102,
   "metadata": {},
   "outputs": [
    {
     "name": "stdout",
     "output_type": "stream",
     "text": [
      "=3\n"
     ]
    }
   ],
   "source": [
    "# 어텐션 함수\n",
    "decoder_hidden_state_input = Input(shape=(text_max_len, hidden_size))\n",
    "attn_out_inf = attn_layer([decoder_outputs2, decoder_hidden_state_input])\n",
    "decoder_inf_concat = Concatenate(axis=-1, name='concat')([decoder_outputs2, attn_out_inf])\n",
    "\n",
    "# 디코더의 출력층\n",
    "decoder_outputs2 = decoder_softmax_layer(decoder_inf_concat) \n",
    "\n",
    "# 최종 디코더 모델\n",
    "decoder_model = Model(\n",
    "    [decoder_inputs] + [decoder_hidden_state_input,decoder_state_input_h, decoder_state_input_c],\n",
    "    [decoder_outputs2] + [state_h2, state_c2])\n",
    "\n",
    "print('=3')"
   ]
  },
  {
   "cell_type": "code",
   "execution_count": 109,
   "metadata": {},
   "outputs": [
    {
     "name": "stdout",
     "output_type": "stream",
     "text": [
      "=3\n"
     ]
    }
   ],
   "source": [
    "def decode_sequence(input_seq):\n",
    "    # 입력으로부터 인코더의 상태를 얻음\n",
    "    e_out, e_h, e_c = encoder_model.predict(input_seq)\n",
    "\n",
    "     # <SOS>에 해당하는 토큰 생성\n",
    "    target_seq = np.zeros((1,1))\n",
    "    target_seq[0, 0] = word_to_index['<sos>']\n",
    "\n",
    "    stop_condition = False\n",
    "    decoded_sentence = ''\n",
    "    while not stop_condition: # stop_condition이 True가 될 때까지 루프 반복\n",
    "\n",
    "        output_tokens, h, c = decoder_model.predict([target_seq] + [e_out, e_h, e_c])\n",
    "        sampled_token_index = np.argmax(output_tokens[0, -1, :])\n",
    "        sampled_token = index_to_word[sampled_token_index]\n",
    "\n",
    "        if (sampled_token!='<eos>'):\n",
    "            decoded_sentence += ' '+sampled_token\n",
    "\n",
    "        #  <eos>에 도달하거나 최대 길이를 넘으면 중단.\n",
    "        if (sampled_token == '<eos>'  or len(decoded_sentence.split()) >= (summary_max_len-1)):\n",
    "            stop_condition = True\n",
    "\n",
    "        # 길이가 1인 타겟 시퀀스를 업데이트\n",
    "        target_seq = np.zeros((1,1))\n",
    "        target_seq[0, 0] = sampled_token_index\n",
    "\n",
    "        # 상태를 업데이트 합니다.\n",
    "        e_h, e_c = h, c\n",
    "\n",
    "    return decoded_sentence\n",
    "print('=3')"
   ]
  },
  {
   "cell_type": "code",
   "execution_count": 110,
   "metadata": {},
   "outputs": [
    {
     "name": "stdout",
     "output_type": "stream",
     "text": [
      "=3\n"
     ]
    }
   ],
   "source": [
    "# 원문의 정수 시퀀스를 텍스트 시퀀스로 변환\n",
    "def seq2text(input_seq):\n",
    "    temp=''\n",
    "    for i in input_seq:\n",
    "        if (i!=0):\n",
    "            temp = temp + index_to_word[i]+' '\n",
    "    return temp\n",
    "\n",
    "# 요약문의 정수 시퀀스를 텍스트 시퀀스로 변환\n",
    "def seq2summary(input_seq):\n",
    "    temp=''\n",
    "    for i in input_seq:\n",
    "        if ((i!=0 and i!=word_to_index['<sos>']) and i!=word_to_index['<eos>']):\n",
    "            temp = temp + index_to_word[i] + ' '\n",
    "    return temp\n",
    "\n",
    "print('=3')"
   ]
  },
  {
   "cell_type": "code",
   "execution_count": 111,
   "metadata": {},
   "outputs": [
    {
     "name": "stdout",
     "output_type": "stream",
     "text": [
      "원문 : 서울 연합뉴스 이윤영 기자 여행 업과 인터넷 의 접목 을 시도 하 며 우후죽순 처럼 생겨났 던 인터넷 전문 여행사 들 이 오프라인 쪽 으로 마케팅 전략 을 대폭 수정 하 고 있 다 대부분 지난해 말 등장 해 올해 여름 첫 사업 시즌 을 맞 은 인터넷 여행 업체 들 이 최근 일 고 있 는 닷컴 기업 위기 론 과 함께 오프라인 에서 의 탄탄 한 마케팅 없이 는 뚜렷 한 수익 을 내 기 힘들 다는 판단 에 직면 했 기 때문 이 다 3 일 여행 업계 에 따르 면 온라인 여행 업 을 표방 했 던 워너 투어 닷컴 골드 투어 등 인터넷 업체 들 은 신문 광고 오프라인 업체 와 의 제휴 등 전통 적 인 오프라인 영업 방식 을 강화 하 는 방향 으로 마케팅 전략 을 수정 했 다 지난 2 월 부터 온라인 맞춤 여 행업 을 본격 적 으로 시작 했 던 워너 투어 닷컴 은 최근 오프라인 업체 로 의 전환 을 선언 하 며 온라인 사업 계획 을 잠정 보류 했 다 이 에 따라 인터넷 기술직 직원 도 7 명 에서 2 명 으로 줄이 고 맞춤 여행 콘텐츠 제공 을 위한 전문 홈페이지 런 칭 계획 도 당분간 중단 하 기 로 했 다 대신 대학교 등 을 직접 돌아다니 며 여행 상품 설 명회 를 개최 하 는 등 오프라인 홍보 를 강화 하 고 특화 된 지역 고객 을 대상 으로 하 는 차별 화 된 상품 기획 에 치중 할 것 이 라고 워너 투어 는 밝혔 다 골드 투어 는 지난 6 7 월 성수기 에 7 개 일간지 에 5 단 크기 로 여행 상품 모 객 광고 를 내보냈 다 신문 광고 는 오프라인 여행사 들 의 전통 적 인 홍보 수단 으로 온라인 업체 들 은 시도 하 지 않 았 던 방법 이 다 골드 투어 는 이 와 함께 여행 상품 도매 업체 인 여행 명가 와 업무 제휴 를 맺 고 여행사 뿐 아니 라 숙박 업체 렌터카 업체 등 과 도 제휴 를 추진 오프라인 영업 수단 확보 에 열 을 올리 고 있 다 웹투어 는 지난달 여행사 로 는 처음 으로 경주 의 코 레스코 가족 콘도 를 인수 해 눈길 을 끌 었 다 여행사 가 오프라인 인프라 를 직접 확보 함 으로써 상품 판매 에 보다 효율 을 기할 수 있 을 것 이 라고 이 회사 는 설명 했 다 워너 투어 닷컴 의 변 성문 사장 은 아직 인터넷 으로 여행 상품 을 구매 하 는 고객 이 많 지 않 은 상황 에서 불 특정 다수 를 상대 로 하 는 온라인 영업 은 한계 가 있 다며 오프라인 마케팅 을 병행 함 과 동시 에 특화 된 상품 으로 살길 을 찾 아야 한다고 말 했 다 yy yonhapnews co kr 끝 저 작 권 자 c 연 합 뉴 스 무 단 전 재 재 배 포 금 지 \n",
      "실제 요약 : 온라인 여행사 오프라인 마케팅 강화 바람 \n",
      "예측 요약 :  인터넷 사이트 에 도 등장\n",
      "\n",
      "\n",
      "원문 : 청주 연합뉴스 김상훈 기자 파업 37 일 째 를 맞 은 충북 대 병원 의 노사 가 지난 1 일 부터 시작 된 마라톤 협상 에 이 어 4 일 오후 부터 재단 이 사장 주자문 총장 의 중재 로 협상 을 벌였으나 끝내 합의 점 을 찾 지 못했 다 노사 는 6 일 오전 0 시 께 까지 주 총장 중재 로 쟁점 사항 에 대한 협상 을 벌였으나 병원 이 중징계 를 결정 했 던 노조원 처리 문제 등 에서 큰 입장 차 를 보였 다 양 측 은 협상 을 통해 노조 의 파업 에 대한 사과 양측 제기 고소 고발 전면 취하 무 노동 무 임금 원칙 대로 처리 미타결 단 협 안 중재 신청 등 쟁점 사항 에 의견 일치 를 보여 한때 협상 이 급류 를 타 는 듯 했 다 양 측 은 그러나 병원 이 인사 위원회 를 열 어 징계 를 결정 한 노조원 20 명 에 대한 처리 문제 를 놓 고 장시간 의 줄다리기 를 벌인 결과 서로 의 입장 차이 만 을 확인 한 채 돌아섰 다 병원 측 은 협상 초기 노조원 일부 해고 필수 등 강경 입장 을 취했으나 주 총장 의 해고 배제 권고 에 따라 응급실 등 비 정지 업무 를 단체 협약 에 포함 시키 는 것 을 전제 로 재심 청구 를 통한 징계 수위 경감 안 을 제시 했 다 반면 노조 는 노조원 2 명 의 경징계 입장 을 폈 고 병원 측 이 제시 한 재심 을 통한 징계 수위 재고 에 대해 징계 인원 수 와 징계 수위 가 명시 되 지 않 았 다는 이유 로 병원 측 안 에 제동 을 건 것 으로 알려졌 다 결국 노사 는 스스로 의 협상 과 지노위 및 총장 의 중재 를 통한 협상 에서 아무런 성과 도 거두 지 못한 채 파업 36 일 째 협상 을 마무리지 었 고 이 에 따라 협상 재개 마저 불 투명 한 상태 에 놓이 게 됐 다 meolakim yonhapnews co kr 끝 저 작 권 자 c 연 합 뉴 스 무 단 전 재 재 배 포 금 지 \n",
      "실제 요약 : 37 일 째 파업 충북 대 병원 노사 협상 결렬 \n",
      "예측 요약 :  김대통령 새 총리 에 협상 돌입\n",
      "\n",
      "\n",
      "원문 : 서울 연합뉴스 전준 상 기자 지난 24 일 부터 이틀 째 내림세 를 보였 던 원 달러환 율 이 큰 폭 으로 상승 했 다 26 일 외환 시장 에서 원 달러 환율 은 전날 과 같 은 1 천 129 90 원 에 시작 했으나 현대그룹 문제 로 주식 시장 이 폭락 한 데 영향 을 받 아 상승 장중 한때 1 천 138 40 원 까지 올랐 다가 결국 6 60 원 오른 1 천 136 50 원 에 마감 됐 다 원 달러 환율 은 지난 23 일 1 천 134 40 원 에서 24 일 1 천 133 00 원 으로 떨어진 뒤 25 일 에 도 1 천 129 90 원 으로 하락 이틀 째 내림세 를 보였었 다 외환은행 딜러 는 이날 장 에서 는 팔자 물량 이 거의 없 고 매수 세력 만 있 어 원 달러 환율 이 큰 폭 으로 상승 했 다며 금융 시장 이 계속 불안 해 질 경우 1 천 150 원대 진입 도 가능 할 것 이 라고 전망 했 다 한편 자금 시장 에서 는 거래 가 극히 부진 한 가운데 보합세 를 보였 다 3 년 만기 국고 채 는 전날 보다 0 01 포인트 오른 연 8 99 를 기록 했으나 3 년 만기 회사채 는 전날 과 같 은 연 9 95 를 나타냈 다 91 일 만기 양도 성 예금 증서 cd 는 전날 과 같 은 연 7 16 에 마감 됐 고 기업어음 cp 도 연 7 56 로 전날 과 같 았 다 한편 하루 짜리 콜 금리 는 오후 4 시 30 분 현재 전날 보다 0 09 포인트 상승 한 연 5 18 에 형성 됐 다 chunjs yonhapnews co kr 끝 저 작 권 자 c 연 합 뉴 스 무 단 전 재 재 배 포 금 지 \n",
      "실제 요약 : 환율 큰 폭 상승 \n",
      "예측 요약 :  주가 지수 소폭 하락\n",
      "\n",
      "\n",
      "원문 : 변상호 한 일 양국 은 18 19 일 이틀 간 도쿄 에서 제 2 차 고위 경제 협의회 를 개최 한다 외교통상부 는 이번 회의 에서 는 양국 의 거시경제 현황 과 정책 방향 에 대한 논의 와 등 다자 외교 무대 에서 의 협력 방안 이 협의 될 것 이 라고 17 일 밝혔 다 특히 올 7 월 과 10 월 각각 일본 과 우리 나라 에서 열리 는 선진국 7 정상 회의 와 제 3 차 정상 회의 의 성공 적 인 개최 를 위한 양국 간 협력 방안 이 심 도 있 게 논의 될 예정 이 다 우리 쪽 에서 는 정의용 외교통상부 통상 교섭 조정관 일본 에서 는 요 시지 외무성 외 무심 의 관 이 수석대표 로 참석 한다 \n",
      "실제 요약 : 한 일 18 19 일 제 2 차 고위 경제 협의회 개최 \n",
      "예측 요약 :  일반 중국 에 국제 유가 는 제 2 차 회의\n",
      "\n",
      "\n",
      "원문 : 서울 연합뉴스 김영묵 기자 시장 질서 교란 을 막 기 위해 상장 또는 등록 주식 의 일정 비율 이상 주문 은 아예 접수 되 지 않 는 시스템 개선 이 이뤄질 전망 이 다 14 일 금융 감독원 에 따르 면 최근 주식 시장 에서 주문 조작 실수 로 인한 대 규모 매매 주문 이 투자자 들 에게 혼선 을 야기 하 고 시장 질서 를 교란 하 는 사례 가 자주 발생 주문 시스템 의 개선 필요 성 이 대두 되 고 있 다 금감원 의 고위 관계자 는 최근 주문 조작 실수 가 자주 발생 하 는 데 고의 는 아니 라도 시장 에 대한 투자자 들 의 신뢰 를 떨어뜨리 는 요인 임 에 틀림없 다 라며 시장 의 신뢰 를 높일 수 있 는 주문 시스템 개선 을 검토 하 고 있 다고 밝혔 다 금감원 은 이 에 따라 상장 거래소 또는 등록 코스닥 주식 의 일정 비율 이상 주문 은 아예 접수 되 지 않 도록 하 는 방안 을 적극 검토 중 이 다 이 는 공매도 를 제한 하 는 데 도 효과 가 있 는 것 으로 증권 업계 에서 도 가장 현실 적 이 고 효과 적 인 방법 으로 제시 하 는 방안 이 다 증권 업계 의 한 관계자 는 주문 시스템 으로 이상 주문 을 거를 수 있 다면 공매도 를 제한 하 기 위해 증권사 가 고객 인 기관 투자가 에게 결제 이행 여부 를 확인 하 는 번거 로움 을 줄일 수 있 다고 말 했 다 이 관계자 는 아울러 코스닥 시장 의 대성 미생물 증권 거래소 의 lg 전자 경우 처럼 조작 실수 로 인한 대 규모 매매 주문 도 쉽 게 막 을 수 있 을 것 이 라고 설명 했 다 지난 달 말 코스닥 시장 에서 는 굿모닝 증권 창구 를 통해 대성 미생물 주식 3 억 주 매수 주문 이 이달 5 일 에 는 한 화증 권 창구 를 통해 lg 전자 주식 5 천만 주 의 매도 주문 이 접수 돼 투자자 들 이 큰 혼선 을 빚 었 다 특히 lg 전자 매도 주문 의 경우 주문 조작 실수 로 밝혀졌 지만 시장 에서 는 공매도 의혹 을 불러일으켰 다 economan yonhapnews co kr 끝 저 작 권 자 c 연 합 뉴 스 무 단 전 재 재 배 포 금 지 \n",
      "실제 요약 : 상장 등록 주식 일정 비율 이상 주문 불가 \n",
      "예측 요약 :  증시 공시 분석 합병 성 증권\n",
      "\n",
      "\n"
     ]
    }
   ],
   "source": [
    "for i in range(50, 55):\n",
    "    print(\"원문 :\", seq2text(encoder_input_test[i]))\n",
    "    print(\"실제 요약 :\", seq2summary(decoder_input_test[i]))\n",
    "    print(\"예측 요약 :\", decode_sequence(encoder_input_test[i].reshape(1, text_max_len)))\n",
    "    print(\"\\n\")"
   ]
  },
  {
   "cell_type": "code",
   "execution_count": null,
   "metadata": {},
   "outputs": [],
   "source": [
    "import requests\n",
    "from summa.summarizer import summarize"
   ]
  },
  {
   "cell_type": "code",
   "execution_count": null,
   "metadata": {},
   "outputs": [],
   "source": [
    "text = requests.get('http://rare-technologies.com/the_matrix_synopsis.txt').text"
   ]
  },
  {
   "cell_type": "code",
   "execution_count": null,
   "metadata": {},
   "outputs": [
    {
     "name": "stdout",
     "output_type": "stream",
     "text": [
      "The screen is filled with green, cascading code which gives way to the title, The Matrix.\n",
      "\n",
      "A phone rings and text appears on the screen: \"Call trans opt: received. 2-19-98 13:24:18 REC: Log>\" As a conversation takes place between Trinity (Carrie-Anne Moss) and Cypher (Joe Pantoliano), two free humans, a table of random green numbers are being scanned and individual numbers selected, creating a series of digits not unlike an ordinary phone number, as if a code is being deciphered or a call is being traced.\n",
      "\n",
      "Trinity discusses some unknown person. Cypher taunts Trinity, suggesting she enjoys watching him. Trinity counters that \"Morpheus (Laurence Fishburne) says he may be 'the One',\" just as the sound of a number being selected alerts Trinity that someone may be tracing their call. She ends the call.\n",
      "\n",
      "Armed policemen move down a darkened, decrepit hallway in the Heart O' the City Hotel, their flashlight beam bouncing just ahead of them. They come to room 303, kick down the door and find a woman dressed in black, facing away from them. It's Trinity. She brings her hands up from the laptop she's working on at their command.\n",
      "\n",
      "Outside the hotel a car drives up and three agents appear in neatly pressed black suits. They are Agent Smith (Hugo Weaving), Agent Brown (Paul Goddard), and Agent Jones (Robert Taylor). Agent Smith and the presiding police lieutenant argue. Agent Smith admonishes the policeman that they were given specific orders to contact the agents first, for their\n"
     ]
    }
   ],
   "source": [
    "print(text[:1500])"
   ]
  },
  {
   "cell_type": "code",
   "execution_count": null,
   "metadata": {},
   "outputs": [
    {
     "name": "stdout",
     "output_type": "stream",
     "text": [
      "Summary:\n",
      "Morpheus, Trinity, Neo, Apoc, Switch, Mouse and Cypher are jacked into the Matrix.\n",
      "Trinity brings the helicopter down to the floor that Morpheus is on and Neo opens fire on the three Agents.\n"
     ]
    }
   ],
   "source": [
    "print('Summary:')\n",
    "print(summarize(text, ratio=0.005))"
   ]
  },
  {
   "cell_type": "code",
   "execution_count": null,
   "metadata": {},
   "outputs": [
    {
     "name": "stdout",
     "output_type": "stream",
     "text": [
      "Summary:\n",
      "['Morpheus, Trinity, Neo, Apoc, Switch, Mouse and Cypher are jacked into the Matrix.', 'Trinity brings the helicopter down to the floor that Morpheus is on and Neo opens fire on the three Agents.']\n"
     ]
    }
   ],
   "source": [
    "print('Summary:')\n",
    "print(summarize(text, ratio=0.005, split=True))"
   ]
  },
  {
   "cell_type": "code",
   "execution_count": null,
   "metadata": {},
   "outputs": [
    {
     "name": "stdout",
     "output_type": "stream",
     "text": [
      "Summary:\n",
      "Trinity takes Neo to Morpheus.\n",
      "Morpheus, Trinity, Neo, Apoc, Switch, Mouse and Cypher are jacked into the Matrix.\n",
      "Trinity brings the helicopter down to the floor that Morpheus is on and Neo opens fire on the three Agents.\n"
     ]
    }
   ],
   "source": [
    "print('Summary:')\n",
    "print(summarize(text, words=50))"
   ]
  },
  {
   "cell_type": "code",
   "execution_count": null,
   "metadata": {},
   "outputs": [
    {
     "name": "stdout",
     "output_type": "stream",
     "text": [
      "3.6.5\n",
      "2.6.0\n",
      "1.2.0\n"
     ]
    }
   ],
   "source": [
    "from importlib.metadata import version\n",
    "import nltk\n",
    "import tensorflow\n",
    "import summa\n",
    "\n",
    "print(nltk.__version__)\n",
    "print(tensorflow.__version__)\n",
    "print(version('summa'))"
   ]
  },
  {
   "cell_type": "code",
   "execution_count": null,
   "metadata": {},
   "outputs": [],
   "source": [
    "import urllib.request\n",
    "urllib.request.urlretrieve(\"https://raw.githubusercontent.com/sunnysai12345/News_Summary/master/news_summary_more.csv\", filename=\"news_summary_more.csv\")\n",
    "data = pd.read_csv('news_summary_more.csv', encoding='iso-8859-1')"
   ]
  },
  {
   "cell_type": "code",
   "execution_count": null,
   "metadata": {},
   "outputs": [
    {
     "data": {
      "text/html": [
       "<div>\n",
       "<style scoped>\n",
       "    .dataframe tbody tr th:only-of-type {\n",
       "        vertical-align: middle;\n",
       "    }\n",
       "\n",
       "    .dataframe tbody tr th {\n",
       "        vertical-align: top;\n",
       "    }\n",
       "\n",
       "    .dataframe thead th {\n",
       "        text-align: right;\n",
       "    }\n",
       "</style>\n",
       "<table border=\"1\" class=\"dataframe\">\n",
       "  <thead>\n",
       "    <tr style=\"text-align: right;\">\n",
       "      <th></th>\n",
       "      <th>headlines</th>\n",
       "      <th>text</th>\n",
       "    </tr>\n",
       "  </thead>\n",
       "  <tbody>\n",
       "    <tr>\n",
       "      <th>26407</th>\n",
       "      <td>Pumps in Thai cave failed just after last boy ...</td>\n",
       "      <td>The water pumps draining the flooded cave in T...</td>\n",
       "    </tr>\n",
       "    <tr>\n",
       "      <th>47358</th>\n",
       "      <td>Shoaib Akhtar named brand ambassador of Pak Cr...</td>\n",
       "      <td>Former Pakistani fast bowler Shoaib Akhtar has...</td>\n",
       "    </tr>\n",
       "    <tr>\n",
       "      <th>35085</th>\n",
       "      <td>2 wickets in 2 balls happen twice in the same ...</td>\n",
       "      <td>During the MI-RCB IPL match on Tuesday, two wi...</td>\n",
       "    </tr>\n",
       "    <tr>\n",
       "      <th>14139</th>\n",
       "      <td>WhatsApp sets up system to store payments data...</td>\n",
       "      <td>Facebook-owned messaging service WhatsApp has ...</td>\n",
       "    </tr>\n",
       "    <tr>\n",
       "      <th>22052</th>\n",
       "      <td>Bajaj Electricals MD Anant Bajaj passes away a...</td>\n",
       "      <td>The Managing Director (MD) of Bajaj Electrical...</td>\n",
       "    </tr>\n",
       "    <tr>\n",
       "      <th>42296</th>\n",
       "      <td>Russia supplying arms to the Taliban: US</td>\n",
       "      <td>The Commander of US forces in Afghanistan, Gen...</td>\n",
       "    </tr>\n",
       "    <tr>\n",
       "      <th>62012</th>\n",
       "      <td>Bitcoin not to be used for payments for now: R...</td>\n",
       "      <td>Executive Director of Reserve Bank of India S ...</td>\n",
       "    </tr>\n",
       "    <tr>\n",
       "      <th>27758</th>\n",
       "      <td>Instagram may let users ask questions in Stories</td>\n",
       "      <td>Facebook-owned photo-sharing app Instagram is ...</td>\n",
       "    </tr>\n",
       "    <tr>\n",
       "      <th>45404</th>\n",
       "      <td>Who are the nominees for Best Actor at Oscars ...</td>\n",
       "      <td>Denzel Washington is among the nominees for th...</td>\n",
       "    </tr>\n",
       "    <tr>\n",
       "      <th>18323</th>\n",
       "      <td>BJP govt is India's most non-performing asset:...</td>\n",
       "      <td>Ahead of the release of his new book, senior C...</td>\n",
       "    </tr>\n",
       "  </tbody>\n",
       "</table>\n",
       "</div>"
      ],
      "text/plain": [
       "                                               headlines  \\\n",
       "26407  Pumps in Thai cave failed just after last boy ...   \n",
       "47358  Shoaib Akhtar named brand ambassador of Pak Cr...   \n",
       "35085  2 wickets in 2 balls happen twice in the same ...   \n",
       "14139  WhatsApp sets up system to store payments data...   \n",
       "22052  Bajaj Electricals MD Anant Bajaj passes away a...   \n",
       "42296           Russia supplying arms to the Taliban: US   \n",
       "62012  Bitcoin not to be used for payments for now: R...   \n",
       "27758   Instagram may let users ask questions in Stories   \n",
       "45404  Who are the nominees for Best Actor at Oscars ...   \n",
       "18323  BJP govt is India's most non-performing asset:...   \n",
       "\n",
       "                                                    text  \n",
       "26407  The water pumps draining the flooded cave in T...  \n",
       "47358  Former Pakistani fast bowler Shoaib Akhtar has...  \n",
       "35085  During the MI-RCB IPL match on Tuesday, two wi...  \n",
       "14139  Facebook-owned messaging service WhatsApp has ...  \n",
       "22052  The Managing Director (MD) of Bajaj Electrical...  \n",
       "42296  The Commander of US forces in Afghanistan, Gen...  \n",
       "62012  Executive Director of Reserve Bank of India S ...  \n",
       "27758  Facebook-owned photo-sharing app Instagram is ...  \n",
       "45404  Denzel Washington is among the nominees for th...  \n",
       "18323  Ahead of the release of his new book, senior C...  "
      ]
     },
     "execution_count": 111,
     "metadata": {},
     "output_type": "execute_result"
    }
   ],
   "source": [
    "data.sample(10)"
   ]
  },
  {
   "cell_type": "code",
   "execution_count": null,
   "metadata": {},
   "outputs": [],
   "source": []
  }
 ],
 "metadata": {
  "interpreter": {
   "hash": "092767183cb03da6ed3f313548119bc9426a350fa7be41c2565ca0e1bc927587"
  },
  "kernelspec": {
   "display_name": "Python 3 (ipykernel)",
   "language": "python",
   "name": "python3"
  },
  "language_info": {
   "codemirror_mode": {
    "name": "ipython",
    "version": 3
   },
   "file_extension": ".py",
   "mimetype": "text/x-python",
   "name": "python",
   "nbconvert_exporter": "python",
   "pygments_lexer": "ipython3",
   "version": "3.9.7"
  },
  "orig_nbformat": 4
 },
 "nbformat": 4,
 "nbformat_minor": 2
}
