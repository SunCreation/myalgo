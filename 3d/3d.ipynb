{
 "cells": [
  {
   "cell_type": "code",
   "execution_count": 4,
   "source": [
    "%matplotlib notebook\n",
    "from mpl_toolkits.mplot3d import Axes3D\n",
    "import matplotlib.pyplot as plt\n",
    "import matplotlib\n",
    "import tkinter\n",
    "# matplotlib.use('Qt5Agg')\n",
    "\n",
    "fig = plt.figure()\n",
    "ax = fig.add_subplot(111, projection='3d')\n",
    "\n",
    "x =[1,2,3,4,5,6,7,8,9,10]\n",
    "y =[5,6,2,3,13,4,1,2,4,8]\n",
    "z =[2,3,3,3,5,7,9,11,9,10]\n",
    "\n",
    "ax.scatter(x, y, z, c='r', marker='o')\n",
    "azim, elev = 0,0\n",
    "ax.view_init(azim=azim, elev=elev)\n",
    "ax.set_xlabel('X Label')\n",
    "ax.set_ylabel('Y Label')\n",
    "ax.set_zlabel('Z Label')\n",
    "\n",
    "hi = plt.savefig(\"hi\",bbox_inches='tight',pad_inches=0.5)\n",
    "plt.show()\n"
   ],
   "outputs": [],
   "metadata": {}
  },
  {
   "cell_type": "code",
   "execution_count": 1,
   "source": [
    "print('hihihi'):"
   ],
   "outputs": [
    {
     "output_type": "error",
     "ename": "SyntaxError",
     "evalue": "invalid syntax (3314623986.py, line 1)",
     "traceback": [
      "\u001b[0;36m  Input \u001b[0;32mIn [1]\u001b[0;36m\u001b[0m\n\u001b[0;31m    print('hihihi'):\u001b[0m\n\u001b[0m                    ^\u001b[0m\n\u001b[0;31mSyntaxError\u001b[0m\u001b[0;31m:\u001b[0m invalid syntax\n"
     ]
    }
   ],
   "metadata": {}
  },
  {
   "cell_type": "code",
   "execution_count": 20,
   "source": [
    "import tkinter as tk\n",
    "\n",
    "window=tk.Tk()\n",
    "window.title(\"Hi\")\n",
    "window.geometry(\"600x100+200+200\")\n",
    "window.resizable(False,False)\n"
   ],
   "outputs": [
    {
     "output_type": "execute_result",
     "data": {
      "text/plain": [
       "''"
      ]
     },
     "metadata": {},
     "execution_count": 20
    }
   ],
   "metadata": {}
  },
  {
   "cell_type": "code",
   "execution_count": 21,
   "source": [
    "def select(self):\n",
    "    value=\"좌우: \" + str(scale.get())\n",
    "    label.config(text=value)"
   ],
   "outputs": [],
   "metadata": {}
  },
  {
   "cell_type": "code",
   "execution_count": 22,
   "source": [
    "var = tk.IntVar()\n",
    "scale = tk.Scale(window, variable=var, command=select, orient=\"horizontal\",showvalue=False, tickinterval=50,to=500, length=300)\n",
    "scale.pack()"
   ],
   "outputs": [],
   "metadata": {}
  },
  {
   "cell_type": "code",
   "execution_count": 23,
   "source": [
    "label=tk.Label(window, text=\"좌우: 0\")\n",
    "label.pack()\n",
    "\n",
    "window.mainloop()\n",
    "\n",
    "print(\"hihi\")"
   ],
   "outputs": [
    {
     "output_type": "stream",
     "name": "stdout",
     "text": [
      "hihi\n"
     ]
    }
   ],
   "metadata": {}
  },
  {
   "cell_type": "code",
   "execution_count": 7,
   "source": [
    "fig = plt.figure()\n",
    "ax = fig.add_subplot(111, projection='3d')\n",
    "\n",
    "x =[1,2,3,4,5,6,7,8,9,10]\n",
    "y =[5,6,2,3,13,4,1,2,4,8]\n",
    "z =[2,3,3,3,5,7,9,11,9,10]\n",
    "\n",
    "ax.scatter(x, y, z, c='r', marker='o')\n",
    "\n",
    "ax.set_xlabel('X Label')\n",
    "ax.set_ylabel('Y Label')\n",
    "ax.set_zlabel('Z Label')\n",
    "\n",
    "plt.show()  "
   ],
   "outputs": [],
   "metadata": {}
  },
  {
   "cell_type": "code",
   "execution_count": null,
   "source": [],
   "outputs": [],
   "metadata": {}
  }
 ],
 "metadata": {
  "interpreter": {
   "hash": "092767183cb03da6ed3f313548119bc9426a350fa7be41c2565ca0e1bc927587"
  },
  "kernelspec": {
   "name": "python3",
   "display_name": "Python 3.8.10 64-bit ('deep': venv)"
  },
  "language_info": {
   "name": "python",
   "version": "3.8.10",
   "mimetype": "text/x-python",
   "codemirror_mode": {
    "name": "ipython",
    "version": 3
   },
   "pygments_lexer": "ipython3",
   "nbconvert_exporter": "python",
   "file_extension": ".py"
  }
 },
 "nbformat": 4,
 "nbformat_minor": 2
}