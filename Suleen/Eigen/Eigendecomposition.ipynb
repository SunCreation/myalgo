{
 "cells": [
  {
   "cell_type": "code",
   "execution_count": 1,
   "source": [
    "import numpy as np\n",
    "import numpy.linalg as la\n",
    "from time import time\n"
   ],
   "outputs": [],
   "metadata": {}
  },
  {
   "cell_type": "code",
   "execution_count": 2,
   "source": [
    "A = np.array([[4,0,-2],[2,5,4],[0,0,5]])\n",
    "A"
   ],
   "outputs": [
    {
     "output_type": "execute_result",
     "data": {
      "text/plain": [
       "array([[ 4,  0, -2],\n",
       "       [ 2,  5,  4],\n",
       "       [ 0,  0,  5]])"
      ]
     },
     "metadata": {},
     "execution_count": 2
    }
   ],
   "metadata": {}
  },
  {
   "cell_type": "code",
   "execution_count": 3,
   "source": [
    "eig_val, eig_vec = la.eig(A)"
   ],
   "outputs": [],
   "metadata": {}
  },
  {
   "cell_type": "code",
   "execution_count": 4,
   "source": [
    "eig_val"
   ],
   "outputs": [
    {
     "output_type": "execute_result",
     "data": {
      "text/plain": [
       "array([5., 4., 5.])"
      ]
     },
     "metadata": {},
     "execution_count": 4
    }
   ],
   "metadata": {}
  },
  {
   "cell_type": "code",
   "execution_count": 5,
   "source": [
    "eig_vec"
   ],
   "outputs": [
    {
     "output_type": "execute_result",
     "data": {
      "text/plain": [
       "array([[ 0.        ,  0.4472136 , -0.89442719],\n",
       "       [ 1.        , -0.89442719,  0.        ],\n",
       "       [ 0.        ,  0.        ,  0.4472136 ]])"
      ]
     },
     "metadata": {},
     "execution_count": 5
    }
   ],
   "metadata": {}
  },
  {
   "cell_type": "code",
   "execution_count": 6,
   "source": [
    "D = np.diag(eig_val)\n",
    "D"
   ],
   "outputs": [
    {
     "output_type": "execute_result",
     "data": {
      "text/plain": [
       "array([[5., 0., 0.],\n",
       "       [0., 4., 0.],\n",
       "       [0., 0., 5.]])"
      ]
     },
     "metadata": {},
     "execution_count": 6
    }
   ],
   "metadata": {}
  },
  {
   "cell_type": "code",
   "execution_count": 8,
   "source": [
    "eig_vec.dot(D).dot(la.inv(eig_vec))"
   ],
   "outputs": [
    {
     "output_type": "execute_result",
     "data": {
      "text/plain": [
       "array([[ 4.,  0., -2.],\n",
       "       [ 2.,  5.,  4.],\n",
       "       [ 0.,  0.,  5.]])"
      ]
     },
     "metadata": {},
     "execution_count": 8
    }
   ],
   "metadata": {}
  },
  {
   "cell_type": "code",
   "execution_count": 9,
   "source": [
    "la.matrix_power(A,5)"
   ],
   "outputs": [
    {
     "output_type": "execute_result",
     "data": {
      "text/plain": [
       "array([[ 1024,     0, -4202],\n",
       "       [ 4202,  3125,  8404],\n",
       "       [    0,     0,  3125]])"
      ]
     },
     "metadata": {},
     "execution_count": 9
    }
   ],
   "metadata": {}
  },
  {
   "cell_type": "code",
   "execution_count": 10,
   "source": [
    "D_power_5 = np.diag(eig_val**5)\n",
    "D_power_5"
   ],
   "outputs": [
    {
     "output_type": "execute_result",
     "data": {
      "text/plain": [
       "array([[3125.,    0.,    0.],\n",
       "       [   0., 1024.,    0.],\n",
       "       [   0.,    0., 3125.]])"
      ]
     },
     "metadata": {},
     "execution_count": 10
    }
   ],
   "metadata": {}
  },
  {
   "cell_type": "code",
   "execution_count": 11,
   "source": [
    "eig_vec.dot(D_power_5).dot(la.inv(eig_vec))"
   ],
   "outputs": [
    {
     "output_type": "execute_result",
     "data": {
      "text/plain": [
       "array([[ 1024.,     0., -4202.],\n",
       "       [ 4202.,  3125.,  8404.],\n",
       "       [    0.,     0.,  3125.]])"
      ]
     },
     "metadata": {},
     "execution_count": 11
    }
   ],
   "metadata": {}
  },
  {
   "cell_type": "code",
   "execution_count": 15,
   "source": [
    "A = np.random.rand(5,5)\n",
    "print(A)\n",
    "A = A + A.T\n",
    "print(A)\n"
   ],
   "outputs": [
    {
     "output_type": "stream",
     "name": "stdout",
     "text": [
      "[[0.15276216 0.40436623 0.08244427 0.8468194  0.26035901]\n",
      " [0.64520762 0.47976941 0.21434972 0.00397307 0.24350709]\n",
      " [0.85203999 0.21730717 0.26519084 0.78145295 0.31134523]\n",
      " [0.73742729 0.81119736 0.09772481 0.79503942 0.20133573]\n",
      " [0.30808626 0.63288956 0.19231913 0.20982146 0.98220076]]\n",
      "[[0.30552432 1.04957386 0.93448426 1.58424669 0.56844528]\n",
      " [1.04957386 0.95953881 0.43165689 0.81517043 0.87639665]\n",
      " [0.93448426 0.43165689 0.53038168 0.87917776 0.50366436]\n",
      " [1.58424669 0.81517043 0.87917776 1.59007884 0.41115719]\n",
      " [0.56844528 0.87639665 0.50366436 0.41115719 1.96440151]]\n"
     ]
    }
   ],
   "metadata": {}
  },
  {
   "cell_type": "code",
   "execution_count": 16,
   "source": [
    "A = A/np.expand_dims(np.sum(A,1), axis = 1)\n",
    "print(A)"
   ],
   "outputs": [
    {
     "output_type": "stream",
     "name": "stdout",
     "text": [
      "[[0.06877655 0.23626948 0.21036167 0.35662963 0.12796267]\n",
      " [0.25399041 0.23220248 0.10445831 0.19726622 0.21208259]\n",
      " [0.28495891 0.1316282  0.16173305 0.26809391 0.15358594]\n",
      " [0.30005633 0.15439328 0.16651627 0.30116094 0.07787317]\n",
      " [0.13146085 0.20267888 0.11647937 0.0950858  0.45429509]]\n"
     ]
    }
   ],
   "metadata": {}
  },
  {
   "cell_type": "code",
   "execution_count": 17,
   "source": [
    "np.sum(A,1)"
   ],
   "outputs": [
    {
     "output_type": "execute_result",
     "data": {
      "text/plain": [
       "array([1., 1., 1., 1., 1.])"
      ]
     },
     "metadata": {},
     "execution_count": 17
    }
   ],
   "metadata": {}
  },
  {
   "cell_type": "code",
   "execution_count": 19,
   "source": [
    "np.expand_dims(np.sum(A,1), axis = 1)"
   ],
   "outputs": [
    {
     "output_type": "execute_result",
     "data": {
      "text/plain": [
       "array([[1.],\n",
       "       [1.],\n",
       "       [1.],\n",
       "       [1.],\n",
       "       [1.]])"
      ]
     },
     "metadata": {},
     "execution_count": 19
    }
   ],
   "metadata": {}
  },
  {
   "cell_type": "code",
   "execution_count": 25,
   "source": [
    "x = np.random.rand(5)\n",
    "n_times = 10000000\n",
    "\n",
    "y = x\n",
    "st = time()\n",
    "\n",
    "for i in range(n_times):\n",
    "    y = A.dot(y)\n",
    "print(y)\n",
    "print(time() - st)\n",
    "y = x\n",
    "st= time()\n",
    "y = la.matrix_power(A, n_times).dot(y)\n",
    "print(y)\n",
    "print(time() -st)\n",
    "\n",
    "y = x\n",
    "\n",
    "\n",
    "st = time()\n",
    "\n",
    "eig_val, V = la.eig(A)\n",
    "D = np.diag(eig_val)\n",
    "# A^N_times y =  V eig_v^n_times V^-1 y\n",
    "y = V.dot((eig_val**n_times)*la.solve(V,y))\n",
    "print(y)\n",
    "print(time() -st)"
   ],
   "outputs": [
    {
     "output_type": "stream",
     "name": "stdout",
     "text": [
      "[0.67817729 0.67817729 0.67817729 0.67817729 0.67817729]\n",
      "5.999258041381836\n",
      "[0.67817729 0.67817729 0.67817729 0.67817729 0.67817729]\n",
      "0.0004208087921142578\n",
      "[0.67817729 0.67817729 0.67817729 0.67817729 0.67817729]\n",
      "0.0008487701416015625\n"
     ]
    }
   ],
   "metadata": {}
  },
  {
   "cell_type": "code",
   "execution_count": null,
   "source": [],
   "outputs": [],
   "metadata": {}
  }
 ],
 "metadata": {
  "orig_nbformat": 4,
  "language_info": {
   "name": "python",
   "version": "3.8.10",
   "mimetype": "text/x-python",
   "codemirror_mode": {
    "name": "ipython",
    "version": 3
   },
   "pygments_lexer": "ipython3",
   "nbconvert_exporter": "python",
   "file_extension": ".py"
  },
  "kernelspec": {
   "name": "python3",
   "display_name": "Python 3.8.10 64-bit"
  },
  "interpreter": {
   "hash": "916dbcbb3f70747c44a77c7bcd40155683ae19c65e1c03b4aa3499c5328201f1"
  }
 },
 "nbformat": 4,
 "nbformat_minor": 2
}