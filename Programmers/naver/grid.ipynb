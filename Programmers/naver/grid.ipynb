{
 "cells": [
  {
   "cell_type": "code",
   "execution_count": 4,
   "source": [
    "from PIL import Image, ImageDraw\n",
    "import matplotlib.pyplot as plt\n",
    "if __name__ == '__main__':\n",
    "    height = 600\n",
    "    width = 600\n",
    "    image = Image.new(mode='P', size=(height, width), color=255)\n",
    "    # Draw a line\n",
    "    draw = ImageDraw.Draw(image)\n",
    "    x = image.width / 2\n",
    "    y_start = 0\n",
    "    y_end = image.height\n",
    "    line = ((x, y_start), (x, y_end))\n",
    "    draw.line(line, fill=128)\n",
    "    del draw\n",
    "    plt.imshow(image)"
   ],
   "outputs": [
    {
     "output_type": "display_data",
     "data": {
      "image/png": "[encoded data removed]",
      "text/plain": [
       "<Figure size 432x288 with 1 Axes>"
      ]
     },
     "metadata": {
      "needs_background": "light"
     }
    }
   ],
   "metadata": {}
  },
  {
   "cell_type": "code",
   "execution_count": null,
   "source": [],
   "outputs": [],
   "metadata": {}
  }
 ],
 "metadata": {
  "orig_nbformat": 4,
  "language_info": {
   "name": "python",
   "version": "3.8.10",
   "mimetype": "text/x-python",
   "codemirror_mode": {
    "name": "ipython",
    "version": 3
   },
   "pygments_lexer": "ipython3",
   "nbconvert_exporter": "python",
   "file_extension": ".py"
  },
  "kernelspec": {
   "name": "python3",
   "display_name": "Python 3.8.10 64-bit ('analysis': venv)"
  },
  "interpreter": {
   "hash": "da1bc25f0a14767b87a2da66f259e240bdb82c6ab2e6fbc74b290106645bc35d"
  }
 },
 "nbformat": 4,
 "nbformat_minor": 2
}